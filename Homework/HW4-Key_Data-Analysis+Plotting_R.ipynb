{
 "cells": [
  {
   "cell_type": "markdown",
   "metadata": {
    "nbgrader": {
     "grade": false,
     "grade_id": "cell-36395415d8ed8cc1",
     "locked": true,
     "schema_version": 3,
     "solution": false,
     "task": false
    }
   },
   "source": [
    "# Homework 4: Data Analysis and Plotting in R\n",
    "Curated by Sabah Ul-Hasan, Karthik Gangavarapu, Shang-Fu Chen, Huitian Dao, and Andrew Su\n",
    "\n",
    "Complete homework is due every Tuesday at 8 AM PST. <br>\n",
    "Save your homework as you go, so the efforts don't get lost. <br>\n",
    "Note there are up 12 points, but you can only receive 10 points total for homework.\n",
    "\n",
    "In this assignment, you will <br>\n",
    "A4.aa Solidfy your understanding of R syntax and loops <br>\n",
    "A4.ab Explore basic data analysis in R <br>\n",
    "A4.ba Create R scripts that output figures based on data analysis <br>\n",
    "A4.bb Solidfy your understanding of data analysis and visualizatoin in R by practice\n",
    "\n",
    "Note that there is a section at the end (A4.bb) to point out any enhancements you personally would make to this assignment if you were to lead the course. \n",
    "\n",
    "\n",
    "<font color = 'red' size = \"4\"><b>NOTE: Execute the code cell below to import the `testthat` library before you started working on the questions.</b></font>"
   ]
  },
  {
   "cell_type": "code",
   "execution_count": 8,
   "metadata": {
    "nbgrader": {
     "grade": false,
     "grade_id": "cell-2f80cb39a074a175",
     "locked": true,
     "schema_version": 3,
     "solution": false,
     "task": false
    }
   },
   "outputs": [],
   "source": [
    "# Import the required R library for test case and autograding\n",
    "library(testthat)"
   ]
  },
  {
   "cell_type": "markdown",
   "metadata": {
    "nbgrader": {
     "grade": false,
     "grade_id": "cell-485204143c73a0b2",
     "locked": true,
     "schema_version": 3,
     "solution": false,
     "task": false
    }
   },
   "source": [
    "## A4.aa: Solidfy your understanding of R syntax and loops [20-30 min] Group of 3 "
   ]
  },
  {
   "cell_type": "markdown",
   "metadata": {
    "nbgrader": {
     "grade": false,
     "grade_id": "cell-0990bfa6c80e4611",
     "locked": true,
     "schema_version": 3,
     "solution": false,
     "task": false
    }
   },
   "source": [
    "### Question 1 (1 point)\n",
    "\n",
    "1. Code review: Take turns briefly talking through your code and process (3-5 min), then spend the remaining time discussing the different approaches you may have taken to get to the same end-goal. What were the interesting aspects you learned from each other? Share your notes below. Include your assessment of how loops compare in bash vs R.  \n",
    "1. For the last 5 minutes on your own, think of a suggestion of something you would've liked to learn in relation to these topics that we didn't cover."
   ]
  },
  {
   "cell_type": "markdown",
   "metadata": {
    "nbgrader": {
     "grade": true,
     "grade_id": "cell-780902df8abd490c",
     "locked": false,
     "points": 1,
     "schema_version": 3,
     "solution": true,
     "task": false
    }
   },
   "source": []
  },
  {
   "cell_type": "markdown",
   "metadata": {
    "nbgrader": {
     "grade": false,
     "grade_id": "cell-c48076df4f80d2fa",
     "locked": true,
     "schema_version": 3,
     "solution": false,
     "task": false
    }
   },
   "source": [
    "## A4.ab: Explore basic data analysis in R [20-30 min] Individual\n",
    "#### ab.i Uploading and exploring your data<br>"
   ]
  },
  {
   "cell_type": "markdown",
   "metadata": {
    "nbgrader": {
     "grade": false,
     "grade_id": "cell-50ef4c6617ce8b57",
     "locked": true,
     "schema_version": 3,
     "solution": false,
     "task": false
    }
   },
   "source": [
    "### Question 2 (1 point)\n",
    "\n",
    "1. Using R script, read the `NAV-D14_DEseq2.csv` file into your notebook as `nav.d14`, save the first 6 rows of the dataframe to a variable named `nav.d14.6` \n",
    "1. Sort the full dataframe by ascending __adjusted__ $p$-value, save the top 10 rows to `nav.d14.sorted.padj.10`  \n",
    "1. How big is the dataframe? Save your answer to `nav.d14.shape`  \n",
    "\n",
    "_(Hint: `read.csv()`, `read.table()`, `head()`, `order()`, `dim()`)_  "
   ]
  },
  {
   "cell_type": "code",
   "execution_count": 12,
   "metadata": {
    "nbgrader": {
     "grade": false,
     "grade_id": "cell-ba73eb7dbae23fae",
     "locked": false,
     "schema_version": 3,
     "solution": true,
     "task": false
    }
   },
   "outputs": [
    {
     "data": {
      "text/html": [
       "<table>\n",
       "<caption>A data.frame: 6 × 7</caption>\n",
       "<thead>\n",
       "\t<tr><th></th><th scope=col>gene.name</th><th scope=col>baseMean</th><th scope=col>log2FoldChange</th><th scope=col>lfcSE</th><th scope=col>stat</th><th scope=col>pvalue</th><th scope=col>padj</th></tr>\n",
       "\t<tr><th></th><th scope=col>&lt;fct&gt;</th><th scope=col>&lt;dbl&gt;</th><th scope=col>&lt;dbl&gt;</th><th scope=col>&lt;dbl&gt;</th><th scope=col>&lt;dbl&gt;</th><th scope=col>&lt;dbl&gt;</th><th scope=col>&lt;dbl&gt;</th></tr>\n",
       "</thead>\n",
       "<tbody>\n",
       "\t<tr><th scope=row>1</th><td>TSPAN6  </td><td> 25.256745</td><td> 1.30246882</td><td>0.4166710</td><td> 3.1258926</td><td>1.772662e-03</td><td>8.209295e-03</td></tr>\n",
       "\t<tr><th scope=row>2</th><td>TNMD    </td><td>  0.288508</td><td>-0.05077872</td><td>0.4875003</td><td>-0.1041614</td><td>9.170413e-01</td><td>          NA</td></tr>\n",
       "\t<tr><th scope=row>3</th><td>DPM1    </td><td>163.507773</td><td>-0.05502833</td><td>0.2492486</td><td>-0.2207769</td><td>8.252662e-01</td><td>9.144493e-01</td></tr>\n",
       "\t<tr><th scope=row>4</th><td>SCYL3   </td><td>296.461713</td><td> 0.27370099</td><td>0.1964251</td><td> 1.3934117</td><td>1.634953e-01</td><td>3.312390e-01</td></tr>\n",
       "\t<tr><th scope=row>5</th><td>C1orf112</td><td>199.011986</td><td>-1.62012005</td><td>0.2833121</td><td>-5.7184998</td><td>1.070000e-08</td><td>1.590000e-07</td></tr>\n",
       "\t<tr><th scope=row>6</th><td>FGR     </td><td>122.792530</td><td>-5.60936805</td><td>0.6378324</td><td>-8.7944226</td><td>1.440000e-18</td><td>7.150000e-17</td></tr>\n",
       "</tbody>\n",
       "</table>\n"
      ],
      "text/latex": [
       "A data.frame: 6 × 7\n",
       "\\begin{tabular}{r|lllllll}\n",
       "  & gene.name & baseMean & log2FoldChange & lfcSE & stat & pvalue & padj\\\\\n",
       "  & <fct> & <dbl> & <dbl> & <dbl> & <dbl> & <dbl> & <dbl>\\\\\n",
       "\\hline\n",
       "\t1 & TSPAN6   &  25.256745 &  1.30246882 & 0.4166710 &  3.1258926 & 1.772662e-03 & 8.209295e-03\\\\\n",
       "\t2 & TNMD     &   0.288508 & -0.05077872 & 0.4875003 & -0.1041614 & 9.170413e-01 &           NA\\\\\n",
       "\t3 & DPM1     & 163.507773 & -0.05502833 & 0.2492486 & -0.2207769 & 8.252662e-01 & 9.144493e-01\\\\\n",
       "\t4 & SCYL3    & 296.461713 &  0.27370099 & 0.1964251 &  1.3934117 & 1.634953e-01 & 3.312390e-01\\\\\n",
       "\t5 & C1orf112 & 199.011986 & -1.62012005 & 0.2833121 & -5.7184998 & 1.070000e-08 & 1.590000e-07\\\\\n",
       "\t6 & FGR      & 122.792530 & -5.60936805 & 0.6378324 & -8.7944226 & 1.440000e-18 & 7.150000e-17\\\\\n",
       "\\end{tabular}\n"
      ],
      "text/markdown": [
       "\n",
       "A data.frame: 6 × 7\n",
       "\n",
       "| <!--/--> | gene.name &lt;fct&gt; | baseMean &lt;dbl&gt; | log2FoldChange &lt;dbl&gt; | lfcSE &lt;dbl&gt; | stat &lt;dbl&gt; | pvalue &lt;dbl&gt; | padj &lt;dbl&gt; |\n",
       "|---|---|---|---|---|---|---|---|\n",
       "| 1 | TSPAN6   |  25.256745 |  1.30246882 | 0.4166710 |  3.1258926 | 1.772662e-03 | 8.209295e-03 |\n",
       "| 2 | TNMD     |   0.288508 | -0.05077872 | 0.4875003 | -0.1041614 | 9.170413e-01 |           NA |\n",
       "| 3 | DPM1     | 163.507773 | -0.05502833 | 0.2492486 | -0.2207769 | 8.252662e-01 | 9.144493e-01 |\n",
       "| 4 | SCYL3    | 296.461713 |  0.27370099 | 0.1964251 |  1.3934117 | 1.634953e-01 | 3.312390e-01 |\n",
       "| 5 | C1orf112 | 199.011986 | -1.62012005 | 0.2833121 | -5.7184998 | 1.070000e-08 | 1.590000e-07 |\n",
       "| 6 | FGR      | 122.792530 | -5.60936805 | 0.6378324 | -8.7944226 | 1.440000e-18 | 7.150000e-17 |\n",
       "\n"
      ],
      "text/plain": [
       "  gene.name baseMean   log2FoldChange lfcSE     stat       pvalue      \n",
       "1 TSPAN6     25.256745  1.30246882    0.4166710  3.1258926 1.772662e-03\n",
       "2 TNMD        0.288508 -0.05077872    0.4875003 -0.1041614 9.170413e-01\n",
       "3 DPM1      163.507773 -0.05502833    0.2492486 -0.2207769 8.252662e-01\n",
       "4 SCYL3     296.461713  0.27370099    0.1964251  1.3934117 1.634953e-01\n",
       "5 C1orf112  199.011986 -1.62012005    0.2833121 -5.7184998 1.070000e-08\n",
       "6 FGR       122.792530 -5.60936805    0.6378324 -8.7944226 1.440000e-18\n",
       "  padj        \n",
       "1 8.209295e-03\n",
       "2           NA\n",
       "3 9.144493e-01\n",
       "4 3.312390e-01\n",
       "5 1.590000e-07\n",
       "6 7.150000e-17"
      ]
     },
     "metadata": {},
     "output_type": "display_data"
    },
    {
     "data": {
      "text/html": [
       "<table>\n",
       "<caption>A data.frame: 10 × 7</caption>\n",
       "<thead>\n",
       "\t<tr><th></th><th scope=col>gene.name</th><th scope=col>baseMean</th><th scope=col>log2FoldChange</th><th scope=col>lfcSE</th><th scope=col>stat</th><th scope=col>pvalue</th><th scope=col>padj</th></tr>\n",
       "\t<tr><th></th><th scope=col>&lt;fct&gt;</th><th scope=col>&lt;dbl&gt;</th><th scope=col>&lt;dbl&gt;</th><th scope=col>&lt;dbl&gt;</th><th scope=col>&lt;dbl&gt;</th><th scope=col>&lt;dbl&gt;</th><th scope=col>&lt;dbl&gt;</th></tr>\n",
       "</thead>\n",
       "<tbody>\n",
       "\t<tr><th scope=row>469</th><td>TNFRSF1B</td><td> 542.82545</td><td>-3.406411</td><td>0.2267235</td><td>-15.024517</td><td>5.07e-51</td><td>3.25e-48</td></tr>\n",
       "\t<tr><th scope=row>394</th><td>CD74    </td><td>2666.66747</td><td>-3.133593</td><td>0.2146900</td><td>-14.595896</td><td>2.98e-48</td><td>1.54e-45</td></tr>\n",
       "\t<tr><th scope=row>460</th><td>SLAMF7  </td><td> 796.08484</td><td>-5.924170</td><td>0.4107372</td><td>-14.423262</td><td>3.69e-47</td><td>1.85e-44</td></tr>\n",
       "\t<tr><th scope=row>298</th><td>ANLN    </td><td>  86.61972</td><td>-4.292672</td><td>0.3590313</td><td>-11.956260</td><td>6.02e-33</td><td>1.02e-30</td></tr>\n",
       "\t<tr><th scope=row>197</th><td>E2F2    </td><td>  56.39916</td><td>-5.011194</td><td>0.4223203</td><td>-11.865862</td><td>1.78e-32</td><td>2.95e-30</td></tr>\n",
       "\t<tr><th scope=row>76</th><td>SLC25A5 </td><td> 839.58682</td><td>-1.630522</td><td>0.1549378</td><td>-10.523717</td><td>6.72e-26</td><td>6.58e-24</td></tr>\n",
       "\t<tr><th scope=row>482</th><td>HMGB3   </td><td>  84.36925</td><td>-4.387288</td><td>0.4200637</td><td>-10.444341</td><td>1.56e-25</td><td>1.45e-23</td></tr>\n",
       "\t<tr><th scope=row>51</th><td>CD38    </td><td> 651.92593</td><td>-2.934379</td><td>0.2850409</td><td>-10.294588</td><td>7.45e-25</td><td>6.55e-23</td></tr>\n",
       "\t<tr><th scope=row>319</th><td>ELOVL5  </td><td> 602.36494</td><td>-1.761169</td><td>0.1792978</td><td> -9.822591</td><td>9.00e-23</td><td>6.50e-21</td></tr>\n",
       "\t<tr><th scope=row>139</th><td>AGK     </td><td> 460.52178</td><td>-1.665747</td><td>0.1746063</td><td> -9.540016</td><td>1.43e-21</td><td>9.33e-20</td></tr>\n",
       "</tbody>\n",
       "</table>\n"
      ],
      "text/latex": [
       "A data.frame: 10 × 7\n",
       "\\begin{tabular}{r|lllllll}\n",
       "  & gene.name & baseMean & log2FoldChange & lfcSE & stat & pvalue & padj\\\\\n",
       "  & <fct> & <dbl> & <dbl> & <dbl> & <dbl> & <dbl> & <dbl>\\\\\n",
       "\\hline\n",
       "\t469 & TNFRSF1B &  542.82545 & -3.406411 & 0.2267235 & -15.024517 & 5.07e-51 & 3.25e-48\\\\\n",
       "\t394 & CD74     & 2666.66747 & -3.133593 & 0.2146900 & -14.595896 & 2.98e-48 & 1.54e-45\\\\\n",
       "\t460 & SLAMF7   &  796.08484 & -5.924170 & 0.4107372 & -14.423262 & 3.69e-47 & 1.85e-44\\\\\n",
       "\t298 & ANLN     &   86.61972 & -4.292672 & 0.3590313 & -11.956260 & 6.02e-33 & 1.02e-30\\\\\n",
       "\t197 & E2F2     &   56.39916 & -5.011194 & 0.4223203 & -11.865862 & 1.78e-32 & 2.95e-30\\\\\n",
       "\t76 & SLC25A5  &  839.58682 & -1.630522 & 0.1549378 & -10.523717 & 6.72e-26 & 6.58e-24\\\\\n",
       "\t482 & HMGB3    &   84.36925 & -4.387288 & 0.4200637 & -10.444341 & 1.56e-25 & 1.45e-23\\\\\n",
       "\t51 & CD38     &  651.92593 & -2.934379 & 0.2850409 & -10.294588 & 7.45e-25 & 6.55e-23\\\\\n",
       "\t319 & ELOVL5   &  602.36494 & -1.761169 & 0.1792978 &  -9.822591 & 9.00e-23 & 6.50e-21\\\\\n",
       "\t139 & AGK      &  460.52178 & -1.665747 & 0.1746063 &  -9.540016 & 1.43e-21 & 9.33e-20\\\\\n",
       "\\end{tabular}\n"
      ],
      "text/markdown": [
       "\n",
       "A data.frame: 10 × 7\n",
       "\n",
       "| <!--/--> | gene.name &lt;fct&gt; | baseMean &lt;dbl&gt; | log2FoldChange &lt;dbl&gt; | lfcSE &lt;dbl&gt; | stat &lt;dbl&gt; | pvalue &lt;dbl&gt; | padj &lt;dbl&gt; |\n",
       "|---|---|---|---|---|---|---|---|\n",
       "| 469 | TNFRSF1B |  542.82545 | -3.406411 | 0.2267235 | -15.024517 | 5.07e-51 | 3.25e-48 |\n",
       "| 394 | CD74     | 2666.66747 | -3.133593 | 0.2146900 | -14.595896 | 2.98e-48 | 1.54e-45 |\n",
       "| 460 | SLAMF7   |  796.08484 | -5.924170 | 0.4107372 | -14.423262 | 3.69e-47 | 1.85e-44 |\n",
       "| 298 | ANLN     |   86.61972 | -4.292672 | 0.3590313 | -11.956260 | 6.02e-33 | 1.02e-30 |\n",
       "| 197 | E2F2     |   56.39916 | -5.011194 | 0.4223203 | -11.865862 | 1.78e-32 | 2.95e-30 |\n",
       "| 76 | SLC25A5  |  839.58682 | -1.630522 | 0.1549378 | -10.523717 | 6.72e-26 | 6.58e-24 |\n",
       "| 482 | HMGB3    |   84.36925 | -4.387288 | 0.4200637 | -10.444341 | 1.56e-25 | 1.45e-23 |\n",
       "| 51 | CD38     |  651.92593 | -2.934379 | 0.2850409 | -10.294588 | 7.45e-25 | 6.55e-23 |\n",
       "| 319 | ELOVL5   |  602.36494 | -1.761169 | 0.1792978 |  -9.822591 | 9.00e-23 | 6.50e-21 |\n",
       "| 139 | AGK      |  460.52178 | -1.665747 | 0.1746063 |  -9.540016 | 1.43e-21 | 9.33e-20 |\n",
       "\n"
      ],
      "text/plain": [
       "    gene.name baseMean   log2FoldChange lfcSE     stat       pvalue   padj    \n",
       "469 TNFRSF1B   542.82545 -3.406411      0.2267235 -15.024517 5.07e-51 3.25e-48\n",
       "394 CD74      2666.66747 -3.133593      0.2146900 -14.595896 2.98e-48 1.54e-45\n",
       "460 SLAMF7     796.08484 -5.924170      0.4107372 -14.423262 3.69e-47 1.85e-44\n",
       "298 ANLN        86.61972 -4.292672      0.3590313 -11.956260 6.02e-33 1.02e-30\n",
       "197 E2F2        56.39916 -5.011194      0.4223203 -11.865862 1.78e-32 2.95e-30\n",
       "76  SLC25A5    839.58682 -1.630522      0.1549378 -10.523717 6.72e-26 6.58e-24\n",
       "482 HMGB3       84.36925 -4.387288      0.4200637 -10.444341 1.56e-25 1.45e-23\n",
       "51  CD38       651.92593 -2.934379      0.2850409 -10.294588 7.45e-25 6.55e-23\n",
       "319 ELOVL5     602.36494 -1.761169      0.1792978  -9.822591 9.00e-23 6.50e-21\n",
       "139 AGK        460.52178 -1.665747      0.1746063  -9.540016 1.43e-21 9.33e-20"
      ]
     },
     "metadata": {},
     "output_type": "display_data"
    },
    {
     "data": {
      "text/html": [
       "<style>\n",
       ".list-inline {list-style: none; margin:0; padding: 0}\n",
       ".list-inline>li {display: inline-block}\n",
       ".list-inline>li:not(:last-child)::after {content: \"\\00b7\"; padding: 0 .5ex}\n",
       "</style>\n",
       "<ol class=list-inline><li>500</li><li>7</li></ol>\n"
      ],
      "text/latex": [
       "\\begin{enumerate*}\n",
       "\\item 500\n",
       "\\item 7\n",
       "\\end{enumerate*}\n"
      ],
      "text/markdown": [
       "1. 500\n",
       "2. 7\n",
       "\n",
       "\n"
      ],
      "text/plain": [
       "[1] 500   7"
      ]
     },
     "metadata": {},
     "output_type": "display_data"
    }
   ],
   "source": [
    "### BEGIN MY SOLUTION\n",
    "nav.d14 <- read.csv(\"./data/NAV-D14_DEseq2.csv\")\n",
    "nav.d14.6 <- head(nav.d14)\n",
    "nav.d14.sorted.padj.10 <- head(nav.d14[order(nav.d14$padj),], 10)\n",
    "nav.d14.shape <- dim(nav.d14)\n",
    "### END MY SOLUTION\n",
    "\n",
    "nav.d14.6 # display your answer 1\n",
    "nav.d14.sorted.padj.10 # display your answer 2\n",
    "nav.d14.shape # display your answer 3"
   ]
  },
  {
   "cell_type": "code",
   "execution_count": 121,
   "metadata": {
    "nbgrader": {
     "grade": true,
     "grade_id": "cell-5c19ebaa5ce2faf4",
     "locked": true,
     "points": 0.4,
     "schema_version": 3,
     "solution": false,
     "task": false
    },
    "scrolled": false
   },
   "outputs": [],
   "source": [
    "test_that(\"A1 should be a dataframe\", {\n",
    "    expect_that(nav.d14.6, is_a(\"data.frame\"))\n",
    "})\n",
    "### BEGIN HIDDEN TESTS\n",
    "df <- read.csv(\"./data/NAV-D14_DEseq2.csv\")\n",
    "test_that(\"check A1\", {\n",
    "    expect_that(identical(nav.d14.6, head(df)), is_true())\n",
    "})\n",
    "### END HIDDEN TESTS"
   ]
  },
  {
   "cell_type": "code",
   "execution_count": 122,
   "metadata": {
    "nbgrader": {
     "grade": true,
     "grade_id": "cell-9cab58cc67811c1d",
     "locked": true,
     "points": 0.4,
     "schema_version": 3,
     "solution": false,
     "task": false
    }
   },
   "outputs": [],
   "source": [
    "test_that(\"A2 should be a dataframe\", {\n",
    "    expect_that(nav.d14.sorted.padj.10, is_a(\"data.frame\"))\n",
    "})\n",
    "test_that(\"A2 should have more rows than A1\", {\n",
    "    expect_that(length(rownames(nav.d14.sorted.padj.10)) > length(rownames(nav.d14.6)), is_true())\n",
    "})\n",
    "### BEGIN HIDDEN TESTS\n",
    "df <- read.csv(\"./data/NAV-D14_DEseq2.csv\")\n",
    "test_that(\"check A2\", {\n",
    "    expect_that(identical(nav.d14.sorted.padj.10, head(df[order(df$padj),], 10)), is_true())\n",
    "})\n",
    "### END HIDDEN TESTS"
   ]
  },
  {
   "cell_type": "code",
   "execution_count": 123,
   "metadata": {
    "nbgrader": {
     "grade": true,
     "grade_id": "cell-09c672f5f5b21f1a",
     "locked": true,
     "points": 0.2,
     "schema_version": 3,
     "solution": false,
     "task": false
    }
   },
   "outputs": [],
   "source": [
    "test_that(\"A3 should have 2 values\", {\n",
    "    expect_that(length(nav.d14.shape) == 2, is_true())\n",
    "})\n",
    "### BEGIN HIDDEN TESTS\n",
    "df <- read.csv(\"./data/NAV-D14_DEseq2.csv\")\n",
    "test_that(\"check A3\", {\n",
    "    expect_that(identical(nav.d14.shape, dim(df)), is_true())\n",
    "})\n",
    "### END HIDDEN TESTS"
   ]
  },
  {
   "cell_type": "markdown",
   "metadata": {
    "nbgrader": {
     "grade": false,
     "grade_id": "cell-fef18a71ef87151d",
     "locked": true,
     "schema_version": 3,
     "solution": false,
     "task": false
    }
   },
   "source": [
    "#### ab.ii Analyzing and appending your data"
   ]
  },
  {
   "cell_type": "markdown",
   "metadata": {
    "nbgrader": {
     "grade": false,
     "grade_id": "cell-b573920fcea815a8",
     "locked": true,
     "schema_version": 3,
     "solution": false,
     "task": false
    }
   },
   "source": [
    "### Question 3 (1 point)\n",
    "\n",
    "1. Create a function named `pType` to retun the type of $p$-value by following rules.\n",
    "```ruby\n",
    "# p-value types\n",
    "missing : NA\n",
    "p > 0.05 : 'n.s.'\n",
    "0.05 >= p > 0.01 : '*'\n",
    "0.01 >= p > 0.001 : '**'\n",
    "0.001 >= p > 0.0001 : '***'\n",
    "0.0001 >= p : '****'\n",
    "``` \n",
    "2. Use `pType` with `lapply` to get the type of all values in the $p$-value column (not `padj`) in `nav.d14`. Save the summary counts of each type (as factors) to `nav.d14.summary` \n",
    "3. Assign types of $p$-value to a new column named `ptype` to the same dataframe. (Note: you might have to reload the csv file as Question 1, if you accidentally edit the dataframe in a wrong way.)  \n",
    "_(Hint: `lapply()`, `factor()`, `unlist()`, `summary()`)_"
   ]
  },
  {
   "cell_type": "code",
   "execution_count": 45,
   "metadata": {
    "nbgrader": {
     "grade": false,
     "grade_id": "cell-00cd2e02a76868b7",
     "locked": false,
     "schema_version": 3,
     "solution": true,
     "task": false
    },
    "scrolled": false
   },
   "outputs": [
    {
     "data": {
      "text/html": [
       "<style>\n",
       ".dl-inline {width: auto; margin:0; padding: 0}\n",
       ".dl-inline>dt, .dl-inline>dd {float: none; width: auto; display: inline-block}\n",
       ".dl-inline>dt::after {content: \":\\0020\"; padding-right: .5ex}\n",
       ".dl-inline>dt:not(:first-of-type) {padding-left: .5ex}\n",
       "</style><dl class=dl-inline><dt>*</dt><dd>37</dd><dt>**</dt><dd>34</dd><dt>***</dt><dd>25</dd><dt>****</dt><dd>93</dd><dt>n.s.</dt><dd>306</dd><dt>NA's</dt><dd>5</dd></dl>\n"
      ],
      "text/latex": [
       "\\begin{description*}\n",
       "\\item[*] 37\n",
       "\\item[**] 34\n",
       "\\item[***] 25\n",
       "\\item[****] 93\n",
       "\\item[n.s.] 306\n",
       "\\item[NA's] 5\n",
       "\\end{description*}\n"
      ],
      "text/markdown": [
       "*\n",
       ":   37**\n",
       ":   34***\n",
       ":   25****\n",
       ":   93n.s.\n",
       ":   306NA's\n",
       ":   5\n",
       "\n"
      ],
      "text/plain": [
       "   *   **  *** **** n.s. NA's \n",
       "  37   34   25   93  306    5 "
      ]
     },
     "metadata": {},
     "output_type": "display_data"
    },
    {
     "data": {
      "text/html": [
       "<table>\n",
       "<caption>A data.frame: 6 × 8</caption>\n",
       "<thead>\n",
       "\t<tr><th></th><th scope=col>gene.name</th><th scope=col>baseMean</th><th scope=col>log2FoldChange</th><th scope=col>lfcSE</th><th scope=col>stat</th><th scope=col>pvalue</th><th scope=col>padj</th><th scope=col>ptype</th></tr>\n",
       "\t<tr><th></th><th scope=col>&lt;fct&gt;</th><th scope=col>&lt;dbl&gt;</th><th scope=col>&lt;dbl&gt;</th><th scope=col>&lt;dbl&gt;</th><th scope=col>&lt;dbl&gt;</th><th scope=col>&lt;dbl&gt;</th><th scope=col>&lt;dbl&gt;</th><th scope=col>&lt;fct&gt;</th></tr>\n",
       "</thead>\n",
       "<tbody>\n",
       "\t<tr><th scope=row>1</th><td>TSPAN6  </td><td> 25.256745</td><td> 1.30246882</td><td>0.4166710</td><td> 3.1258926</td><td>1.772662e-03</td><td>8.209295e-03</td><td>**  </td></tr>\n",
       "\t<tr><th scope=row>2</th><td>TNMD    </td><td>  0.288508</td><td>-0.05077872</td><td>0.4875003</td><td>-0.1041614</td><td>9.170413e-01</td><td>          NA</td><td>n.s.</td></tr>\n",
       "\t<tr><th scope=row>3</th><td>DPM1    </td><td>163.507773</td><td>-0.05502833</td><td>0.2492486</td><td>-0.2207769</td><td>8.252662e-01</td><td>9.144493e-01</td><td>n.s.</td></tr>\n",
       "\t<tr><th scope=row>4</th><td>SCYL3   </td><td>296.461713</td><td> 0.27370099</td><td>0.1964251</td><td> 1.3934117</td><td>1.634953e-01</td><td>3.312390e-01</td><td>n.s.</td></tr>\n",
       "\t<tr><th scope=row>5</th><td>C1orf112</td><td>199.011986</td><td>-1.62012005</td><td>0.2833121</td><td>-5.7184998</td><td>1.070000e-08</td><td>1.590000e-07</td><td>****</td></tr>\n",
       "\t<tr><th scope=row>6</th><td>FGR     </td><td>122.792530</td><td>-5.60936805</td><td>0.6378324</td><td>-8.7944226</td><td>1.440000e-18</td><td>7.150000e-17</td><td>****</td></tr>\n",
       "</tbody>\n",
       "</table>\n"
      ],
      "text/latex": [
       "A data.frame: 6 × 8\n",
       "\\begin{tabular}{r|llllllll}\n",
       "  & gene.name & baseMean & log2FoldChange & lfcSE & stat & pvalue & padj & ptype\\\\\n",
       "  & <fct> & <dbl> & <dbl> & <dbl> & <dbl> & <dbl> & <dbl> & <fct>\\\\\n",
       "\\hline\n",
       "\t1 & TSPAN6   &  25.256745 &  1.30246882 & 0.4166710 &  3.1258926 & 1.772662e-03 & 8.209295e-03 & **  \\\\\n",
       "\t2 & TNMD     &   0.288508 & -0.05077872 & 0.4875003 & -0.1041614 & 9.170413e-01 &           NA & n.s.\\\\\n",
       "\t3 & DPM1     & 163.507773 & -0.05502833 & 0.2492486 & -0.2207769 & 8.252662e-01 & 9.144493e-01 & n.s.\\\\\n",
       "\t4 & SCYL3    & 296.461713 &  0.27370099 & 0.1964251 &  1.3934117 & 1.634953e-01 & 3.312390e-01 & n.s.\\\\\n",
       "\t5 & C1orf112 & 199.011986 & -1.62012005 & 0.2833121 & -5.7184998 & 1.070000e-08 & 1.590000e-07 & ****\\\\\n",
       "\t6 & FGR      & 122.792530 & -5.60936805 & 0.6378324 & -8.7944226 & 1.440000e-18 & 7.150000e-17 & ****\\\\\n",
       "\\end{tabular}\n"
      ],
      "text/markdown": [
       "\n",
       "A data.frame: 6 × 8\n",
       "\n",
       "| <!--/--> | gene.name &lt;fct&gt; | baseMean &lt;dbl&gt; | log2FoldChange &lt;dbl&gt; | lfcSE &lt;dbl&gt; | stat &lt;dbl&gt; | pvalue &lt;dbl&gt; | padj &lt;dbl&gt; | ptype &lt;fct&gt; |\n",
       "|---|---|---|---|---|---|---|---|---|\n",
       "| 1 | TSPAN6   |  25.256745 |  1.30246882 | 0.4166710 |  3.1258926 | 1.772662e-03 | 8.209295e-03 | **   |\n",
       "| 2 | TNMD     |   0.288508 | -0.05077872 | 0.4875003 | -0.1041614 | 9.170413e-01 |           NA | n.s. |\n",
       "| 3 | DPM1     | 163.507773 | -0.05502833 | 0.2492486 | -0.2207769 | 8.252662e-01 | 9.144493e-01 | n.s. |\n",
       "| 4 | SCYL3    | 296.461713 |  0.27370099 | 0.1964251 |  1.3934117 | 1.634953e-01 | 3.312390e-01 | n.s. |\n",
       "| 5 | C1orf112 | 199.011986 | -1.62012005 | 0.2833121 | -5.7184998 | 1.070000e-08 | 1.590000e-07 | **** |\n",
       "| 6 | FGR      | 122.792530 | -5.60936805 | 0.6378324 | -8.7944226 | 1.440000e-18 | 7.150000e-17 | **** |\n",
       "\n"
      ],
      "text/plain": [
       "  gene.name baseMean   log2FoldChange lfcSE     stat       pvalue      \n",
       "1 TSPAN6     25.256745  1.30246882    0.4166710  3.1258926 1.772662e-03\n",
       "2 TNMD        0.288508 -0.05077872    0.4875003 -0.1041614 9.170413e-01\n",
       "3 DPM1      163.507773 -0.05502833    0.2492486 -0.2207769 8.252662e-01\n",
       "4 SCYL3     296.461713  0.27370099    0.1964251  1.3934117 1.634953e-01\n",
       "5 C1orf112  199.011986 -1.62012005    0.2833121 -5.7184998 1.070000e-08\n",
       "6 FGR       122.792530 -5.60936805    0.6378324 -8.7944226 1.440000e-18\n",
       "  padj         ptype\n",
       "1 8.209295e-03 **   \n",
       "2           NA n.s. \n",
       "3 9.144493e-01 n.s. \n",
       "4 3.312390e-01 n.s. \n",
       "5 1.590000e-07 **** \n",
       "6 7.150000e-17 **** "
      ]
     },
     "metadata": {},
     "output_type": "display_data"
    }
   ],
   "source": [
    "### BEGIN MY SOLUTION\n",
    "pType <- function(p.val) {\n",
    "    if (is.na(p.val)) {\n",
    "        return(NA)\n",
    "    }\n",
    "    else if(p.val > 0.05) {\n",
    "        return(\"n.s.\")\n",
    "    }\n",
    "    else if(p.val > 0.01) {\n",
    "        return(\"*\")\n",
    "    }\n",
    "    else if(p.val > 0.001) {\n",
    "        return(\"**\")\n",
    "    }\n",
    "    else if(p.val > 0.0001) {\n",
    "        return(\"***\")\n",
    "    }\n",
    "    else {\n",
    "        return(\"****\")\n",
    "    }\n",
    "}\n",
    "        \n",
    "nav.d14.ptype <- factor(unlist(lapply(nav.d14$pvalue, pType)))\n",
    "nav.d14.summary <- summary(nav.d14.ptype)\n",
    "nav.d14$ptype <- nav.d14.ptype\n",
    "### END MY SOLUTION\n",
    "\n",
    "nav.d14.summary # display A2\n",
    "head(nav.d14) # display partial A3"
   ]
  },
  {
   "cell_type": "code",
   "execution_count": 48,
   "metadata": {},
   "outputs": [
    {
     "data": {
      "text/html": [
       "<style>\n",
       ".dl-inline {width: auto; margin:0; padding: 0}\n",
       ".dl-inline>dt, .dl-inline>dd {float: none; width: auto; display: inline-block}\n",
       ".dl-inline>dt::after {content: \":\\0020\"; padding-right: .5ex}\n",
       ".dl-inline>dt:not(:first-of-type) {padding-left: .5ex}\n",
       "</style><dl class=dl-inline><dt>*</dt><dd>37</dd><dt>**</dt><dd>34</dd><dt>***</dt><dd>25</dd><dt>****</dt><dd>93</dd><dt>n.s.</dt><dd>306</dd><dt>NA's</dt><dd>5</dd></dl>\n"
      ],
      "text/latex": [
       "\\begin{description*}\n",
       "\\item[*] 37\n",
       "\\item[**] 34\n",
       "\\item[***] 25\n",
       "\\item[****] 93\n",
       "\\item[n.s.] 306\n",
       "\\item[NA's] 5\n",
       "\\end{description*}\n"
      ],
      "text/markdown": [
       "*\n",
       ":   37**\n",
       ":   34***\n",
       ":   25****\n",
       ":   93n.s.\n",
       ":   306NA's\n",
       ":   5\n",
       "\n"
      ],
      "text/plain": [
       "   *   **  *** **** n.s. NA's \n",
       "  37   34   25   93  306    5 "
      ]
     },
     "metadata": {},
     "output_type": "display_data"
    }
   ],
   "source": [
    "summary(factor(unlist(lapply(nav.d14$pvalue, pType))))"
   ]
  },
  {
   "cell_type": "code",
   "execution_count": 40,
   "metadata": {},
   "outputs": [
    {
     "data": {
      "text/html": [
       "<style>\n",
       ".dl-inline {width: auto; margin:0; padding: 0}\n",
       ".dl-inline>dt, .dl-inline>dd {float: none; width: auto; display: inline-block}\n",
       ".dl-inline>dt::after {content: \":\\0020\"; padding-right: .5ex}\n",
       ".dl-inline>dt:not(:first-of-type) {padding-left: .5ex}\n",
       "</style><dl class=dl-inline><dt>*</dt><dd>37</dd><dt>**</dt><dd>34</dd><dt>***</dt><dd>25</dd><dt>****</dt><dd>93</dd><dt>n.s.</dt><dd>306</dd><dt>NA's</dt><dd>5</dd></dl>\n"
      ],
      "text/latex": [
       "\\begin{description*}\n",
       "\\item[*] 37\n",
       "\\item[**] 34\n",
       "\\item[***] 25\n",
       "\\item[****] 93\n",
       "\\item[n.s.] 306\n",
       "\\item[NA's] 5\n",
       "\\end{description*}\n"
      ],
      "text/markdown": [
       "*\n",
       ":   37**\n",
       ":   34***\n",
       ":   25****\n",
       ":   93n.s.\n",
       ":   306NA's\n",
       ":   5\n",
       "\n"
      ],
      "text/plain": [
       "   *   **  *** **** n.s. NA's \n",
       "  37   34   25   93  306    5 "
      ]
     },
     "metadata": {},
     "output_type": "display_data"
    }
   ],
   "source": [
    "nav.d14.summary"
   ]
  },
  {
   "cell_type": "code",
   "execution_count": 35,
   "metadata": {},
   "outputs": [
    {
     "name": "stdout",
     "output_type": "stream",
     "text": [
      "[1] FALSE FALSE  TRUE FALSE FALSE\n",
      "[1] FALSE FALSE FALSE FALSE FALSE\n",
      "[1] FALSE FALSE FALSE FALSE FALSE\n",
      "[1] FALSE FALSE FALSE FALSE FALSE\n",
      "[1] FALSE FALSE FALSE FALSE  TRUE\n",
      "[1] FALSE FALSE FALSE FALSE  TRUE\n",
      "[1] FALSE FALSE FALSE FALSE FALSE\n",
      "[1] FALSE FALSE  TRUE FALSE FALSE\n",
      "[1] FALSE FALSE  TRUE FALSE FALSE\n",
      "[1] FALSE FALSE FALSE FALSE FALSE\n",
      "[1] FALSE  TRUE FALSE FALSE FALSE\n",
      "[1] FALSE FALSE FALSE FALSE  TRUE\n",
      "[1] FALSE FALSE FALSE FALSE FALSE\n",
      "[1] FALSE FALSE FALSE FALSE  TRUE\n",
      "[1] FALSE FALSE FALSE FALSE FALSE\n",
      "[1] FALSE FALSE FALSE FALSE FALSE\n",
      "[1] FALSE FALSE FALSE FALSE FALSE\n",
      "[1] FALSE FALSE FALSE FALSE FALSE\n",
      "[1] FALSE FALSE FALSE FALSE FALSE\n",
      "[1] FALSE FALSE FALSE FALSE FALSE\n",
      "[1] FALSE FALSE FALSE FALSE FALSE\n",
      "[1] FALSE  TRUE FALSE FALSE FALSE\n",
      "[1] FALSE FALSE FALSE  TRUE FALSE\n",
      "[1] FALSE FALSE FALSE FALSE  TRUE\n",
      "[1] FALSE FALSE FALSE FALSE FALSE\n",
      "[1] FALSE FALSE FALSE FALSE FALSE\n",
      "[1] FALSE FALSE FALSE FALSE FALSE\n",
      "[1] FALSE FALSE FALSE FALSE FALSE\n",
      "[1] FALSE FALSE FALSE FALSE FALSE\n",
      "[1] FALSE FALSE FALSE FALSE  TRUE\n",
      "[1] FALSE FALSE  TRUE FALSE FALSE\n",
      "[1] FALSE FALSE FALSE FALSE FALSE\n",
      "[1] FALSE FALSE FALSE FALSE  TRUE\n",
      "[1] FALSE FALSE FALSE FALSE FALSE\n",
      "[1] TRUE   NA   NA   NA   NA\n",
      "[1] FALSE FALSE FALSE  TRUE FALSE\n",
      "[1] FALSE FALSE  TRUE FALSE FALSE\n",
      "[1] FALSE FALSE FALSE FALSE FALSE\n",
      "[1] FALSE FALSE  TRUE FALSE FALSE\n",
      "[1] FALSE FALSE FALSE FALSE  TRUE\n",
      "[1] FALSE FALSE FALSE FALSE FALSE\n",
      "[1] FALSE FALSE FALSE FALSE FALSE\n",
      "[1] FALSE FALSE FALSE FALSE FALSE\n",
      "[1] FALSE FALSE FALSE FALSE FALSE\n",
      "[1] FALSE FALSE FALSE FALSE FALSE\n",
      "[1] FALSE FALSE FALSE FALSE FALSE\n",
      "[1] FALSE FALSE FALSE  TRUE FALSE\n",
      "[1] FALSE FALSE  TRUE FALSE FALSE\n",
      "[1] FALSE  TRUE FALSE FALSE FALSE\n",
      "[1] FALSE FALSE FALSE FALSE FALSE\n",
      "[1] FALSE FALSE FALSE FALSE  TRUE\n",
      "[1] FALSE FALSE  TRUE FALSE FALSE\n",
      "[1] FALSE FALSE FALSE FALSE FALSE\n",
      "[1] FALSE FALSE FALSE FALSE FALSE\n",
      "[1] FALSE FALSE  TRUE FALSE FALSE\n",
      "[1] FALSE FALSE FALSE FALSE  TRUE\n",
      "[1] FALSE FALSE FALSE FALSE FALSE\n",
      "[1] FALSE FALSE FALSE FALSE FALSE\n",
      "[1] FALSE FALSE FALSE FALSE FALSE\n",
      "[1] FALSE FALSE FALSE FALSE  TRUE\n",
      "[1] FALSE FALSE FALSE FALSE FALSE\n",
      "[1] FALSE FALSE FALSE FALSE FALSE\n",
      "[1] FALSE FALSE FALSE FALSE FALSE\n",
      "[1] FALSE FALSE FALSE FALSE FALSE\n",
      "[1] TRUE   NA   NA   NA   NA\n",
      "[1] FALSE FALSE FALSE FALSE FALSE\n",
      "[1] FALSE FALSE FALSE FALSE  TRUE\n",
      "[1] FALSE FALSE  TRUE FALSE FALSE\n",
      "[1] FALSE FALSE FALSE FALSE FALSE\n",
      "[1] FALSE FALSE FALSE FALSE FALSE\n",
      "[1] FALSE FALSE FALSE FALSE FALSE\n",
      "[1] FALSE FALSE FALSE FALSE FALSE\n",
      "[1] FALSE FALSE FALSE FALSE FALSE\n",
      "[1] FALSE FALSE FALSE FALSE FALSE\n",
      "[1] FALSE FALSE FALSE FALSE FALSE\n",
      "[1] FALSE FALSE FALSE FALSE  TRUE\n",
      "[1] FALSE FALSE FALSE FALSE FALSE\n",
      "[1] FALSE FALSE FALSE FALSE FALSE\n",
      "[1] FALSE FALSE FALSE  TRUE FALSE\n",
      "[1] FALSE FALSE FALSE FALSE FALSE\n",
      "[1] FALSE FALSE FALSE FALSE FALSE\n",
      "[1] TRUE   NA   NA   NA   NA\n",
      "[1] FALSE FALSE FALSE FALSE FALSE\n",
      "[1] FALSE FALSE FALSE FALSE FALSE\n",
      "[1] FALSE FALSE FALSE FALSE  TRUE\n",
      "[1] FALSE FALSE FALSE FALSE  TRUE\n",
      "[1] FALSE FALSE  TRUE FALSE FALSE\n",
      "[1] FALSE FALSE  TRUE FALSE FALSE\n",
      "[1] FALSE FALSE FALSE FALSE  TRUE\n",
      "[1] FALSE FALSE FALSE FALSE FALSE\n",
      "[1] FALSE FALSE FALSE FALSE FALSE\n",
      "[1] FALSE FALSE FALSE FALSE  TRUE\n",
      "[1] FALSE FALSE FALSE FALSE FALSE\n",
      "[1] FALSE FALSE FALSE FALSE  TRUE\n",
      "[1] TRUE   NA   NA   NA   NA\n",
      "[1] FALSE FALSE FALSE FALSE FALSE\n",
      "[1] FALSE FALSE FALSE FALSE FALSE\n",
      "[1] FALSE FALSE FALSE FALSE FALSE\n",
      "[1] FALSE FALSE FALSE FALSE FALSE\n",
      "[1] FALSE FALSE FALSE FALSE FALSE\n",
      "[1] FALSE FALSE FALSE FALSE FALSE\n",
      "[1] FALSE FALSE FALSE FALSE FALSE\n",
      "[1] FALSE FALSE FALSE FALSE  TRUE\n",
      "[1] FALSE FALSE FALSE FALSE  TRUE\n",
      "[1] FALSE FALSE FALSE FALSE FALSE\n",
      "[1] FALSE FALSE FALSE FALSE FALSE\n",
      "[1] FALSE FALSE FALSE  TRUE FALSE\n",
      "[1] FALSE FALSE FALSE FALSE  TRUE\n",
      "[1] FALSE FALSE FALSE FALSE FALSE\n",
      "[1] FALSE FALSE FALSE FALSE FALSE\n",
      "[1] FALSE FALSE FALSE FALSE FALSE\n",
      "[1] FALSE FALSE FALSE  TRUE FALSE\n",
      "[1] FALSE FALSE FALSE FALSE FALSE\n",
      "[1] FALSE FALSE FALSE FALSE FALSE\n",
      "[1] FALSE FALSE FALSE FALSE  TRUE\n",
      "[1] FALSE FALSE  TRUE FALSE FALSE\n",
      "[1] FALSE FALSE FALSE FALSE FALSE\n",
      "[1] FALSE FALSE FALSE  TRUE FALSE\n",
      "[1] FALSE FALSE FALSE FALSE FALSE\n",
      "[1] FALSE FALSE FALSE FALSE FALSE\n",
      "[1] FALSE FALSE FALSE FALSE FALSE\n",
      "[1] FALSE FALSE FALSE FALSE FALSE\n",
      "[1] FALSE FALSE FALSE FALSE FALSE\n",
      "[1] FALSE FALSE FALSE FALSE FALSE\n",
      "[1] FALSE FALSE FALSE  TRUE FALSE\n",
      "[1] FALSE FALSE  TRUE FALSE FALSE\n",
      "[1] FALSE FALSE FALSE FALSE FALSE\n",
      "[1] FALSE FALSE FALSE  TRUE FALSE\n",
      "[1] FALSE FALSE FALSE FALSE FALSE\n",
      "[1] FALSE FALSE FALSE FALSE FALSE\n",
      "[1] FALSE FALSE FALSE FALSE FALSE\n",
      "[1] FALSE FALSE FALSE FALSE FALSE\n",
      "[1] FALSE FALSE FALSE FALSE FALSE\n",
      "[1] FALSE FALSE FALSE FALSE FALSE\n",
      "[1] FALSE FALSE FALSE FALSE FALSE\n",
      "[1] FALSE  TRUE FALSE FALSE FALSE\n",
      "[1] FALSE FALSE FALSE FALSE FALSE\n",
      "[1] FALSE FALSE FALSE FALSE FALSE\n",
      "[1] FALSE FALSE FALSE FALSE  TRUE\n",
      "[1] FALSE FALSE FALSE FALSE FALSE\n",
      "[1] FALSE  TRUE FALSE FALSE FALSE\n",
      "[1] FALSE FALSE FALSE FALSE FALSE\n",
      "[1] FALSE FALSE FALSE FALSE FALSE\n",
      "[1] FALSE FALSE FALSE FALSE FALSE\n",
      "[1] FALSE FALSE FALSE FALSE FALSE\n",
      "[1] FALSE FALSE FALSE FALSE  TRUE\n",
      "[1] FALSE  TRUE FALSE FALSE FALSE\n",
      "[1] FALSE  TRUE FALSE FALSE FALSE\n",
      "[1] FALSE FALSE FALSE FALSE FALSE\n",
      "[1] FALSE FALSE FALSE FALSE FALSE\n",
      "[1] FALSE FALSE FALSE FALSE FALSE\n",
      "[1] FALSE FALSE FALSE FALSE FALSE\n",
      "[1] FALSE FALSE FALSE FALSE FALSE\n",
      "[1] FALSE FALSE FALSE  TRUE FALSE\n",
      "[1] FALSE FALSE FALSE FALSE FALSE\n",
      "[1] FALSE FALSE FALSE FALSE FALSE\n",
      "[1] FALSE FALSE FALSE FALSE FALSE\n",
      "[1] FALSE FALSE FALSE FALSE FALSE\n",
      "[1] FALSE FALSE FALSE FALSE FALSE\n",
      "[1] FALSE FALSE FALSE FALSE FALSE\n",
      "[1] FALSE  TRUE FALSE FALSE FALSE\n",
      "[1] FALSE FALSE FALSE FALSE FALSE\n",
      "[1] FALSE  TRUE FALSE FALSE FALSE\n",
      "[1] FALSE FALSE FALSE FALSE FALSE\n",
      "[1] FALSE FALSE FALSE FALSE FALSE\n",
      "[1] FALSE FALSE FALSE FALSE FALSE\n",
      "[1] FALSE FALSE FALSE FALSE FALSE\n",
      "[1] FALSE FALSE  TRUE FALSE FALSE\n",
      "[1] FALSE FALSE FALSE  TRUE FALSE\n",
      "[1] FALSE FALSE FALSE FALSE FALSE\n",
      "[1] FALSE FALSE FALSE FALSE FALSE\n",
      "[1] FALSE FALSE FALSE FALSE FALSE\n",
      "[1] FALSE FALSE FALSE FALSE FALSE\n",
      "[1] FALSE FALSE FALSE FALSE  TRUE\n",
      "[1] FALSE FALSE FALSE FALSE FALSE\n",
      "[1] FALSE FALSE FALSE FALSE  TRUE\n",
      "[1] FALSE FALSE FALSE FALSE FALSE\n",
      "[1] FALSE FALSE FALSE FALSE FALSE\n",
      "[1] FALSE FALSE FALSE FALSE FALSE\n",
      "[1] FALSE FALSE FALSE FALSE  TRUE\n",
      "[1] FALSE FALSE FALSE FALSE  TRUE\n",
      "[1] FALSE FALSE FALSE FALSE FALSE\n",
      "[1] FALSE FALSE  TRUE FALSE FALSE\n",
      "[1] FALSE FALSE FALSE FALSE FALSE\n",
      "[1] FALSE FALSE FALSE FALSE  TRUE\n",
      "[1] FALSE FALSE FALSE FALSE FALSE\n",
      "[1] FALSE FALSE FALSE FALSE FALSE\n",
      "[1] FALSE FALSE  TRUE FALSE FALSE\n",
      "[1] FALSE FALSE FALSE FALSE FALSE\n",
      "[1] FALSE FALSE FALSE FALSE FALSE\n",
      "[1] FALSE FALSE FALSE FALSE FALSE\n",
      "[1] FALSE FALSE FALSE FALSE FALSE\n",
      "[1] FALSE FALSE FALSE FALSE FALSE\n",
      "[1] FALSE FALSE FALSE FALSE FALSE\n",
      "[1] FALSE FALSE FALSE  TRUE FALSE\n",
      "[1] FALSE FALSE FALSE FALSE FALSE\n",
      "[1] FALSE FALSE FALSE FALSE  TRUE\n",
      "[1] FALSE FALSE FALSE FALSE  TRUE\n",
      "[1] FALSE FALSE FALSE FALSE FALSE\n",
      "[1] FALSE FALSE FALSE FALSE  TRUE\n",
      "[1] FALSE  TRUE FALSE FALSE FALSE\n",
      "[1] FALSE FALSE FALSE FALSE FALSE\n",
      "[1] FALSE FALSE FALSE FALSE FALSE\n",
      "[1] FALSE FALSE FALSE FALSE FALSE\n",
      "[1] FALSE FALSE FALSE FALSE FALSE\n",
      "[1] FALSE FALSE FALSE FALSE FALSE\n",
      "[1] FALSE FALSE FALSE FALSE FALSE\n",
      "[1] FALSE FALSE FALSE FALSE FALSE\n",
      "[1] FALSE FALSE FALSE  TRUE FALSE\n",
      "[1] FALSE FALSE FALSE FALSE  TRUE\n",
      "[1] FALSE FALSE FALSE FALSE FALSE\n",
      "[1] FALSE FALSE FALSE FALSE FALSE\n",
      "[1] FALSE  TRUE FALSE FALSE FALSE\n",
      "[1] FALSE FALSE FALSE FALSE  TRUE\n",
      "[1] FALSE FALSE FALSE FALSE FALSE\n",
      "[1] FALSE FALSE FALSE FALSE  TRUE\n",
      "[1] FALSE FALSE FALSE FALSE FALSE\n",
      "[1] FALSE FALSE FALSE FALSE FALSE\n",
      "[1] FALSE FALSE FALSE FALSE FALSE\n",
      "[1] FALSE  TRUE FALSE FALSE FALSE\n",
      "[1] FALSE  TRUE FALSE FALSE FALSE\n",
      "[1] FALSE FALSE FALSE FALSE  TRUE\n",
      "[1] FALSE FALSE FALSE FALSE FALSE\n",
      "[1] FALSE FALSE FALSE FALSE  TRUE\n",
      "[1] FALSE FALSE FALSE  TRUE FALSE\n",
      "[1] FALSE FALSE FALSE FALSE FALSE\n",
      "[1] FALSE FALSE FALSE FALSE FALSE\n",
      "[1] FALSE FALSE FALSE FALSE FALSE\n",
      "[1] FALSE FALSE FALSE FALSE FALSE\n",
      "[1] FALSE FALSE FALSE FALSE  TRUE\n",
      "[1] FALSE FALSE FALSE FALSE  TRUE\n",
      "[1] FALSE FALSE FALSE FALSE FALSE\n",
      "[1] FALSE FALSE FALSE FALSE FALSE\n",
      "[1] FALSE  TRUE FALSE FALSE FALSE\n",
      "[1] FALSE FALSE FALSE FALSE  TRUE\n",
      "[1] TRUE   NA   NA   NA   NA\n",
      "[1] FALSE FALSE FALSE  TRUE FALSE\n",
      "[1] FALSE  TRUE FALSE FALSE FALSE\n",
      "[1] FALSE FALSE FALSE FALSE FALSE\n",
      "[1] FALSE FALSE FALSE FALSE FALSE\n",
      "[1] FALSE FALSE FALSE FALSE FALSE\n",
      "[1] FALSE FALSE FALSE FALSE  TRUE\n",
      "[1] FALSE FALSE FALSE FALSE FALSE\n",
      "[1] FALSE FALSE FALSE FALSE  TRUE\n",
      "[1] FALSE FALSE FALSE FALSE  TRUE\n",
      "[1] FALSE FALSE FALSE FALSE FALSE\n",
      "[1] FALSE FALSE FALSE FALSE FALSE\n",
      "[1] FALSE FALSE FALSE FALSE FALSE\n",
      "[1] FALSE FALSE FALSE FALSE FALSE\n",
      "[1] FALSE FALSE FALSE  TRUE FALSE\n",
      "[1] FALSE FALSE FALSE FALSE  TRUE\n",
      "[1] FALSE FALSE FALSE FALSE  TRUE\n",
      "[1] FALSE FALSE  TRUE FALSE FALSE\n",
      "[1] FALSE FALSE FALSE FALSE FALSE\n",
      "[1] FALSE FALSE FALSE FALSE  TRUE\n",
      "[1] FALSE FALSE FALSE FALSE FALSE\n",
      "[1] FALSE  TRUE FALSE FALSE FALSE\n",
      "[1] FALSE FALSE FALSE FALSE FALSE\n",
      "[1] FALSE FALSE FALSE FALSE FALSE\n",
      "[1] FALSE FALSE  TRUE FALSE FALSE\n",
      "[1] FALSE FALSE FALSE FALSE FALSE\n",
      "[1] FALSE FALSE FALSE FALSE FALSE\n",
      "[1] FALSE FALSE FALSE FALSE FALSE\n",
      "[1] FALSE FALSE FALSE FALSE FALSE\n",
      "[1] FALSE FALSE FALSE FALSE FALSE\n",
      "[1] FALSE FALSE FALSE FALSE FALSE\n",
      "[1] FALSE FALSE FALSE FALSE FALSE\n",
      "[1] FALSE FALSE FALSE FALSE  TRUE\n",
      "[1] FALSE FALSE FALSE FALSE FALSE\n",
      "[1] FALSE FALSE FALSE FALSE FALSE\n",
      "[1] FALSE FALSE FALSE FALSE FALSE\n",
      "[1] FALSE FALSE FALSE FALSE  TRUE\n",
      "[1] FALSE FALSE  TRUE FALSE FALSE\n",
      "[1] FALSE FALSE FALSE FALSE FALSE\n",
      "[1] FALSE FALSE  TRUE FALSE FALSE\n",
      "[1] FALSE FALSE FALSE FALSE FALSE\n",
      "[1] FALSE FALSE FALSE FALSE FALSE\n",
      "[1] FALSE FALSE FALSE FALSE  TRUE\n",
      "[1] FALSE FALSE FALSE FALSE FALSE\n",
      "[1] FALSE FALSE FALSE FALSE FALSE\n",
      "[1] FALSE FALSE FALSE FALSE FALSE\n",
      "[1] FALSE FALSE FALSE FALSE FALSE\n",
      "[1] FALSE  TRUE FALSE FALSE FALSE\n",
      "[1] FALSE  TRUE FALSE FALSE FALSE\n",
      "[1] FALSE FALSE FALSE FALSE  TRUE\n",
      "[1] FALSE FALSE FALSE FALSE FALSE\n",
      "[1] FALSE FALSE FALSE FALSE FALSE\n",
      "[1] FALSE FALSE FALSE FALSE FALSE\n",
      "[1] FALSE FALSE FALSE FALSE FALSE\n",
      "[1] FALSE FALSE FALSE FALSE  TRUE\n",
      "[1] FALSE FALSE FALSE FALSE FALSE\n",
      "[1] FALSE FALSE FALSE FALSE  TRUE\n",
      "[1] FALSE FALSE FALSE FALSE FALSE\n",
      "[1] FALSE FALSE FALSE FALSE FALSE\n",
      "[1] FALSE FALSE FALSE FALSE FALSE\n",
      "[1] FALSE FALSE  TRUE FALSE FALSE\n",
      "[1] FALSE FALSE FALSE FALSE FALSE\n",
      "[1] FALSE FALSE FALSE FALSE  TRUE\n",
      "[1] FALSE FALSE FALSE FALSE FALSE\n",
      "[1] FALSE FALSE FALSE FALSE FALSE\n",
      "[1] FALSE FALSE FALSE FALSE FALSE\n",
      "[1] FALSE FALSE FALSE FALSE FALSE\n",
      "[1] FALSE FALSE FALSE  TRUE FALSE\n",
      "[1] FALSE FALSE FALSE FALSE  TRUE\n",
      "[1] FALSE FALSE FALSE FALSE  TRUE\n",
      "[1] FALSE FALSE FALSE FALSE FALSE\n",
      "[1] FALSE FALSE  TRUE FALSE FALSE\n",
      "[1] FALSE FALSE FALSE FALSE FALSE\n",
      "[1] FALSE FALSE FALSE FALSE FALSE\n",
      "[1] FALSE FALSE FALSE FALSE  TRUE\n",
      "[1] FALSE FALSE FALSE FALSE FALSE\n",
      "[1] FALSE FALSE FALSE FALSE FALSE\n",
      "[1] FALSE FALSE FALSE FALSE FALSE\n",
      "[1] FALSE FALSE FALSE FALSE FALSE\n",
      "[1] FALSE FALSE FALSE FALSE FALSE\n",
      "[1] FALSE FALSE FALSE FALSE FALSE\n",
      "[1] FALSE FALSE FALSE FALSE FALSE\n",
      "[1] FALSE FALSE FALSE FALSE FALSE\n",
      "[1] FALSE FALSE FALSE FALSE  TRUE\n",
      "[1] FALSE FALSE FALSE FALSE FALSE\n",
      "[1] FALSE FALSE FALSE FALSE FALSE\n",
      "[1] FALSE FALSE  TRUE FALSE FALSE\n",
      "[1] FALSE FALSE FALSE FALSE  TRUE\n",
      "[1] FALSE  TRUE FALSE FALSE FALSE\n",
      "[1] FALSE FALSE FALSE FALSE FALSE\n",
      "[1] FALSE FALSE FALSE FALSE  TRUE\n",
      "[1] FALSE FALSE FALSE FALSE FALSE\n",
      "[1] FALSE FALSE FALSE FALSE FALSE\n",
      "[1] FALSE FALSE FALSE FALSE FALSE\n",
      "[1] FALSE FALSE FALSE FALSE FALSE\n",
      "[1] FALSE  TRUE FALSE FALSE FALSE\n",
      "[1] FALSE FALSE FALSE FALSE FALSE\n",
      "[1] FALSE FALSE FALSE FALSE FALSE\n",
      "[1] FALSE FALSE FALSE FALSE FALSE\n",
      "[1] FALSE FALSE FALSE FALSE FALSE\n",
      "[1] FALSE FALSE FALSE FALSE FALSE\n",
      "[1] FALSE FALSE FALSE FALSE  TRUE\n",
      "[1] FALSE  TRUE FALSE FALSE FALSE\n",
      "[1] FALSE FALSE FALSE FALSE FALSE\n",
      "[1] FALSE FALSE FALSE FALSE FALSE\n",
      "[1] FALSE FALSE FALSE FALSE FALSE\n",
      "[1] FALSE FALSE FALSE FALSE FALSE\n",
      "[1] FALSE FALSE FALSE FALSE FALSE\n",
      "[1] FALSE FALSE  TRUE FALSE FALSE\n",
      "[1] FALSE FALSE FALSE FALSE FALSE\n",
      "[1] FALSE FALSE FALSE FALSE FALSE\n",
      "[1] FALSE  TRUE FALSE FALSE FALSE\n",
      "[1] FALSE FALSE FALSE FALSE FALSE\n",
      "[1] FALSE FALSE FALSE FALSE  TRUE\n",
      "[1] FALSE FALSE FALSE FALSE FALSE\n",
      "[1] FALSE  TRUE FALSE FALSE FALSE\n",
      "[1] FALSE FALSE FALSE FALSE FALSE\n",
      "[1] FALSE FALSE FALSE FALSE FALSE\n",
      "[1] FALSE FALSE FALSE FALSE FALSE\n",
      "[1] FALSE FALSE FALSE FALSE FALSE\n",
      "[1] FALSE FALSE FALSE FALSE  TRUE\n",
      "[1] FALSE FALSE FALSE FALSE FALSE\n",
      "[1] FALSE FALSE  TRUE FALSE FALSE\n",
      "[1] FALSE FALSE FALSE FALSE FALSE\n",
      "[1] FALSE FALSE FALSE  TRUE FALSE\n",
      "[1] FALSE FALSE FALSE FALSE FALSE\n",
      "[1] FALSE FALSE FALSE FALSE FALSE\n",
      "[1] FALSE FALSE FALSE FALSE FALSE\n",
      "[1] FALSE FALSE FALSE FALSE  TRUE\n",
      "[1] FALSE FALSE FALSE FALSE FALSE\n",
      "[1] FALSE FALSE FALSE FALSE  TRUE\n",
      "[1] FALSE FALSE FALSE FALSE FALSE\n",
      "[1] FALSE FALSE FALSE FALSE FALSE\n",
      "[1] FALSE FALSE FALSE FALSE FALSE\n",
      "[1] FALSE FALSE FALSE FALSE FALSE\n",
      "[1] FALSE FALSE FALSE FALSE FALSE\n",
      "[1] FALSE  TRUE FALSE FALSE FALSE\n",
      "[1] FALSE FALSE  TRUE FALSE FALSE\n",
      "[1] FALSE FALSE FALSE FALSE FALSE\n",
      "[1] FALSE FALSE  TRUE FALSE FALSE\n",
      "[1] FALSE  TRUE FALSE FALSE FALSE\n",
      "[1] FALSE FALSE FALSE FALSE  TRUE\n",
      "[1] FALSE FALSE FALSE FALSE FALSE\n",
      "[1] FALSE FALSE FALSE FALSE FALSE\n",
      "[1] FALSE FALSE FALSE FALSE FALSE\n",
      "[1] FALSE FALSE FALSE FALSE  TRUE\n",
      "[1] FALSE FALSE FALSE FALSE FALSE\n",
      "[1] FALSE FALSE FALSE FALSE FALSE\n",
      "[1] FALSE FALSE FALSE FALSE FALSE\n",
      "[1] FALSE FALSE FALSE FALSE FALSE\n",
      "[1] FALSE FALSE FALSE FALSE  TRUE\n",
      "[1] FALSE FALSE FALSE FALSE FALSE\n",
      "[1] FALSE FALSE FALSE FALSE FALSE\n",
      "[1] FALSE FALSE FALSE FALSE FALSE\n",
      "[1] FALSE FALSE FALSE FALSE FALSE\n",
      "[1] FALSE FALSE FALSE  TRUE FALSE\n",
      "[1] FALSE FALSE FALSE FALSE FALSE\n",
      "[1] FALSE FALSE FALSE FALSE FALSE\n",
      "[1] FALSE FALSE FALSE FALSE  TRUE\n",
      "[1] FALSE FALSE FALSE FALSE FALSE\n",
      "[1] FALSE FALSE FALSE FALSE FALSE\n",
      "[1] FALSE FALSE FALSE FALSE FALSE\n",
      "[1] FALSE FALSE FALSE FALSE FALSE\n",
      "[1] FALSE FALSE FALSE FALSE FALSE\n",
      "[1] FALSE FALSE FALSE FALSE FALSE\n",
      "[1] FALSE FALSE FALSE FALSE  TRUE\n",
      "[1] FALSE FALSE FALSE FALSE FALSE\n",
      "[1] FALSE FALSE FALSE FALSE  TRUE\n",
      "[1] FALSE  TRUE FALSE FALSE FALSE\n",
      "[1] FALSE FALSE FALSE FALSE  TRUE\n",
      "[1] FALSE FALSE FALSE  TRUE FALSE\n",
      "[1] FALSE FALSE FALSE FALSE FALSE\n",
      "[1] FALSE FALSE FALSE FALSE FALSE\n",
      "[1] FALSE FALSE FALSE  TRUE FALSE\n",
      "[1] FALSE FALSE FALSE FALSE FALSE\n",
      "[1] FALSE FALSE FALSE FALSE  TRUE\n",
      "[1] FALSE FALSE FALSE FALSE FALSE\n",
      "[1] FALSE FALSE FALSE FALSE FALSE\n",
      "[1] FALSE FALSE FALSE FALSE FALSE\n",
      "[1] FALSE FALSE  TRUE FALSE FALSE\n",
      "[1] FALSE FALSE FALSE FALSE  TRUE\n",
      "[1] FALSE FALSE FALSE FALSE FALSE\n",
      "[1] FALSE FALSE FALSE FALSE FALSE\n",
      "[1] FALSE FALSE FALSE FALSE FALSE\n",
      "[1] FALSE FALSE FALSE FALSE FALSE\n",
      "[1] FALSE FALSE FALSE FALSE FALSE\n",
      "[1] FALSE FALSE FALSE FALSE FALSE\n",
      "[1] FALSE FALSE FALSE FALSE  TRUE\n",
      "[1] FALSE FALSE FALSE FALSE FALSE\n",
      "[1] FALSE FALSE FALSE  TRUE FALSE\n",
      "[1] FALSE  TRUE FALSE FALSE FALSE\n",
      "[1] FALSE  TRUE FALSE FALSE FALSE\n",
      "[1] FALSE FALSE FALSE  TRUE FALSE\n",
      "[1] FALSE FALSE FALSE FALSE  TRUE\n",
      "[1] FALSE  TRUE FALSE FALSE FALSE\n",
      "[1] FALSE FALSE FALSE FALSE FALSE\n",
      "[1] FALSE FALSE FALSE FALSE  TRUE\n",
      "[1] FALSE FALSE FALSE  TRUE FALSE\n",
      "[1] FALSE FALSE FALSE FALSE  TRUE\n",
      "[1] FALSE  TRUE FALSE FALSE FALSE\n",
      "[1] FALSE FALSE FALSE FALSE FALSE\n",
      "[1] FALSE FALSE FALSE  TRUE FALSE\n",
      "[1] FALSE FALSE FALSE FALSE FALSE\n",
      "[1] FALSE FALSE  TRUE FALSE FALSE\n",
      "[1] FALSE FALSE FALSE FALSE FALSE\n",
      "[1] FALSE FALSE FALSE FALSE  TRUE\n",
      "[1] FALSE FALSE  TRUE FALSE FALSE\n",
      "[1] FALSE FALSE FALSE FALSE  TRUE\n",
      "[1] FALSE FALSE  TRUE FALSE FALSE\n",
      "[1] FALSE FALSE FALSE FALSE  TRUE\n",
      "[1] FALSE FALSE FALSE FALSE FALSE\n",
      "[1] FALSE FALSE FALSE FALSE FALSE\n",
      "[1] FALSE FALSE FALSE FALSE FALSE\n",
      "[1] FALSE FALSE FALSE FALSE FALSE\n",
      "[1] FALSE FALSE  TRUE FALSE FALSE\n",
      "[1] FALSE FALSE FALSE FALSE FALSE\n",
      "[1] FALSE FALSE FALSE FALSE FALSE\n",
      "[1] FALSE FALSE FALSE FALSE FALSE\n",
      "[1] FALSE FALSE FALSE FALSE FALSE\n",
      "[1] FALSE FALSE FALSE FALSE  TRUE\n",
      "[1] FALSE FALSE FALSE FALSE FALSE\n",
      "[1] FALSE FALSE FALSE FALSE FALSE\n",
      "[1] FALSE FALSE FALSE FALSE FALSE\n",
      "[1] FALSE FALSE FALSE FALSE  TRUE\n",
      "[1] FALSE FALSE FALSE FALSE  TRUE\n",
      "[1] FALSE  TRUE FALSE FALSE FALSE\n",
      "[1] FALSE  TRUE FALSE FALSE FALSE\n",
      "[1] FALSE FALSE FALSE FALSE  TRUE\n",
      "[1] FALSE FALSE FALSE FALSE FALSE\n",
      "[1] FALSE FALSE FALSE FALSE  TRUE\n",
      "[1] FALSE  TRUE FALSE FALSE FALSE\n",
      "[1] FALSE FALSE FALSE FALSE  TRUE\n",
      "[1] FALSE FALSE FALSE FALSE  TRUE\n",
      "[1] FALSE FALSE FALSE FALSE  TRUE\n",
      "[1] FALSE FALSE FALSE FALSE FALSE\n",
      "[1] FALSE  TRUE FALSE FALSE FALSE\n",
      "[1] FALSE FALSE FALSE FALSE FALSE\n",
      "[1] FALSE FALSE FALSE FALSE FALSE\n",
      "[1] FALSE  TRUE FALSE FALSE FALSE\n",
      "[1] FALSE FALSE FALSE FALSE  TRUE\n",
      "[1] FALSE FALSE FALSE FALSE FALSE\n",
      "[1] FALSE FALSE  TRUE FALSE FALSE\n",
      "[1] FALSE FALSE FALSE FALSE FALSE\n",
      "[1] FALSE FALSE FALSE FALSE FALSE\n",
      "[1] FALSE FALSE FALSE FALSE FALSE\n",
      "[1] FALSE FALSE FALSE FALSE FALSE\n",
      "[1] FALSE FALSE FALSE FALSE  TRUE\n",
      "[1] FALSE FALSE FALSE FALSE FALSE\n",
      "[1] FALSE FALSE FALSE FALSE  TRUE\n",
      "[1] FALSE FALSE FALSE FALSE FALSE\n",
      "[1] FALSE FALSE FALSE FALSE  TRUE\n",
      "[1] FALSE  TRUE FALSE FALSE FALSE\n",
      "[1] FALSE FALSE FALSE FALSE FALSE\n",
      "[1] FALSE FALSE FALSE FALSE FALSE\n",
      "[1] FALSE  TRUE FALSE FALSE FALSE\n",
      "[1] FALSE FALSE FALSE FALSE FALSE\n",
      "[1] FALSE FALSE FALSE FALSE FALSE\n",
      "[1] FALSE FALSE FALSE FALSE FALSE\n",
      "[1] FALSE FALSE FALSE FALSE  TRUE\n",
      "[1] FALSE FALSE FALSE FALSE FALSE\n",
      "[1] FALSE FALSE FALSE FALSE FALSE\n",
      "[1] FALSE FALSE FALSE FALSE FALSE\n",
      "[1] FALSE FALSE FALSE FALSE FALSE\n",
      "[1] FALSE FALSE FALSE FALSE FALSE\n",
      "[1] FALSE FALSE FALSE FALSE FALSE\n"
     ]
    },
    {
     "data": {
      "text/html": [
       "<style>\n",
       ".dl-inline {width: auto; margin:0; padding: 0}\n",
       ".dl-inline>dt, .dl-inline>dd {float: none; width: auto; display: inline-block}\n",
       ".dl-inline>dt::after {content: \":\\0020\"; padding-right: .5ex}\n",
       ".dl-inline>dt:not(:first-of-type) {padding-left: .5ex}\n",
       "</style><dl class=dl-inline><dt>n.s.</dt><dd>306</dd><dt>*</dt><dd>37</dd><dt>**</dt><dd>34</dd><dt>***</dt><dd>25</dd><dt>****</dt><dd>93</dd><dt>NA's</dt><dd>5</dd></dl>\n"
      ],
      "text/latex": [
       "\\begin{description*}\n",
       "\\item[n.s.] 306\n",
       "\\item[*] 37\n",
       "\\item[**] 34\n",
       "\\item[***] 25\n",
       "\\item[****] 93\n",
       "\\item[NA's] 5\n",
       "\\end{description*}\n"
      ],
      "text/markdown": [
       "n.s.\n",
       ":   306*\n",
       ":   37**\n",
       ":   34***\n",
       ":   25****\n",
       ":   93NA's\n",
       ":   5\n",
       "\n"
      ],
      "text/plain": [
       "n.s.    *   **  *** **** NA's \n",
       " 306   37   34   25   93    5 "
      ]
     },
     "metadata": {},
     "output_type": "display_data"
    }
   ],
   "source": [
    "summary(factor(lapply(df$pvalue, pType), levels=c('n.s.', '*', '**', '***', '****')))"
   ]
  },
  {
   "cell_type": "code",
   "execution_count": 8,
   "metadata": {
    "nbgrader": {
     "grade": true,
     "grade_id": "cell-f4672e0c51a1a65d",
     "locked": true,
     "points": 0.3,
     "schema_version": 3,
     "solution": false,
     "task": false
    }
   },
   "outputs": [],
   "source": [
    "test_that(\"test missing p-value\", {\n",
    "    expect_that(pType(NA), is_a(\"logical\"))\n",
    "})\n",
    "test_that(\"test p-values\", {\n",
    "    expect_that(all(pType(0.1) == 'n.s.', pType(0.05) == '*', \n",
    "                    pType(0.01) == '**', pType(0.001) == '***', \n",
    "                    pType(0.0001) == '****'), is_true())\n",
    "})\n",
    "### BEGIN HIDDEN TESTS\n",
    "test_that(\"test p-values in intervals\", {\n",
    "    expect_that(all(pType(0.02) == '*', pType(0.002) == '**',\n",
    "                    pType(0.0002) == '***', pType(0.00002) == '****'), is_true())\n",
    "})\n",
    "### END HIDDEN TESTS"
   ]
  },
  {
   "cell_type": "code",
   "execution_count": 20,
   "metadata": {
    "nbgrader": {
     "grade": true,
     "grade_id": "cell-1d3c82d8c58d0e0d",
     "locked": true,
     "points": 0.3,
     "schema_version": 3,
     "solution": false,
     "task": false
    }
   },
   "outputs": [],
   "source": [
    "test_that(\"A1: test type counts in the summary\", {\n",
    "    expect_that(all(nav.d14.summary[['NA\\'s']] == 5, \n",
    "                    nav.d14.summary[['n.s.']] == 306, \n",
    "                    nav.d14.summary[['****']] == 93,\n",
    "                    nav.d14.summary[['***']] == 25,\n",
    "                    nav.d14.summary[['**']] == 34,\n",
    "                    nav.d14.summary[['*']] == 37\n",
    "                   ), is_true())\n",
    "})\n",
    "### BEGIN HIDDEN TESTS\n",
    "pType_ <- function(p.val) {\n",
    "    if (is.na(p.val)) {\n",
    "        return(NA)\n",
    "    }\n",
    "    else if(p.val > 0.05) {\n",
    "        return(\"n.s.\")\n",
    "    }\n",
    "    else if(p.val > 0.01) {\n",
    "        return(\"*\")\n",
    "    }\n",
    "    else if(p.val > 0.001) {\n",
    "        return(\"**\")\n",
    "    }\n",
    "    else if(p.val > 0.0001) {\n",
    "        return(\"***\")\n",
    "    }\n",
    "    else {\n",
    "        return(\"****\")\n",
    "    }\n",
    "}\n",
    "df <- read.csv(\"./data/NAV-D14_DEseq2.csv\")\n",
    "df.ptype <- factor(unlist(lapply(df$pvalue, pType)))\n",
    "df.summary <- summary(df.ptype)\n",
    "df$ptype <- df.ptype\n",
    "\n",
    "test_that(\"check A1\", {\n",
    "    expect_that(identical(df.summary, nav.d14.summary), is_true())\n",
    "})\n",
    "### END HIDDEN TESTS"
   ]
  },
  {
   "cell_type": "code",
   "execution_count": 21,
   "metadata": {
    "nbgrader": {
     "grade": true,
     "grade_id": "cell-9369690b10d5e444",
     "locked": true,
     "points": 0.3,
     "schema_version": 3,
     "solution": false,
     "task": false
    }
   },
   "outputs": [],
   "source": [
    "test_that(\"A2: test the shape of the result dataframe\", {\n",
    "    expect_that(all(dim(nav.d14) == c(500, 8)), is_true())\n",
    "})\n",
    "test_that(\"A2: test the first 10 components in the ptype column\", {\n",
    "    expect_that(all(nav.d14$ptype[1:10] == c('**', 'n.s.', 'n.s.', 'n.s.', '****', \n",
    "                                             '****', 'n.s.', '**', '**', 'n.s.')), is_true())\n",
    "})\n",
    "### BEGIN HIDDEN TESTS\n",
    "test_that(\"check A2\", {\n",
    "    expect_that(identical(df, nav.d14), is_true())\n",
    "})\n",
    "### END HIDDEN TESTS"
   ]
  },
  {
   "cell_type": "markdown",
   "metadata": {
    "nbgrader": {
     "grade": false,
     "grade_id": "cell-2be30f30c638cc58",
     "locked": true,
     "schema_version": 3,
     "solution": false,
     "task": false
    }
   },
   "source": [
    "4. Describe how a function works. What is the distinction between creating your own function versus the ones already included in base R?"
   ]
  },
  {
   "cell_type": "markdown",
   "metadata": {
    "nbgrader": {
     "grade": true,
     "grade_id": "cell-c9c45c74e76c4acd",
     "locked": false,
     "points": 0.1,
     "schema_version": 3,
     "solution": true,
     "task": false
    }
   },
   "source": []
  },
  {
   "cell_type": "markdown",
   "metadata": {
    "nbgrader": {
     "grade": false,
     "grade_id": "cell-c83e88c45f4918dd",
     "locked": true,
     "schema_version": 3,
     "solution": false,
     "task": false
    }
   },
   "source": [
    "### Question 4 (1 point)\n",
    "\n",
    "How do we know what a function is doing? For example, what are the parameters of the built-in R function `sqrt()` that result in the squareroot of any given input number? Write the breakdown of this specifc base R arithmatic function as if you were to create it from scratch. Include comments in your code of what is happening line-by-line with a test that it print the same output as you would in base R at the end.  \n",
    "_(Hint: You should consider any type of input and special return for a few magic numbers if needed.)_"
   ]
  },
  {
   "cell_type": "markdown",
   "metadata": {
    "nbgrader": {
     "grade": true,
     "grade_id": "cell-b6c12af8802eda3e",
     "locked": false,
     "points": 1,
     "schema_version": 3,
     "solution": true,
     "task": false
    }
   },
   "source": []
  },
  {
   "cell_type": "markdown",
   "metadata": {
    "nbgrader": {
     "grade": false,
     "grade_id": "cell-f5a568effdf0bb74",
     "locked": true,
     "schema_version": 3,
     "solution": false,
     "task": false
    }
   },
   "source": [
    "#### ab.iii Understanding functions, tests, and loops by practice (on your own time)\n"
   ]
  },
  {
   "cell_type": "markdown",
   "metadata": {
    "nbgrader": {
     "grade": false,
     "grade_id": "cell-b211ba8c7d5a32f8",
     "locked": true,
     "schema_version": 3,
     "solution": false,
     "task": false
    }
   },
   "source": [
    "### Question 5 (1 point)\n",
    "\n",
    "\n",
    "1. Follow and complete the two tutorials. Use this space to take notes of what you learned <br>\n",
    "https://swcarpentry.github.io/r-novice-inflammation/02-func-R/index.html <br>\n",
    "https://swcarpentry.github.io/r-novice-inflammation/03-loops-R/index.html\n",
    "1. Reflections: On an integer scale of `1-5`, `1` being very easy and `5` being the most difficult, where would you rank today's exercises? Provide brief notes on what was easy vs difficult, and why. <br>\n"
   ]
  },
  {
   "cell_type": "markdown",
   "metadata": {
    "nbgrader": {
     "grade": true,
     "grade_id": "cell-94507612dc0fcb0f",
     "locked": false,
     "points": 1,
     "schema_version": 3,
     "solution": true,
     "task": false
    }
   },
   "source": []
  },
  {
   "cell_type": "markdown",
   "metadata": {
    "nbgrader": {
     "grade": false,
     "grade_id": "cell-c5ce1550607bd75d",
     "locked": true,
     "schema_version": 3,
     "solution": false,
     "task": false
    }
   },
   "source": [
    "## A4.ba: Create R scripts that output figures based on data analysis [20-30 min] TPS"
   ]
  },
  {
   "cell_type": "markdown",
   "metadata": {
    "nbgrader": {
     "grade": false,
     "grade_id": "cell-86c4f6a60226ddd7",
     "locked": true,
     "points": 0,
     "schema_version": 3,
     "solution": false,
     "task": true
    }
   },
   "source": [
    "### Question 6 (1 point) [15 min on your own]\n",
    "\n",
    "Load the `games.csv` dataset. Make a scatter plot including legend as below - to visualize the rating between charcoal vs cream, color by winner side.  \n",
    "\n",
    "=== BEGIN MARK SCHEME ===  \n",
    "```ruby\n",
    "df <- read.csv(\"data/games.csv\")\n",
    "plot(df$cream_rating, df$charcoal_rating, col=as.factor(df$winner), pch=16)\n",
    "legend(\"topleft\", legend = levels(as.factor(df$winner)), col = 1:3, pch = 16)\n",
    "```\n",
    "=== END MARK SCHEME ===\n",
    "<img src=\"data/A4_Q6.png\" style=\"width: 500px;\">"
   ]
  },
  {
   "cell_type": "code",
   "execution_count": null,
   "metadata": {
    "nbgrader": {
     "grade": true,
     "grade_id": "cell-ce0f75c248ef2aba",
     "locked": false,
     "points": 1,
     "schema_version": 3,
     "solution": true,
     "task": false
    }
   },
   "outputs": [],
   "source": []
  },
  {
   "cell_type": "markdown",
   "metadata": {
    "nbgrader": {
     "grade": false,
     "grade_id": "cell-8c1217524f0b602c",
     "locked": true,
     "schema_version": 3,
     "solution": false,
     "task": false
    }
   },
   "source": [
    "### Question 7 (1 point) [15 min together] \n",
    "\n",
    "Discuss and compare your scripts, troubelshoot together. Write down your findings."
   ]
  },
  {
   "cell_type": "markdown",
   "metadata": {
    "nbgrader": {
     "grade": true,
     "grade_id": "cell-8ca2b7c2304fe3f7",
     "locked": false,
     "points": 1,
     "schema_version": 3,
     "solution": true,
     "task": false
    }
   },
   "source": []
  },
  {
   "cell_type": "markdown",
   "metadata": {
    "nbgrader": {
     "grade": false,
     "grade_id": "cell-7c5a5d05a86d89bf",
     "locked": true,
     "schema_version": 3,
     "solution": false,
     "task": false
    }
   },
   "source": [
    "### A4.bb Solidfy your understanding by practice [20-30 min] Individual"
   ]
  },
  {
   "cell_type": "markdown",
   "metadata": {
    "nbgrader": {
     "grade": false,
     "grade_id": "cell-d07df51e375bedee",
     "locked": true,
     "points": 0,
     "schema_version": 3,
     "solution": false,
     "task": true
    }
   },
   "source": [
    "### Question 8 (1 point)\n",
    "\n",
    "Make a bar chart as below - showing the number of rated vs unrated games.\n",
    "\n",
    "=== BEGIN MARK SCHEME ===  \n",
    "```ruby\n",
    "d <- table(df$rated)\n",
    "barplot(d)\n",
    "```\n",
    "=== END MARK SCHEME ===\n",
    "<img src=\"data/A4_Q8.png\" style=\"width: 500px;\">"
   ]
  },
  {
   "cell_type": "code",
   "execution_count": null,
   "metadata": {
    "nbgrader": {
     "grade": true,
     "grade_id": "cell-76cc5bf7bfb73779",
     "locked": false,
     "points": 1,
     "schema_version": 3,
     "solution": true,
     "task": false
    }
   },
   "outputs": [],
   "source": []
  },
  {
   "cell_type": "markdown",
   "metadata": {
    "nbgrader": {
     "grade": false,
     "grade_id": "cell-832e94c1c0cde1ac",
     "locked": true,
     "points": 0,
     "schema_version": 3,
     "solution": false,
     "task": true
    }
   },
   "source": [
    "### Question 9 (1 point)\n",
    "\n",
    "Make a stacked bar chart as below - futher coloring the bar by winner side.\n",
    "\n",
    "=== BEGIN MARK SCHEME ===  \n",
    "```ruby\n",
    "d <- table(df$winner, df$rated)\n",
    "barplot(d, col=c(\"blue\", \"red\", \"green\"))\n",
    "legend(\"topleft\", legend = rownames(d), col = c(\"blue\", \"red\", \"green\"), pch = 16)\n",
    "```\n",
    "=== END MARK SCHEME ===\n",
    "<img src=\"data/A4_Q9.png\" style=\"width: 500px;\">"
   ]
  },
  {
   "cell_type": "code",
   "execution_count": null,
   "metadata": {
    "nbgrader": {
     "grade": true,
     "grade_id": "cell-f4da98fe29634a33",
     "locked": false,
     "points": 1,
     "schema_version": 3,
     "solution": true,
     "task": false
    }
   },
   "outputs": [],
   "source": []
  },
  {
   "cell_type": "markdown",
   "metadata": {
    "nbgrader": {
     "grade": false,
     "grade_id": "cell-a7d0903167a38536",
     "locked": true,
     "points": 0,
     "schema_version": 3,
     "solution": false,
     "task": true
    }
   },
   "source": [
    "### Question 10 (1 point)\n",
    "\n",
    "Make a boxplot as below - to see what type of victory __for cream__ had the highest median `cream_rating`?\n",
    "\n",
    "=== BEGIN MARK SCHEME ===  \n",
    "```ruby\n",
    "d <- df[df$winner == \"cream\",]\n",
    "boxplot(d$cream_rating ~ d$victory_status)\n",
    "```\n",
    "=== END MARK SCHEME ===\n",
    "<img src=\"data/A4_Q10.png\" style=\"width: 500px;\">"
   ]
  },
  {
   "cell_type": "code",
   "execution_count": null,
   "metadata": {
    "nbgrader": {
     "grade": true,
     "grade_id": "cell-5f0f7a206a0d6a08",
     "locked": false,
     "points": 1,
     "schema_version": 3,
     "solution": true,
     "task": false
    }
   },
   "outputs": [],
   "source": []
  },
  {
   "cell_type": "markdown",
   "metadata": {
    "nbgrader": {
     "grade": false,
     "grade_id": "cell-1c3f385e8b0460a8",
     "locked": true,
     "points": 0,
     "schema_version": 3,
     "solution": false,
     "task": true
    }
   },
   "source": [
    "### Question 11 (1 point)\n",
    "\n",
    "Advanced: Integrate your understanding of how to create function to output the plots in Question 8-10 as one. Make the 3 figures (no need to be a grid plot) by a customized function.  \n",
    "\n",
    "=== BEGIN MARK SCHEME ===  \n",
    "\n",
    "```ruby\n",
    "fig8 <- function(df) {\n",
    "    d <- table(df$rated)\n",
    "    barplot(d)\n",
    "}\n",
    "\n",
    "fig9 <- function(df) {\n",
    "    d <- table(df$winner, df$rated)\n",
    "    barplot(d, col=c(\"blue\", \"red\", \"green\"))\n",
    "    legend(\"topleft\", legend = rownames(d), col = c(\"blue\", \"red\", \"green\"), pch = 16)\n",
    "}\n",
    "\n",
    "fig10 <- function(df) {\n",
    "    d <- df[df$winner == \"cream\",]\n",
    "    boxplot(d$cream_rating ~ d$victory_status)\n",
    "}\n",
    "\n",
    "figs <- function(fp, q) {\n",
    "    df <- read.csv(fp)\n",
    "    if (q == 8) {\n",
    "        fig8(df)\n",
    "    }\n",
    "    else if (q == 9) {\n",
    "        fig9(df)\n",
    "    }\n",
    "    else if (q == 10) {\n",
    "        fig10(df)\n",
    "    }\n",
    "    else {\n",
    "        fig8(df)\n",
    "        fig9(df)\n",
    "        fig10(df)\n",
    "    }\n",
    "}\n",
    "\n",
    "figs(\"data/games.csv\", 'all')\n",
    "```\n",
    "=== END MARK SCHEME ==="
   ]
  },
  {
   "cell_type": "code",
   "execution_count": null,
   "metadata": {
    "nbgrader": {
     "grade": true,
     "grade_id": "cell-bbf0bec4446c0027",
     "locked": false,
     "points": 1,
     "schema_version": 3,
     "solution": true,
     "task": false
    }
   },
   "outputs": [],
   "source": []
  },
  {
   "cell_type": "markdown",
   "metadata": {
    "nbgrader": {
     "grade": false,
     "grade_id": "cell-d9037b59de44f7d0",
     "locked": true,
     "schema_version": 3,
     "solution": false,
     "task": false
    }
   },
   "source": [
    "### Question 12 (1 point)\n",
    "\n",
    "1. Reflections: On an integer scale of `1-5`, `1` being very easy and `5` being the most difficult, where would you rank the A1.bb assignment and why? Include some notes about what you gained from this past week that you didn't know before as well as notes of things you already knew.\n",
    "\n",
    "1. Improvements: Notice a [potentially intentional] mistake, or an area of this homework that could have been improved? Include your thoughts here. "
   ]
  },
  {
   "cell_type": "markdown",
   "metadata": {
    "nbgrader": {
     "grade": true,
     "grade_id": "cell-e0860e1e66341b8a",
     "locked": false,
     "points": 1,
     "schema_version": 3,
     "solution": true,
     "task": false
    }
   },
   "source": []
  }
 ],
 "metadata": {
  "celltoolbar": "Create Assignment",
  "kernelspec": {
   "display_name": "R",
   "language": "R",
   "name": "ir"
  },
  "language_info": {
   "codemirror_mode": "r",
   "file_extension": ".r",
   "mimetype": "text/x-r-source",
   "name": "R",
   "pygments_lexer": "r",
   "version": "3.5.1"
  }
 },
 "nbformat": 4,
 "nbformat_minor": 4
}
