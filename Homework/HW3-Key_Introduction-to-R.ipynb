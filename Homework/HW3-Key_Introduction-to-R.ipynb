{
 "cells": [
  {
   "cell_type": "markdown",
   "metadata": {
    "nbgrader": {
     "grade": false,
     "grade_id": "context_1",
     "locked": true,
     "schema_version": 3,
     "solution": false,
     "task": false
    }
   },
   "source": [
    "# Homework 3: Introduction to R\n",
    "Curated by Sabah Ul-Hasan, Huitian Dao, Shang-Fu Chen, and Andrew Su\n",
    "\n",
    "Complete homework is due every Tuesday at 8 AM PST.\n",
    "Save your homework as you go, so the efforts don't get lost.\n",
    "Note there are up 12 points, but you can only receive 10 points total for homework.\n",
    "\n",
    "In this assignment, you will <br>\n",
    "A3.aa Solidfy your understanding of weeks 1-2 <br>\n",
    "A3.ab Execute basic commands in R using Jupyter notebook <br>\n",
    "A3.ba Execute operations onto objects in R using Jupyter notebook <br>\n",
    "A3.bb Solidfy your understanding of R by practice\n",
    "\n",
    "Note that there is a section at the end (A3.bb) to point out any enhancements you personally would make to this assignment if you were to lead the course. \n",
    "\n",
    "<font color = 'red' size = \"4\"><b>NOTE: Execute the code cell below to import the `testthat` library before you started working on the questions.</b></font>"
   ]
  },
  {
   "cell_type": "code",
   "execution_count": 7,
   "metadata": {
    "nbgrader": {
     "grade": false,
     "grade_id": "library",
     "locked": true,
     "schema_version": 3,
     "solution": false,
     "task": false
    }
   },
   "outputs": [],
   "source": [
    "# Import the required R library for test case and autograding\n",
    "library(testthat)"
   ]
  },
  {
   "cell_type": "markdown",
   "metadata": {
    "nbgrader": {
     "grade": false,
     "grade_id": "context_2",
     "locked": true,
     "schema_version": 3,
     "solution": false,
     "task": false
    }
   },
   "source": [
    "### A3.aa: Solidfy knowledge gained by teaching and troubleshooting [20-30 min] Group of 3 \n",
    "1. Code review: Take turns briefly talking through your code and process (3-5 min), then spend the remaining time discussing the different approaches you may have taken to get to the same end-goal. What were the interesting aspects you learned from each other? Share your notes below. \n",
    "2. For the last 5 minutes on your own, think of a suggestion of something you would've liked to learn in relation to these topics that we didn't cover."
   ]
  },
  {
   "cell_type": "markdown",
   "metadata": {
    "nbgrader": {
     "grade": false,
     "grade_id": "context_3",
     "locked": true,
     "schema_version": 3,
     "solution": false,
     "task": false
    }
   },
   "source": [
    "### A3.ab: Execute basic commands in R using Jupyter notebook [20-30 min] Individual\n",
    "#### ab.i Understanding R and syntax<br>"
   ]
  },
  {
   "cell_type": "markdown",
   "metadata": {
    "nbgrader": {
     "grade": false,
     "grade_id": "why_R",
     "locked": true,
     "schema_version": 3,
     "solution": false,
     "task": false
    }
   },
   "source": [
    "### Question 1 (1 point)\n",
    "\n",
    "- Why are we using R compared to other languages we've learned (bash, and some python)? What is its utility in the context of biology and applied bioinformatics? Include observations about kernel usages.\n",
    "- Why are we using R in Jupyter notebook vs running basic R on its own or in RStudio? Briefly describe the distinctions between each of these, and their utility."
   ]
  },
  {
   "cell_type": "markdown",
   "metadata": {
    "nbgrader": {
     "grade": true,
     "grade_id": "why_jupyteR_answer",
     "locked": false,
     "points": 1,
     "schema_version": 3,
     "solution": true,
     "task": false
    }
   },
   "source": [
    "=== BEGIN MARK SCHEME ===  \n",
    "__5 Reasons why you should Switch from Jupyter Notebook to Scripts__  \n",
    "https://towardsdatascience.com/5-reasons-why-you-should-switch-from-jupyter-notebook-to-scripts-cb3535ba9c95  \n",
    "=== END MARK SCHEME ===  "
   ]
  },
  {
   "cell_type": "markdown",
   "metadata": {
    "nbgrader": {
     "grade": false,
     "grade_id": "R_objects",
     "locked": true,
     "schema_version": 3,
     "solution": false,
     "task": false
    }
   },
   "source": [
    "### Question 2 (1 point)\n",
    "\n",
    "Describe what is meant by an 'R object'. For the different basic data types, give an example of each data type from a real situation in your own research."
   ]
  },
  {
   "cell_type": "markdown",
   "metadata": {
    "nbgrader": {
     "grade": true,
     "grade_id": "R_objects_answer",
     "locked": false,
     "points": 1,
     "schema_version": 3,
     "solution": true,
     "task": false
    }
   },
   "source": [
    "=== BEGIN MARK SCHEME ===  \n",
    "\n",
    "=== END MARK SCHEME ===  "
   ]
  },
  {
   "cell_type": "markdown",
   "metadata": {
    "nbgrader": {
     "grade": false,
     "grade_id": "context_4",
     "locked": true,
     "schema_version": 3,
     "solution": false,
     "task": false
    }
   },
   "source": [
    "#### ab.ii Practicing R syntax<br>"
   ]
  },
  {
   "cell_type": "markdown",
   "metadata": {
    "nbgrader": {
     "grade": false,
     "grade_id": "R_hello_world",
     "locked": true,
     "points": 0,
     "schema_version": 3,
     "solution": false,
     "task": true
    }
   },
   "source": [
    "### Question 3 (1 point)\n",
    "\n",
    "Assign the phrase \"Hello, world!\" to a string object with variable name `phrase`. Print the `phrase`, and identify the type of `phrase`.  _(Hint: use `print()` and `class()`)_\n",
    "\n",
    "=== BEGIN MARK SCHEME ===  \n",
    "```ruby\n",
    "phrase <- \"Hello, world!\"\n",
    "print(phrase)\n",
    "class(phrase)\n",
    "```\n",
    "```\n",
    "[1] \"Hello, world!\"\n",
    "'character'\n",
    "```\n",
    "=== END MARK SCHEME ===  "
   ]
  },
  {
   "cell_type": "code",
   "execution_count": 2,
   "metadata": {
    "nbgrader": {
     "grade": false,
     "grade_id": "R_hello_world_answer",
     "locked": false,
     "schema_version": 3,
     "solution": true,
     "task": false
    }
   },
   "outputs": [
    {
     "name": "stdout",
     "output_type": "stream",
     "text": [
      "[1] \"Hello, world!\"\n"
     ]
    },
    {
     "data": {
      "text/html": [
       "'character'"
      ],
      "text/latex": [
       "'character'"
      ],
      "text/markdown": [
       "'character'"
      ],
      "text/plain": [
       "[1] \"character\""
      ]
     },
     "metadata": {},
     "output_type": "display_data"
    }
   ],
   "source": [
    "### BEGIN MY SOLUTION\n",
    "phrase <- \"Hello, world!\"\n",
    "print(phrase)\n",
    "class(phrase)\n",
    "### END MY SOLUTION"
   ]
  },
  {
   "cell_type": "code",
   "execution_count": 3,
   "metadata": {
    "nbgrader": {
     "grade": true,
     "grade_id": "R_hello_world_test",
     "locked": true,
     "points": 1,
     "schema_version": 3,
     "solution": false,
     "task": false
    }
   },
   "outputs": [],
   "source": [
    "test_that(\"value for phrase should be a string (type 'character' in R)\", {\n",
    "    expect_that(phrase, is_a(\"character\"))\n",
    "})\n",
    "test_that(\"value for phrase should be 13 characters long\", {\n",
    "    expect_that(nchar(phrase) == 13, is_true())\n",
    "})\n",
    "### BEGIN HIDDEN TESTS\n",
    "test_that(\"value for phrase should be 'Hello, world!'\", {\n",
    "    expect_that(phrase == \"Hello, world!\", is_true())\n",
    "})\n",
    "### END HIDDEN TESTS"
   ]
  },
  {
   "cell_type": "markdown",
   "metadata": {
    "nbgrader": {
     "grade": false,
     "grade_id": "R_wd",
     "locked": true,
     "points": 1,
     "schema_version": 3,
     "solution": false,
     "task": true
    }
   },
   "source": [
    "### Question 4 (1 point)\n",
    "\n",
    "Use R commands/functions to identify your current working directly, analogous to how we did this with bash. After you identify the current working directly, set it to our `data` folder. Include comments to describe what is happening at each step for an outside user.  _(Hint: understand the difference between `setwd()` and `getwd()`)_\n",
    "\n",
    "=== BEGIN MARK SCHEME ===  \n",
    "```ruby\n",
    "getwd() # outputs current directory\n",
    "setwd('./data') # sets directory to data folder\n",
    "getwd() # shows update of current directory\n",
    "```\n",
    "```\n",
    "'/home_local/instructor-abcb2020/abcb2020/source/HW3_test'\n",
    "'/home_local/instructor-abcb2020/abcb2020/source/HW3_test/data'\n",
    "```\n",
    "=== END MARK SCHEME ===  "
   ]
  },
  {
   "cell_type": "code",
   "execution_count": 4,
   "metadata": {
    "nbgrader": {
     "grade": false,
     "grade_id": "R_wd_answer",
     "locked": false,
     "schema_version": 3,
     "solution": true,
     "task": false
    }
   },
   "outputs": [
    {
     "data": {
      "text/html": [
       "'/home_local/instructor-abcb2020/abcb2020/source/HW3_test'"
      ],
      "text/latex": [
       "'/home\\_local/instructor-abcb2020/abcb2020/source/HW3\\_test'"
      ],
      "text/markdown": [
       "'/home_local/instructor-abcb2020/abcb2020/source/HW3_test'"
      ],
      "text/plain": [
       "[1] \"/home_local/instructor-abcb2020/abcb2020/source/HW3_test\""
      ]
     },
     "metadata": {},
     "output_type": "display_data"
    },
    {
     "data": {
      "text/html": [
       "'/home_local/instructor-abcb2020/abcb2020/source/HW3_test/data'"
      ],
      "text/latex": [
       "'/home\\_local/instructor-abcb2020/abcb2020/source/HW3\\_test/data'"
      ],
      "text/markdown": [
       "'/home_local/instructor-abcb2020/abcb2020/source/HW3_test/data'"
      ],
      "text/plain": [
       "[1] \"/home_local/instructor-abcb2020/abcb2020/source/HW3_test/data\""
      ]
     },
     "metadata": {},
     "output_type": "display_data"
    }
   ],
   "source": [
    "### BEGIN MY SOLUTION\n",
    "getwd() # outputs current directory\n",
    "setwd('./data') # sets directory to data folder\n",
    "getwd() # shows update of current directory\n",
    "### END MY SOLUTION"
   ]
  },
  {
   "cell_type": "markdown",
   "metadata": {
    "nbgrader": {
     "grade": false,
     "grade_id": "context_5",
     "locked": true,
     "schema_version": 3,
     "solution": false,
     "task": false
    }
   },
   "source": [
    "#### ab.iii Developing good habits (on your own time)<br>"
   ]
  },
  {
   "cell_type": "markdown",
   "metadata": {
    "nbgrader": {
     "grade": false,
     "grade_id": "extra_learn",
     "locked": true,
     "schema_version": 3,
     "solution": false,
     "task": false
    }
   },
   "source": [
    "### Question 5 (1 point)\n",
    "\n",
    "Follow and complete the two tutorials. Use this space to take notes of what you learned <br>\n",
    "https://swcarpentry.github.io/r-novice-inflammation/01-starting-with-data/index.html <br>\n",
    "https://swcarpentry.github.io/r-novice-inflammation/06-best-practices-R/\n",
    "\n",
    "Reflections: On an integer scale of `1-5`, `1` being very easy and `5` being the most difficult, where would you rank today's exercises? Provide brief notes on what was easy vs difficult, and why. <br>"
   ]
  },
  {
   "cell_type": "markdown",
   "metadata": {
    "nbgrader": {
     "grade": true,
     "grade_id": "extra_learn_answer",
     "locked": false,
     "points": 1,
     "schema_version": 3,
     "solution": true,
     "task": false
    }
   },
   "source": []
  },
  {
   "cell_type": "markdown",
   "metadata": {
    "nbgrader": {
     "grade": false,
     "grade_id": "context_6",
     "locked": true,
     "schema_version": 3,
     "solution": false,
     "task": false
    }
   },
   "source": [
    "### A3.ba: Execute operations onto objects in R using Jupyter notebook [20-30 min] TPS"
   ]
  },
  {
   "cell_type": "markdown",
   "metadata": {
    "nbgrader": {
     "grade": false,
     "grade_id": "loop_weekday",
     "locked": true,
     "points": 1,
     "schema_version": 3,
     "solution": false,
     "task": true
    }
   },
   "source": [
    "### Question 6 (1 point)\n",
    "\n",
    "Make a vector containing days of the week, from Monday to Sunday. Use a for loop to print \"Hello world, it's Xday!\" for each day of the week. Comment on how this for loop may differ or compare to the loops created using bash. _(Hint: Save all of the prefixes to a list. Use a for-loop to iterate through the list. Compose the sentense by `cat()`, `paste()` or `paste0()` in each iteration and print it.)_\n",
    "\n",
    "=== BEGIN MARK SCHEME ===  \n",
    "```ruby\n",
    "days <- c(\"Satur\", \"Sun\", \"Mon\", \"Tues\", \"Weds\", \"Thur\", \"Fri\")\n",
    "print(days)\n",
    "\n",
    "for (var in days){\n",
    "  print(paste0(\"Hello world, it's \", var, \"day!\"))\n",
    "  # cat(\"Hello world, it's\", var,\"day!\\n\")\n",
    " }\n",
    "```\n",
    "```\n",
    "[1] \"Satur\" \"Sun\"   \"Mon\"   \"Tues\"  \"Weds\"  \"Thur\"  \"Fri\"  \n",
    "[1] \"Hello world, it's Saturday!\"\n",
    "[1] \"Hello world, it's Sunday!\"\n",
    "[1] \"Hello world, it's Monday!\"\n",
    "[1] \"Hello world, it's Tuesday!\"\n",
    "[1] \"Hello world, it's Wedsday!\"\n",
    "[1] \"Hello world, it's Thurday!\"\n",
    "[1] \"Hello world, it's Friday!\"\n",
    "```\n",
    "=== END MARK SCHEME === "
   ]
  },
  {
   "cell_type": "code",
   "execution_count": 5,
   "metadata": {
    "nbgrader": {
     "grade": false,
     "grade_id": "loop_weekday_code",
     "locked": false,
     "schema_version": 3,
     "solution": true,
     "task": false
    }
   },
   "outputs": [
    {
     "name": "stdout",
     "output_type": "stream",
     "text": [
      "[1] \"Satur\" \"Sun\"   \"Mon\"   \"Tues\"  \"Weds\"  \"Thur\"  \"Fri\"  \n",
      "[1] \"Hello world, it's Saturday!\"\n",
      "[1] \"Hello world, it's Sunday!\"\n",
      "[1] \"Hello world, it's Monday!\"\n",
      "[1] \"Hello world, it's Tuesday!\"\n",
      "[1] \"Hello world, it's Wedsday!\"\n",
      "[1] \"Hello world, it's Thurday!\"\n",
      "[1] \"Hello world, it's Friday!\"\n"
     ]
    }
   ],
   "source": [
    "### BEGIN MY SOLUTION\n",
    "days <- c(\"Satur\", \"Sun\", \"Mon\", \"Tues\", \"Weds\", \"Thur\", \"Fri\")\n",
    "print(days)\n",
    "\n",
    "for(var in days)\n",
    " {\n",
    "  print(paste0(\"Hello world, it's \", var, \"day!\"))\n",
    "  # cat(\"Hello world, it's\", var,\"day!\\n\")\n",
    " }\n",
    "### END MY SOLUTION"
   ]
  },
  {
   "cell_type": "markdown",
   "metadata": {
    "nbgrader": {
     "grade": false,
     "grade_id": "create_matrix",
     "locked": true,
     "points": 0.5,
     "schema_version": 3,
     "solution": false,
     "task": true
    }
   },
   "source": [
    "### Question 7 (1 point)\n",
    "\n",
    "Create a 10 $\\times$ 5 matrix (ten by five; 10 rows and 5 columns) named `my.matrix` including 50 numbers by `matrix()`. Then print it.\n",
    "\n",
    "=== BEGIN MARK SCHEME ===  \n",
    "```ruby\n",
    "my.matrix <- matrix(1:50, nrow=10, ncol=5)\n",
    "print(my.matrix)\n",
    "```\n",
    "```\n",
    "      [,1] [,2] [,3] [,4] [,5]\n",
    " [1,]    1   11   21   31   41\n",
    " [2,]    2   12   22   32   42\n",
    " [3,]    3   13   23   33   43\n",
    " [4,]    4   14   24   34   44\n",
    " [5,]    5   15   25   35   45\n",
    " [6,]    6   16   26   36   46\n",
    " [7,]    7   17   27   37   47\n",
    " [8,]    8   18   28   38   48\n",
    " [9,]    9   19   29   39   49\n",
    "[10,]   10   20   30   40   50\n",
    "```\n",
    "#### __NOTE:__ Student has to print it.  \n",
    "=== END MARK SCHEME === "
   ]
  },
  {
   "cell_type": "code",
   "execution_count": 6,
   "metadata": {
    "nbgrader": {
     "grade": false,
     "grade_id": "create_matrix_code",
     "locked": false,
     "schema_version": 3,
     "solution": true,
     "task": false
    }
   },
   "outputs": [
    {
     "name": "stdout",
     "output_type": "stream",
     "text": [
      "      [,1] [,2] [,3] [,4] [,5]\n",
      " [1,]    1   11   21   31   41\n",
      " [2,]    2   12   22   32   42\n",
      " [3,]    3   13   23   33   43\n",
      " [4,]    4   14   24   34   44\n",
      " [5,]    5   15   25   35   45\n",
      " [6,]    6   16   26   36   46\n",
      " [7,]    7   17   27   37   47\n",
      " [8,]    8   18   28   38   48\n",
      " [9,]    9   19   29   39   49\n",
      "[10,]   10   20   30   40   50\n"
     ]
    }
   ],
   "source": [
    "### BEGIN MY SOLUTION\n",
    "my.matrix <- matrix(1:50, nrow=10, ncol=5)\n",
    "print(my.matrix)\n",
    "### END MY SOLUTION\n",
    "\n",
    "# Remember to print your answer."
   ]
  },
  {
   "cell_type": "code",
   "execution_count": 7,
   "metadata": {
    "nbgrader": {
     "grade": true,
     "grade_id": "create_matrix_test",
     "locked": true,
     "points": 0.5,
     "schema_version": 3,
     "solution": false,
     "task": false
    }
   },
   "outputs": [
    {
     "data": {
      "text/html": [
       "'row number of your answer is 10'"
      ],
      "text/latex": [
       "'row number of your answer is 10'"
      ],
      "text/markdown": [
       "'row number of your answer is 10'"
      ],
      "text/plain": [
       "[1] \"row number of your answer is 10\""
      ]
     },
     "metadata": {},
     "output_type": "display_data"
    },
    {
     "data": {
      "text/html": [
       "'column number of your answer is 5'"
      ],
      "text/latex": [
       "'column number of your answer is 5'"
      ],
      "text/markdown": [
       "'column number of your answer is 5'"
      ],
      "text/plain": [
       "[1] \"column number of your answer is 5\""
      ]
     },
     "metadata": {},
     "output_type": "display_data"
    }
   ],
   "source": [
    "paste0(\"row number of your answer is \", dim(my.matrix)[1])\n",
    "paste0(\"column number of your answer is \", dim(my.matrix)[2])\n",
    "\n",
    "test_that(\"type of my.matrix should be matrix\", {\n",
    "    expect_that(my.matrix, is_a(\"matrix\"), is_true())\n",
    "})\n",
    "### BEGIN HIDDEN TESTS\n",
    "test_that(\"rows for my.matrix should be 10\", {\n",
    "    expect_that(dim(my.matrix)[1] == 10, is_true())\n",
    "})\n",
    "test_that(\"columns for my.matrix should be 5\", {\n",
    "    expect_that(dim(my.matrix)[2] == 5, is_true())\n",
    "})\n",
    "### END HIDDEN TESTS"
   ]
  },
  {
   "cell_type": "markdown",
   "metadata": {
    "nbgrader": {
     "grade": false,
     "grade_id": "pi",
     "locked": true,
     "points": 0,
     "schema_version": 3,
     "solution": false,
     "task": true
    }
   },
   "source": [
    "### Question 8 (1 point)\n",
    "\n",
    "_(Note: Retrieve digits of $\\pi$ from this [website](https://www.piday.org/million/))_  \n",
    "\n",
    "1. Count the number of even digits in the first 100 digits of $\\pi$ and save as `count` _( Hint: Get the string of the first 100 digits and then loop through each digit to check if the number could be divided by 2 with reminder equal to 0 - use `%%`)_\n",
    "1. Convert the first 100 digits of $\\pi$ into a $10 \\times 10$ integer matrix named `pi.100.mtx` (by column-major order, like the screenshot below)  _(Hint: Consider using `substr`, `strsplit`, `as.integer` and/or `unlist` -- what does each of these do?)_\n",
    "\n",
    "\n",
    "<img src=\"data/pi_100_mtx.png\" style=\"width: 400px;\">\n",
    "\n",
    "- In your answer, explain why we needed to retrieve $\\pi$ constant from the website above instead of getting the built-in constant `pi` from base R? What additional built-in constants are there in R? \n",
    "\n",
    "- Discuss and compare your scripts, troubelshoot together. What did you learn that you didn't already know from what you had tried?\n",
    "\n",
    "=== BEGIN MARK SCHEME ===  \n",
    "```ruby\n",
    "# Get digits from https://www.piday.org/million/\n",
    "pi.str <- '31415926535897932384626433832795028841971693993751058209749445923078164062862089986280348253421170679821480865132823066470938446095505822317253594081284811174502841027019385211055596446229489549303819644288109756659334461284756482337867831652712019091456485669234603486104543266482133936072602491412737245870066063155881748815209209628292540917153643678925903600113305305488204665213841469519415116094330572703657595919530921861173819326117931051185480744623799627495673518857527248912279381830119491298336733624406566430860213949463952247371907021798609437027705392171762931767523846748184676694051320005681271452635608277857713427577896091736371787214684409012249534301465495853710507922796892589235420199561121290219608640344181598136297747713099605187072113499999983729780499510597317328160963185950244594553469083026425223082533446850352619311881710100031378387528865875332083814206171776691473035982534904287554687311595628638823537875937519577818577805321'\n",
    "\n",
    "pi.str <- substr(pi.str, 1, 100)\n",
    "\n",
    "i <- 1\n",
    "count <- 0\n",
    "while (i <= 100) {\n",
    "    pi.i <- as.numeric(substr(pi.str, i, i))\n",
    "    if (pi.i %% 2 == 0) {\n",
    "        count <- count + 1\n",
    "    }\n",
    "    i <- i + 1\n",
    "}\n",
    "\n",
    "pi.100.mtx <- matrix(as.integer(unlist(strsplit(pi.str, ''))), 10, 10)\n",
    "```\n",
    "```\n",
    "[1] 51\n",
    "      [,1] [,2] [,3] [,4] [,5] [,6] [,7] [,8] [,9] [,10]\n",
    " [1,]    3    5    6    9    1    0    4    4    9     5\n",
    " [2,]    1    8    2    5    6    5    5    0    8     3\n",
    " [3,]    4    9    6    0    9    8    9    6    6     4\n",
    " [4,]    1    7    4    2    3    2    2    2    2     2\n",
    " [5,]    5    9    3    8    9    0    3    8    8     1\n",
    " [6,]    9    3    3    8    9    9    0    6    0     1\n",
    " [7,]    2    2    8    4    3    7    7    2    3     7\n",
    " [8,]    6    3    3    1    7    4    8    0    4     0\n",
    " [9,]    5    8    2    9    5    9    1    8    8     6\n",
    "[10,]    3    4    7    7    1    4    6    9    2     7\n",
    "```\n",
    "#### __NOTE:__ Student has to print it.  \n",
    "=== END MARK SCHEME === "
   ]
  },
  {
   "cell_type": "code",
   "execution_count": 8,
   "metadata": {
    "nbgrader": {
     "grade": false,
     "grade_id": "pi_code",
     "locked": false,
     "schema_version": 3,
     "solution": true,
     "task": false
    }
   },
   "outputs": [
    {
     "name": "stdout",
     "output_type": "stream",
     "text": [
      "[1] 51\n",
      "      [,1] [,2] [,3] [,4] [,5] [,6] [,7] [,8] [,9] [,10]\n",
      " [1,]    3    5    6    9    1    0    4    4    9     5\n",
      " [2,]    1    8    2    5    6    5    5    0    8     3\n",
      " [3,]    4    9    6    0    9    8    9    6    6     4\n",
      " [4,]    1    7    4    2    3    2    2    2    2     2\n",
      " [5,]    5    9    3    8    9    0    3    8    8     1\n",
      " [6,]    9    3    3    8    9    9    0    6    0     1\n",
      " [7,]    2    2    8    4    3    7    7    2    3     7\n",
      " [8,]    6    3    3    1    7    4    8    0    4     0\n",
      " [9,]    5    8    2    9    5    9    1    8    8     6\n",
      "[10,]    3    4    7    7    1    4    6    9    2     7\n"
     ]
    }
   ],
   "source": [
    "### BEGIN MY SOLUTION\n",
    "# Get digits from https://www.piday.org/million/\n",
    "pi.str <- '31415926535897932384626433832795028841971693993751058209749445923078164062862089986280348253421170679821480865132823066470938446095505822317253594081284811174502841027019385211055596446229489549303819644288109756659334461284756482337867831652712019091456485669234603486104543266482133936072602491412737245870066063155881748815209209628292540917153643678925903600113305305488204665213841469519415116094330572703657595919530921861173819326117931051185480744623799627495673518857527248912279381830119491298336733624406566430860213949463952247371907021798609437027705392171762931767523846748184676694051320005681271452635608277857713427577896091736371787214684409012249534301465495853710507922796892589235420199561121290219608640344181598136297747713099605187072113499999983729780499510597317328160963185950244594553469083026425223082533446850352619311881710100031378387528865875332083814206171776691473035982534904287554687311595628638823537875937519577818577805321'\n",
    "\n",
    "pi.str <- substr(pi.str, 1, 100)\n",
    "\n",
    "i <- 1\n",
    "count <- 0\n",
    "while (i <= 100) {\n",
    "    pi.i <- as.numeric(substr(pi.str, i, i))\n",
    "    if (pi.i %% 2 == 0) {\n",
    "        count <- count + 1\n",
    "    }\n",
    "    i <- i + 1\n",
    "}\n",
    "\n",
    "pi.100.mtx <- matrix(as.integer(unlist(strsplit(pi.str, ''))), 10, 10)\n",
    "### END MY SOLUTION\n",
    "\n",
    "print(count) \n",
    "print(pi.100.mtx)"
   ]
  },
  {
   "cell_type": "code",
   "execution_count": 4,
   "metadata": {},
   "outputs": [
    {
     "name": "stdout",
     "output_type": "stream",
     "text": [
      "[1] 51\n",
      "      [,1] [,2] [,3] [,4] [,5] [,6] [,7] [,8] [,9] [,10]\n",
      " [1,]    3    5    6    9    1    0    4    4    9     5\n",
      " [2,]    1    8    2    5    6    5    5    0    8     3\n",
      " [3,]    4    9    6    0    9    8    9    6    6     4\n",
      " [4,]    1    7    4    2    3    2    2    2    2     2\n",
      " [5,]    5    9    3    8    9    0    3    8    8     1\n",
      " [6,]    9    3    3    8    9    9    0    6    0     1\n",
      " [7,]    2    2    8    4    3    7    7    2    3     7\n",
      " [8,]    6    3    3    1    7    4    8    0    4     0\n",
      " [9,]    5    8    2    9    5    9    1    8    8     6\n",
      "[10,]    3    4    7    7    1    4    6    9    2     7\n"
     ]
    }
   ],
   "source": [
    "### BEGIN MY SOLUTION\n",
    "# Get digits from https://www.piday.org/million/\n",
    "pi.str <- '31415926535897932384626433832795028841971693993751058209749445923078164062862089986280348253421170679821480865132823066470938446095505822317253594081284811174502841027019385211055596446229489549303819644288109756659334461284756482337867831652712019091456485669234603486104543266482133936072602491412737245870066063155881748815209209628292540917153643678925903600113305305488204665213841469519415116094330572703657595919530921861173819326117931051185480744623799627495673518857527248912279381830119491298336733624406566430860213949463952247371907021798609437027705392171762931767523846748184676694051320005681271452635608277857713427577896091736371787214684409012249534301465495853710507922796892589235420199561121290219608640344181598136297747713099605187072113499999983729780499510597317328160963185950244594553469083026425223082533446850352619311881710100031378387528865875332083814206171776691473035982534904287554687311595628638823537875937519577818577805321'\n",
    "\n",
    "pi.str <- substr(pi.str, 1, 100)\n",
    "\n",
    "i <- 1\n",
    "count <- 0\n",
    "while (i <= 100) {\n",
    "    pi.i <- as.double(substr(pi.str, i, i))\n",
    "    if (pi.i %% 2 == 0) {\n",
    "        count <- count + 1\n",
    "    }\n",
    "    i <- i + 1\n",
    "}\n",
    "\n",
    "pi.100.mtx <- matrix(as.integer(unlist(strsplit(pi.str, ''))), 10, 10)\n",
    "### END MY SOLUTION\n",
    "\n",
    "print(count) \n",
    "print(pi.100.mtx)"
   ]
  },
  {
   "cell_type": "code",
   "execution_count": 8,
   "metadata": {
    "nbgrader": {
     "grade": true,
     "grade_id": "pi_test_1",
     "locked": true,
     "points": 0.5,
     "schema_version": 3,
     "solution": false,
     "task": false
    }
   },
   "outputs": [],
   "source": [
    "test_that(\"the count number should be an integer between 45 and 55\", {\n",
    "    expect_that(count >= 45 & count <= 55, is_true())\n",
    "})\n",
    "### BEGIN HIDDEN TESTS\n",
    "test_that(\"check even digit count\", {\n",
    "    expect_that(count == 51, is_true())\n",
    "})\n",
    "### END HIDDEN TESTS"
   ]
  },
  {
   "cell_type": "code",
   "execution_count": 9,
   "metadata": {
    "nbgrader": {
     "grade": true,
     "grade_id": "pi_test_2",
     "locked": true,
     "points": 0.5,
     "schema_version": 3,
     "solution": false,
     "task": false
    }
   },
   "outputs": [],
   "source": [
    "test_that(\"the count number should be a matrix\", {\n",
    "    expect_that(pi.100.mtx, is_a(\"matrix\"))\n",
    "})\n",
    "test_that(\"the matrix should be 10 by 10\", {\n",
    "    expect_that(identical(dim(pi.100.mtx), as.integer(c(10, 10))), is_true())\n",
    "})\n",
    "test_that(\"check the first column\", {\n",
    "    expect_that(identical(as.vector(pi.100.mtx[1:10]), as.integer(c(3, 1, 4, 1, 5, 9, 2, 6, 5, 3))), is_true())\n",
    "})\n",
    "### BEGIN HIDDEN TESTS\n",
    "pi.str <- '31415926535897932384626433832795028841971693993751058209749445923078164062862089986280348253421170679821480865132823066470938446095505822317253594081284811174502841027019385211055596446229489549303819644288109756659334461284756482337867831652712019091456485669234603486104543266482133936072602491412737245870066063155881748815209209628292540917153643678925903600113305305488204665213841469519415116094330572703657595919530921861173819326117931051185480744623799627495673518857527248912279381830119491298336733624406566430860213949463952247371907021798609437027705392171762931767523846748184676694051320005681271452635608277857713427577896091736371787214684409012249534301465495853710507922796892589235420199561121290219608640344181598136297747713099605187072113499999983729780499510597317328160963185950244594553469083026425223082533446850352619311881710100031378387528865875332083814206171776691473035982534904287554687311595628638823537875937519577818577805321'\n",
    "pi.str <- substr(pi.str, 1, 100)\n",
    "test_that(\"check output matrix\", {\n",
    "    expect_that(identical(matrix(as.integer(unlist(strsplit(pi.str, ''))), 10, 10), pi.100.mtx), is_true())\n",
    "})\n",
    "### END HIDDEN TESTS"
   ]
  },
  {
   "cell_type": "markdown",
   "metadata": {
    "nbgrader": {
     "grade": false,
     "grade_id": "context_7",
     "locked": true,
     "schema_version": 3,
     "solution": false,
     "task": false
    }
   },
   "source": [
    "### A3.bb Solidfy your understanding of R by practice [20-30 min] Individual\n"
   ]
  },
  {
   "cell_type": "markdown",
   "metadata": {
    "nbgrader": {
     "grade": false,
     "grade_id": "animal_info",
     "locked": true,
     "points": 0,
     "schema_version": 3,
     "solution": false,
     "task": true
    }
   },
   "source": [
    "### Question 9 (1 point)\n",
    "\n",
    "Re-create a dataframe `exp.animals` to record information for an animal experiment as below. Comment your code at each step to describe what's happening.  \n",
    "\n",
    "__NOTE:__ Assign the column of the dataframe with proper header and be careful to check the type of each column. Make the sex of animals a nominal variable by `factor()` or `as.factor()`.  \n",
    "\n",
    "<img src=\"data/animal_info.png\" style=\"width: 300px;\">\n",
    "\n",
    "=== BEGIN MARK SCHEME ===  \n",
    "```ruby\n",
    "names <- paste(rep(\"Fluf\", each=8), 1:8, sep=\"\") # 8 names are created with a number at the end\n",
    "numbers <- c(7103:7110) # integers are assigned\n",
    "weights <- c(19.3, 18.1, 23.7, 22.9, 17.4, 18.2, 21.0, 20.5) # weights are assigned in order\n",
    "treatments <- c(TRUE, TRUE, FALSE, FALSE, TRUE, FALSE, TRUE, FALSE) # treatments assigned in order\n",
    "sex <- c(\"Female\", \"Female\", \"Male\", \"Male\",\"Female\", \"Female\", \"Male\", \"Male\")\n",
    "sex <- factor(sex) # sex assign in order, and need to be a factor\n",
    "# summary(sex) # shows set ouput\n",
    "exp.animals <- data.frame(Name=names, Number=numbers, Weight=weights, Treatment=treatments, Sex=sex) # creates df\n",
    "```\n",
    "=== END MARK SCHEME ==="
   ]
  },
  {
   "cell_type": "code",
   "execution_count": 11,
   "metadata": {
    "nbgrader": {
     "grade": false,
     "grade_id": "animal_info_code",
     "locked": false,
     "schema_version": 3,
     "solution": true,
     "task": false
    }
   },
   "outputs": [
    {
     "data": {
      "text/html": [
       "<table>\n",
       "<caption>A data.frame: 8 × 5</caption>\n",
       "<thead>\n",
       "\t<tr><th scope=col>Name</th><th scope=col>Number</th><th scope=col>Weight</th><th scope=col>Treatment</th><th scope=col>Sex</th></tr>\n",
       "\t<tr><th scope=col>&lt;fct&gt;</th><th scope=col>&lt;int&gt;</th><th scope=col>&lt;dbl&gt;</th><th scope=col>&lt;lgl&gt;</th><th scope=col>&lt;fct&gt;</th></tr>\n",
       "</thead>\n",
       "<tbody>\n",
       "\t<tr><td>Fluf1</td><td>7103</td><td>19.3</td><td> TRUE</td><td>Female</td></tr>\n",
       "\t<tr><td>Fluf2</td><td>7104</td><td>18.1</td><td> TRUE</td><td>Female</td></tr>\n",
       "\t<tr><td>Fluf3</td><td>7105</td><td>23.7</td><td>FALSE</td><td>Male  </td></tr>\n",
       "\t<tr><td>Fluf4</td><td>7106</td><td>22.9</td><td>FALSE</td><td>Male  </td></tr>\n",
       "\t<tr><td>Fluf5</td><td>7107</td><td>17.4</td><td> TRUE</td><td>Female</td></tr>\n",
       "\t<tr><td>Fluf6</td><td>7108</td><td>18.2</td><td>FALSE</td><td>Female</td></tr>\n",
       "\t<tr><td>Fluf7</td><td>7109</td><td>21.0</td><td> TRUE</td><td>Male  </td></tr>\n",
       "\t<tr><td>Fluf8</td><td>7110</td><td>20.5</td><td>FALSE</td><td>Male  </td></tr>\n",
       "</tbody>\n",
       "</table>\n"
      ],
      "text/latex": [
       "A data.frame: 8 × 5\n",
       "\\begin{tabular}{lllll}\n",
       " Name & Number & Weight & Treatment & Sex\\\\\n",
       " <fct> & <int> & <dbl> & <lgl> & <fct>\\\\\n",
       "\\hline\n",
       "\t Fluf1 & 7103 & 19.3 &  TRUE & Female\\\\\n",
       "\t Fluf2 & 7104 & 18.1 &  TRUE & Female\\\\\n",
       "\t Fluf3 & 7105 & 23.7 & FALSE & Male  \\\\\n",
       "\t Fluf4 & 7106 & 22.9 & FALSE & Male  \\\\\n",
       "\t Fluf5 & 7107 & 17.4 &  TRUE & Female\\\\\n",
       "\t Fluf6 & 7108 & 18.2 & FALSE & Female\\\\\n",
       "\t Fluf7 & 7109 & 21.0 &  TRUE & Male  \\\\\n",
       "\t Fluf8 & 7110 & 20.5 & FALSE & Male  \\\\\n",
       "\\end{tabular}\n"
      ],
      "text/markdown": [
       "\n",
       "A data.frame: 8 × 5\n",
       "\n",
       "| Name &lt;fct&gt; | Number &lt;int&gt; | Weight &lt;dbl&gt; | Treatment &lt;lgl&gt; | Sex &lt;fct&gt; |\n",
       "|---|---|---|---|---|\n",
       "| Fluf1 | 7103 | 19.3 |  TRUE | Female |\n",
       "| Fluf2 | 7104 | 18.1 |  TRUE | Female |\n",
       "| Fluf3 | 7105 | 23.7 | FALSE | Male   |\n",
       "| Fluf4 | 7106 | 22.9 | FALSE | Male   |\n",
       "| Fluf5 | 7107 | 17.4 |  TRUE | Female |\n",
       "| Fluf6 | 7108 | 18.2 | FALSE | Female |\n",
       "| Fluf7 | 7109 | 21.0 |  TRUE | Male   |\n",
       "| Fluf8 | 7110 | 20.5 | FALSE | Male   |\n",
       "\n"
      ],
      "text/plain": [
       "  Name  Number Weight Treatment Sex   \n",
       "1 Fluf1 7103   19.3    TRUE     Female\n",
       "2 Fluf2 7104   18.1    TRUE     Female\n",
       "3 Fluf3 7105   23.7   FALSE     Male  \n",
       "4 Fluf4 7106   22.9   FALSE     Male  \n",
       "5 Fluf5 7107   17.4    TRUE     Female\n",
       "6 Fluf6 7108   18.2   FALSE     Female\n",
       "7 Fluf7 7109   21.0    TRUE     Male  \n",
       "8 Fluf8 7110   20.5   FALSE     Male  "
      ]
     },
     "metadata": {},
     "output_type": "display_data"
    }
   ],
   "source": [
    "### BEGIN MY SOLUTION\n",
    "names <- paste(rep(\"Fluf\", each=8), 1:8, sep=\"\") # 8 names are created with a number at the end\n",
    "numbers <- c(7103:7110) # integers are assigned\n",
    "weights <- c(19.3, 18.1, 23.7, 22.9, 17.4, 18.2, 21.0, 20.5) # weights are assigned in order\n",
    "treatments <- c(TRUE, TRUE, FALSE, FALSE, TRUE, FALSE, TRUE, FALSE) # treatments assigned in order\n",
    "sex <- c(\"Female\", \"Female\", \"Male\", \"Male\",\"Female\", \"Female\", \"Male\", \"Male\")\n",
    "sex <- factor(sex) # sex assign in order, and need to be a factor\n",
    "# summary(sex) # shows set ouput\n",
    "exp.animals <- data.frame(Name=names, Number=numbers, Weight=weights, Treatment=treatments, Sex=sex) # creates df\n",
    "### END MY SOLUTION\n",
    "\n",
    "exp.animals # display df"
   ]
  },
  {
   "cell_type": "code",
   "execution_count": 12,
   "metadata": {
    "nbgrader": {
     "grade": true,
     "grade_id": "animal_info_test",
     "locked": true,
     "points": 1,
     "schema_version": 3,
     "solution": false,
     "task": false
    }
   },
   "outputs": [],
   "source": [
    "# check column data type\n",
    "test_that(\"type of Name column should be factor\", {\n",
    "    expect_that(exp.animals$Name, is_a(\"factor\"))\n",
    "})\n",
    "test_that(\"type of Number column should be factor\", {\n",
    "    expect_that(exp.animals$Number, is_a(\"integer\"))\n",
    "})\n",
    "test_that(\"type of Weight column should be factor\", {\n",
    "    expect_that(exp.animals$Weight, is_a(\"numeric\"))\n",
    "})\n",
    "test_that(\"type of Treatment column should be factor\", {\n",
    "    expect_that(exp.animals$Treatment, is_a(\"logical\"))\n",
    "})\n",
    "test_that(\"type of Sex column should be factor\", {\n",
    "    expect_that(exp.animals$Sex, is_a(\"factor\"))\n",
    "})\n",
    "\n",
    "# check dataframe\n",
    "test_that(\"total number of female should be 4\", {\n",
    "    expect_that(summary(exp.animals$Sex)['Female'] == 4, is_true())\n",
    "})\n",
    "test_that(\"total number of female should be 4\", {\n",
    "    expect_that(summary(exp.animals$Sex)['Female'] == 4, is_true())\n",
    "})\n",
    "test_that(\"my.matrix should be 8 by 5\", {\n",
    "    expect_that(identical(dim(exp.animals), as.integer(c(8, 5))), is_true())\n",
    "})\n",
    "### BEGIN HIDDEN TESTS\n",
    "test_that(\"check animal name\", {\n",
    "    expect_that(identical(as.vector(exp.animals$Name), paste(rep(\"Fluf\", each=8), 1:8, sep=\"\")), is_true())\n",
    "})\n",
    "test_that(\"check animal number\", {\n",
    "    expect_that(identical(as.vector(exp.animals$Number), c(7103:7110)), is_true())\n",
    "})\n",
    "test_that(\"check animal weight\", {\n",
    "    expect_that(identical(as.vector(exp.animals$Weight), c(19.3, 18.1, 23.7, 22.9, 17.4, 18.2, 21.0, 20.5)), is_true())\n",
    "})\n",
    "test_that(\"check animal treatment\", {\n",
    "    expect_that(identical(as.vector(exp.animals$Treatment), \n",
    "                          c(TRUE, TRUE, FALSE, FALSE, TRUE, FALSE, TRUE, FALSE)), is_true())\n",
    "})\n",
    "test_that(\"check animal sex\", {\n",
    "    expect_that(identical(as.vector(exp.animals$Sex), \n",
    "                          c(\"Female\", \"Female\", \"Male\", \"Male\",\"Female\", \"Female\", \"Male\", \"Male\")), is_true())\n",
    "})\n",
    "### END HIDDEN TESTS"
   ]
  },
  {
   "cell_type": "markdown",
   "metadata": {
    "nbgrader": {
     "grade": false,
     "grade_id": "describe_structure",
     "locked": true,
     "points": 1,
     "schema_version": 3,
     "solution": false,
     "task": true
    }
   },
   "source": [
    "### Question 10 (1 point)\n",
    "\n",
    "Describe the structure of the dataframe `exp.animals` in Question 9 by script using `str()` for the full dataframe and `class()` for each column.  \n",
    "\n",
    "=== BEGIN MARK SCHEME ===  \n",
    "```ruby\n",
    "str(exp.animals)\n",
    "class(exp.animals$Name)\n",
    "class(exp.animals$Number)\n",
    "class(exp.animals$Weight)\n",
    "class(exp.animals$Treatment)\n",
    "class(exp.animals$Sex)\n",
    "```\n",
    "```\n",
    "'data.frame':\t8 obs. of  5 variables:\n",
    " $ Name     : chr  \"Fluf1\" \"Fluf2\" \"Fluf3\" \"Fluf4\" ...\n",
    " $ Number   : int  7103 7104 7105 7106 7107 7108 7109 7110\n",
    " $ Weight   : num  19 18 23 22 17 18 21 20\n",
    " $ Treatment: logi  TRUE TRUE FALSE FALSE TRUE FALSE ...\n",
    " $ Sex      : Factor w/ 2 levels \"Female\",\"Male\": 1 1 2 2 1 1 2 2\n",
    "'character'\n",
    "'integer'\n",
    "'numeric'\n",
    "'logical'\n",
    "'factor'\n",
    "```\n",
    "=== END MARK SCHEME ==="
   ]
  },
  {
   "cell_type": "code",
   "execution_count": 13,
   "metadata": {
    "nbgrader": {
     "grade": false,
     "grade_id": "describe_structure_code",
     "locked": false,
     "schema_version": 3,
     "solution": true,
     "task": false
    }
   },
   "outputs": [
    {
     "name": "stdout",
     "output_type": "stream",
     "text": [
      "'data.frame':\t8 obs. of  5 variables:\n",
      " $ Name     : Factor w/ 8 levels \"Fluf1\",\"Fluf2\",..: 1 2 3 4 5 6 7 8\n",
      " $ Number   : int  7103 7104 7105 7106 7107 7108 7109 7110\n",
      " $ Weight   : num  19.3 18.1 23.7 22.9 17.4 18.2 21 20.5\n",
      " $ Treatment: logi  TRUE TRUE FALSE FALSE TRUE FALSE ...\n",
      " $ Sex      : Factor w/ 2 levels \"Female\",\"Male\": 1 1 2 2 1 1 2 2\n"
     ]
    },
    {
     "data": {
      "text/html": [
       "'factor'"
      ],
      "text/latex": [
       "'factor'"
      ],
      "text/markdown": [
       "'factor'"
      ],
      "text/plain": [
       "[1] \"factor\""
      ]
     },
     "metadata": {},
     "output_type": "display_data"
    },
    {
     "data": {
      "text/html": [
       "'integer'"
      ],
      "text/latex": [
       "'integer'"
      ],
      "text/markdown": [
       "'integer'"
      ],
      "text/plain": [
       "[1] \"integer\""
      ]
     },
     "metadata": {},
     "output_type": "display_data"
    },
    {
     "data": {
      "text/html": [
       "'numeric'"
      ],
      "text/latex": [
       "'numeric'"
      ],
      "text/markdown": [
       "'numeric'"
      ],
      "text/plain": [
       "[1] \"numeric\""
      ]
     },
     "metadata": {},
     "output_type": "display_data"
    },
    {
     "data": {
      "text/html": [
       "'logical'"
      ],
      "text/latex": [
       "'logical'"
      ],
      "text/markdown": [
       "'logical'"
      ],
      "text/plain": [
       "[1] \"logical\""
      ]
     },
     "metadata": {},
     "output_type": "display_data"
    },
    {
     "data": {
      "text/html": [
       "'factor'"
      ],
      "text/latex": [
       "'factor'"
      ],
      "text/markdown": [
       "'factor'"
      ],
      "text/plain": [
       "[1] \"factor\""
      ]
     },
     "metadata": {},
     "output_type": "display_data"
    }
   ],
   "source": [
    "### BEGIN MY SOLUTION\n",
    "str(exp.animals)\n",
    "class(exp.animals$Name)\n",
    "class(exp.animals$Number)\n",
    "class(exp.animals$Weight)\n",
    "class(exp.animals$Treatment)\n",
    "class(exp.animals$Sex)\n",
    "### END MY SOLUTION"
   ]
  },
  {
   "cell_type": "markdown",
   "metadata": {
    "nbgrader": {
     "grade": false,
     "grade_id": "nutella",
     "locked": true,
     "points": 0,
     "schema_version": 3,
     "solution": false,
     "task": true
    }
   },
   "source": [
    "### Question 11 (1 point)\n",
    "\n",
    "Nutella needs to be fed with __5__ grams of rodent diet everyday. Create a for loop that will take a vector containing the weight of food that is given as `c(7,3,5,6,10,5,6)`. Print out the message if the food is \"more\", \"equal\" or \"less\" than the reference intake. Also, save logical constant `TRUE` to a logical vector named `food.enough` if the food is __no less then__ the reference intake, else `FALSE`. Comment out the code such that it's clear what's happening at each step.\n",
    "\n",
    "\n",
    "=== BEGIN MARK SCHEME ===  \n",
    "\n",
    "\n",
    "```ruby\n",
    "food.weight <- c(7,3,5,6,10,5,6)\n",
    "food.enough <- logical(length=length(food.weight))\n",
    "\n",
    "for (i in c(1:length(food.weight))){\n",
    "    if(food.weight[i] > 5){\n",
    "        print(\"This is too much\")\n",
    "        food.enough[i] <- TRUE\n",
    "        \n",
    "    }\n",
    "    else if(food.weight[i] == 5){\n",
    "        print(\"Perfect\")\n",
    "        food.enough[i] <- TRUE\n",
    "    }\n",
    "    else {\n",
    "        print(\"This is too little\")\n",
    "        food.enough[i] <- FALSE\n",
    "    }\n",
    "}\n",
    "\n",
    "food.enough\n",
    "```\n",
    "```\n",
    "[1] \"This is too much\"\n",
    "[1] \"This is too little\"\n",
    "[1] \"Perfect\"\n",
    "[1] \"This is too much\"\n",
    "[1] \"This is too much\"\n",
    "[1] \"Perfect\"\n",
    "[1] \"This is too much\"\n",
    "TRUE FALSE TRUE TRUE TRUE TRUE TRUE\n",
    "```\n",
    "\n",
    "\n",
    "=== END MARK SCHEME ===\n"
   ]
  },
  {
   "cell_type": "code",
   "execution_count": 3,
   "metadata": {
    "nbgrader": {
     "grade": false,
     "grade_id": "nutella_code",
     "locked": false,
     "schema_version": 3,
     "solution": true,
     "task": false
    }
   },
   "outputs": [
    {
     "name": "stdout",
     "output_type": "stream",
     "text": [
      "[1] \"This is too much\"\n",
      "[1] \"This is too little\"\n",
      "[1] \"Perfect\"\n",
      "[1] \"This is too much\"\n",
      "[1] \"This is too much\"\n",
      "[1] \"Perfect\"\n",
      "[1] \"This is too much\"\n",
      "[1]  TRUE FALSE  TRUE  TRUE  TRUE  TRUE  TRUE\n"
     ]
    }
   ],
   "source": [
    "### BEGIN MY SOLUTION\n",
    "food.weight <- c(7,3,5,6,10,5,6)\n",
    "food.enough <- logical(length=length(food.weight))\n",
    "\n",
    "for (i in c(1:length(food.weight))){\n",
    "    if(food.weight[i] > 5){\n",
    "        print(\"This is too much\")\n",
    "        food.enough[i] <- TRUE\n",
    "        \n",
    "    }\n",
    "    else if(food.weight[i] == 5){\n",
    "        print(\"Perfect\")\n",
    "        food.enough[i] <- TRUE\n",
    "    }\n",
    "    else {\n",
    "        print(\"This is too little\")\n",
    "        food.enough[i] <- FALSE\n",
    "    }\n",
    "}\n",
    "### END MY SOLUTION\n",
    "\n",
    "print(food.enough) # display your logical vector"
   ]
  },
  {
   "cell_type": "code",
   "execution_count": 15,
   "metadata": {
    "nbgrader": {
     "grade": true,
     "grade_id": "cell-ddbb57bda0adc838",
     "locked": true,
     "points": 1,
     "schema_version": 3,
     "solution": false,
     "task": false
    }
   },
   "outputs": [],
   "source": [
    "test_that(\"type of food.enough should be logical\", {\n",
    "    expect_that(food.enough, is_a(\"logical\"))\n",
    "})\n",
    "test_that(\"length of the logical vector food.enough should be 7\", {\n",
    "    expect_that(length(food.enough) == 7, is_true())\n",
    "})\n",
    "### BEGIN HIDDEN TESTS\n",
    "test_that(\"examine the answer\", {\n",
    "    expect_that(identical(food.enough, c(TRUE, FALSE, TRUE, TRUE, TRUE, TRUE, TRUE)), is_true())\n",
    "})\n",
    "### END HIDDEN TESTS"
   ]
  },
  {
   "cell_type": "markdown",
   "metadata": {
    "nbgrader": {
     "grade": false,
     "grade_id": "reflection_",
     "locked": true,
     "points": 1,
     "schema_version": 3,
     "solution": false,
     "task": true
    }
   },
   "source": [
    "### Question 12 (1 point)\n",
    "On an integer scale of `1-5`, `1` being very easy and `5` being the most difficult, where would you rank the A3.bb assignment and why? Include some notes about what you gained from this past week that you didn't know before as well as notes of things you already knew. _(Insert cell below for your answer.)_\n",
    "\n",
    "Improvements: Notice a [potentially intentional] mistake, or an area of this homework that could have been improved? Include your thoughts here. "
   ]
  }
 ],
 "metadata": {
  "celltoolbar": "Create Assignment",
  "kernelspec": {
   "display_name": "R",
   "language": "R",
   "name": "ir"
  },
  "language_info": {
   "codemirror_mode": "r",
   "file_extension": ".r",
   "mimetype": "text/x-r-source",
   "name": "R",
   "pygments_lexer": "r",
   "version": "3.5.1"
  }
 },
 "nbformat": 4,
 "nbformat_minor": 4
}
