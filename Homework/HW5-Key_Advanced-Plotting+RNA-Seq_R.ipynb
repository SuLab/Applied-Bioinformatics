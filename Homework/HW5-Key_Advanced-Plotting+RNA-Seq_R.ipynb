{
 "cells": [
  {
   "cell_type": "markdown",
   "metadata": {},
   "source": [
    "Before you turn this problem in, make sure everything runs as expected. First, **restart the kernel** (in the menubar, select Kernel$\\rightarrow$Restart) and then **run all cells** (in the menubar, select Cell$\\rightarrow$Run All).\n",
    "\n",
    "Make sure you fill in any place that says `YOUR CODE HERE` or \"YOUR ANSWER HERE\", as well as your name and collaborators below:"
   ]
  },
  {
   "cell_type": "code",
   "execution_count": null,
   "metadata": {},
   "outputs": [],
   "source": [
    "NAME = \"\"\n",
    "COLLABORATORS = \"\""
   ]
  },
  {
   "cell_type": "markdown",
   "metadata": {},
   "source": [
    "---"
   ]
  },
  {
   "cell_type": "markdown",
   "metadata": {
    "deletable": false,
    "editable": false,
    "nbgrader": {
     "cell_type": "markdown",
     "checksum": "af19bec3afb964774d85c2c4da8ad95c",
     "grade": false,
     "grade_id": "cell-b0209166ce6b4d54",
     "locked": true,
     "schema_version": 3,
     "solution": false,
     "task": false
    }
   },
   "source": [
    "# Homework 5: Advanced Plotting and RNA-Seq in R\n",
    "Curated by Sabah Ul-Hasan, Huitian Diao, Shang-Fu Chen, Jerry Zak, and Andrew Su\n",
    "\n",
    "Complete homework is due every Tuesday at 8 AM PST. <br>\n",
    "Save your homework as you go, so the efforts don't get lost. <br>\n",
    "Note there are up 11 points, but you can only receive 10 points total for homework.\n",
    "\n",
    "In this assignment, you will <br>\n",
    "A5.aa Affirm your understanding of R <br>\n",
    "A5.ab Expand and detail familarity with plotitng publishable figures in R <br>\n",
    "A5.ba Famliarize yourself with the end-goal figures general RNA-Seq analysis <br>\n",
    "A5.bb Practice application and build upon it in R\n",
    "\n",
    "Note that there is a section at the end (A5.bb) to point out any enhancements you personally would make to this assignment if you were to lead the course\n",
    "\n",
    "<font color = 'red' size = \"4\"><b>NOTE: Execute the code cell below to import the `testthat` library before you started working on the questions.</b></font>"
   ]
  },
  {
   "cell_type": "code",
   "execution_count": null,
   "metadata": {
    "deletable": false,
    "editable": false,
    "nbgrader": {
     "cell_type": "code",
     "checksum": "200161fda2c997296658210cc89b72fa",
     "grade": false,
     "grade_id": "cell-711e732d8e1e849d",
     "locked": true,
     "schema_version": 3,
     "solution": false,
     "task": false
    }
   },
   "outputs": [],
   "source": [
    "# Import the required R library for test case and autograding\n",
    "library(testthat)"
   ]
  },
  {
   "cell_type": "markdown",
   "metadata": {
    "deletable": false,
    "editable": false,
    "nbgrader": {
     "cell_type": "markdown",
     "checksum": "4905672cc1105ca2d7279d2d96eda8f7",
     "grade": false,
     "grade_id": "cell-9cbd0b1b17477028",
     "locked": true,
     "schema_version": 3,
     "solution": false,
     "task": false
    }
   },
   "source": [
    "## A5.aa: Affirm your understanding of R [20-30 min] Group of 3 "
   ]
  },
  {
   "cell_type": "markdown",
   "metadata": {
    "deletable": false,
    "editable": false,
    "nbgrader": {
     "cell_type": "markdown",
     "checksum": "a92d63918b9da93d0d6ad96f19908ec6",
     "grade": false,
     "grade_id": "cell-b6862e04967aa07d",
     "locked": true,
     "points": 1,
     "schema_version": 3,
     "solution": false,
     "task": true
    }
   },
   "source": [
    "### Question 1 (1 point)\n",
    "\n",
    "1. Code review: Take turns briefly talking through your code and process (3-5 min), then spend the remaining time discussing the different approaches you may have taken to get to the same end-goal. Compare the types of visuals you included, and the how behind each of them.   \n",
    "1. For the last 5 minutes on your own, think of a suggestion of something you would've liked to learn in relation to these topics that we didn't cover."
   ]
  },
  {
   "cell_type": "markdown",
   "metadata": {
    "deletable": false,
    "editable": false,
    "nbgrader": {
     "cell_type": "markdown",
     "checksum": "53adb759fcc2e2fb08d8e244e28ee649",
     "grade": false,
     "grade_id": "cell-f525efff5ae90397",
     "locked": true,
     "schema_version": 3,
     "solution": false,
     "task": false
    }
   },
   "source": [
    "## A5.ab: Advanced plotting in R [20-30 min] TPS\n",
    "#### ab.i Understanding R packages, specifically `ggplot2` and `ggpubr`"
   ]
  },
  {
   "cell_type": "markdown",
   "metadata": {
    "deletable": false,
    "editable": false,
    "nbgrader": {
     "cell_type": "markdown",
     "checksum": "d6cb827b895a318d1d20ca737dbb1a51",
     "grade": false,
     "grade_id": "cell-a78615968ed71492",
     "locked": true,
     "points": 1,
     "schema_version": 3,
     "solution": false,
     "task": true
    }
   },
   "source": [
    "## Question 2 (1 point)\n",
    "### Installation of `ggpubr`\n",
    "Read the following instructions carefully and ask questions whenever you had problem. The wrong configuration might cause unpredictable conflicts in your personal account. \n",
    "1. In the login page of your Jupyterhub, **open a new Terminal session**.\n",
    "1. To load dependencies: Under bash, run ~\\$ **`module load gcc/6.3.0`**\n",
    "1. To enter the R console: Under bash, run ~\\$ **`R`** \n",
    "1. To initiate the installation: Under R, run \\> **`install.packages(\"ggpubr\")`** \n",
    "1. When asked \"*Would you like to use a personal library instead? (yes/No/cancel)*\", answer **`y`**\n",
    "1. When asked \"*Would you like to create a personal library '~/R/x86_64-pc-linux-gnu-library/3.5' to install packages into? (yes/No/cancel)*\", answer **`y`**\n",
    "1. When asked \"*--- Please select a CRAN mirror for use in this session ---*\", answer **`1`**\n",
    "1. It will ran for a while and create bunch of messages, eventually you should get the system messages ended as:\n",
    "\n",
    "```\n",
    "** building package indices\n",
    "** testing if installed package can be loaded\n",
    "* DONE (ggpubr)\n",
    "The downloaded source packages are in\n",
    "        '/tmp/RtmpVkLTww/downloaded_packages'\n",
    "```\n",
    "9. Come back to this homework and test importing the 2 libraries `ggpubr` and `ggplot2`, report any issue if you get error message.\n"
   ]
  },
  {
   "cell_type": "markdown",
   "metadata": {
    "deletable": false,
    "editable": false,
    "nbgrader": {
     "cell_type": "markdown",
     "checksum": "2c544d4b1d78eecc671a19ecb84c1728",
     "grade": false,
     "grade_id": "cell-a6756d6c61a89b0c",
     "locked": true,
     "points": 1,
     "schema_version": 3,
     "solution": false,
     "task": true
    }
   },
   "source": [
    "### Question 3 (1 point)\n",
    "\n",
    "1. On your own, describe what the distinction is between a package in R vs base R. Why and when would we want to use a package over base R? Give an example in the context of plotting.\n",
    "1. On your own, by `ggplot2` or `ggpubr`, create the same data visualization as you did for HW4 Q1 (use the `games.csv` included in the `data` folder with HW5). Note the aspects that are different or similar, and how `ggplot2` and `ggpubr` are easier to use than base R (or perhaps more difficult). Comment the similarities and differences in your script.\n",
    "1. Now, spend 5-10 minutes discussing your finding with your partner. Include notes. \n",
    "\n",
    "_(Hint: a few examples for your idea)_\n",
    "<img src=\"data/Q2.svg\">\n",
    "- (Bonus +2 points in total grades) It's basic to recreate the panel **A** and **B** by `ggplot2` or `ggpubr`, and sufficient to get full credit in this question to generate/improve either **single** one of them with default settings - still try as much as you can to improve it in your own way. However, the panel **C** is an advanced one for students seeking for challenges, which might need more libraries and combined knowledge from previous lecture. Therefore, extra points will be applied to your total grades if achieving the **FULL figure** - including the **3 panels joint together** with proper **customized transparent color**, **font size/style**, **shared legend and axis scale**, **readable labels/titles** and **aspect ratio = 3:1**, **high resolution** output (dpi=300). Note we won't cover the potential solution (build your own coding style!!) but it's common requisites for a formal publication. (WARNING: Revisit the bonus question when you really have plenty of time after finishing this homework...)"
   ]
  },
  {
   "cell_type": "markdown",
   "metadata": {
    "deletable": false,
    "editable": false,
    "nbgrader": {
     "cell_type": "markdown",
     "checksum": "b55a1d0f923ea91e4b04970695357308",
     "grade": false,
     "grade_id": "cell-9ee29f9bb2dadde5",
     "locked": true,
     "schema_version": 3,
     "solution": false,
     "task": false
    }
   },
   "source": [
    "#### ab.ii Understanding the fundamentals of data visualization (on your own time) "
   ]
  },
  {
   "cell_type": "markdown",
   "metadata": {
    "deletable": false,
    "editable": false,
    "nbgrader": {
     "cell_type": "markdown",
     "checksum": "83a7f8312b5c1e18e89781ebff023fac",
     "grade": false,
     "grade_id": "cell-276439f2a1dfb63e",
     "locked": true,
     "points": 1,
     "schema_version": 3,
     "solution": false,
     "task": true
    }
   },
   "source": [
    "### Question 4 (1 point)\n",
    "\n",
    "1. Walk through the following lecture and complete the tutorials therein. Use this space to take notes of what you learned <br>\n",
    "https://docs.google.com/presentation/d/1Kyogt2wSJITp5eY9zWJwqCU5gUt0w-8KhniU5dYyunQ/edit?usp=sharing<br>\n",
    "https://sabahzero.github.io/dataviz/resources\n",
    "1. Include an enhancement to these fundamentals. What is missing or even out of date for either on the tutorial directly or the Resources page?\n",
    "1. Reflections: On an integer scale of `1-5`, `1` being very easy and `5` being the most difficult, where would you rank today's exercises? Provide brief notes on what was easy vs difficult, and why. <br>\n"
   ]
  },
  {
   "cell_type": "markdown",
   "metadata": {
    "deletable": false,
    "editable": false,
    "nbgrader": {
     "cell_type": "markdown",
     "checksum": "33079602774a9426187610400bd3a2e5",
     "grade": false,
     "grade_id": "cell-8d9635296d8c05fb",
     "locked": true,
     "schema_version": 3,
     "solution": false,
     "task": false
    }
   },
   "source": [
    "### A5.ba: Visualizing Gene Expression from RNA-Seq Data  [20-30 min] Individual\n",
    "- Each of the questions are possible to be solved by `tidyverse`"
   ]
  },
  {
   "cell_type": "markdown",
   "metadata": {
    "deletable": false,
    "editable": false,
    "nbgrader": {
     "cell_type": "markdown",
     "checksum": "2c9f7c4c6b020be5cf75c0f5e2990151",
     "grade": false,
     "grade_id": "cell-5142f94dd21b3d99",
     "locked": true,
     "points": 1,
     "schema_version": 3,
     "solution": false,
     "task": true
    }
   },
   "source": [
    "### Question 5 (1 point)\n",
    "On your own (10 min)\n",
    "1. Load the `data/RNASeq_post-processing.csv` dataset. Explain what the two columns mean in the context of biology and RNA-Seq. Give each of them a header. Include what stage you think it is along the RNA-Seq data analysis pipeline. Additionally, identify where this data came from via NCBI. _(Hint: The dataframe had a few redundant lines needed to be removed.)_\n",
    "1. For the next 5 min, discuss with your partner and include notes on updates below.\n",
    "\n",
    "\n"
   ]
  },
  {
   "cell_type": "markdown",
   "metadata": {
    "deletable": false,
    "editable": false,
    "nbgrader": {
     "cell_type": "markdown",
     "checksum": "f134e90ea2582a45224ad5681dd82216",
     "grade": false,
     "grade_id": "cell-28f3b1fab0c4be24",
     "locked": true,
     "points": 1,
     "schema_version": 3,
     "solution": false,
     "task": true
    }
   },
   "source": [
    "### Question 6 (1 point)\n",
    "In the remaining time\n",
    "1. Compare expression value of any two genes of interest by boxplot.  \n",
    "2. How many experiement here included in the dataset? Determine the statistical significance of your target genes.\n",
    "3. Come up with a strategy to impute the missing value for statistical test, if necessary.\n",
    "\n",
    "\n",
    "\n",
    "\n"
   ]
  },
  {
   "cell_type": "markdown",
   "metadata": {
    "deletable": false,
    "editable": false,
    "nbgrader": {
     "cell_type": "markdown",
     "checksum": "53bfb4f19df25956cccb07f00f928f0d",
     "grade": false,
     "grade_id": "cell-5a37512931399467",
     "locked": true,
     "schema_version": 3,
     "solution": false,
     "task": false
    }
   },
   "source": [
    "### A5.bb Applying R Skills to Biological Meaning [20-30 min] Individual"
   ]
  },
  {
   "cell_type": "markdown",
   "metadata": {
    "deletable": false,
    "editable": false,
    "nbgrader": {
     "cell_type": "markdown",
     "checksum": "40058811ed2428841c3def3595daff0e",
     "grade": false,
     "grade_id": "cell-f00556c7b94fc20e",
     "locked": true,
     "points": 1,
     "schema_version": 3,
     "solution": false,
     "task": true
    }
   },
   "source": [
    "### Question 7 (1 point)\n",
    "1. Create the heatmap for the Q5.  \n",
    "1. Join these two figures together. _(Hint: consider using `ggpubr` or other packages)_\n",
    "\n",
    "\n"
   ]
  },
  {
   "cell_type": "markdown",
   "metadata": {
    "deletable": false,
    "editable": false,
    "nbgrader": {
     "cell_type": "markdown",
     "checksum": "7b98556d86a8867907a1b15cc7804be8",
     "grade": false,
     "grade_id": "cell-702f38e7c5698214",
     "locked": true,
     "points": 1,
     "schema_version": 3,
     "solution": false,
     "task": true
    }
   },
   "source": [
    "### Question 8 (1 point)\n",
    "Determine the statistical significance of these two figures and and show them in your joined plot. Describe why you chose these statistics, and the specifics of tests involve. Explain what these say about the data. (Hint: to compare 2 genes of interest, you would like to calculate fold change in $log2$-scale and get $p$-value from statistical test)\n",
    "\n",
    "\n"
   ]
  },
  {
   "cell_type": "markdown",
   "metadata": {
    "deletable": false,
    "editable": false,
    "nbgrader": {
     "cell_type": "markdown",
     "checksum": "07beeafdf07addede2416a69e7c18369",
     "grade": false,
     "grade_id": "cell-e3ee869194aa985e",
     "locked": true,
     "points": 1,
     "schema_version": 3,
     "solution": false,
     "task": true
    }
   },
   "source": [
    "### Question 9 (1 point)\n",
    "Create a loop to repeat same analysis process for multiple pairs of genes. Generate figures above with statistics as png files.\n"
   ]
  },
  {
   "cell_type": "markdown",
   "metadata": {
    "deletable": false,
    "editable": false,
    "nbgrader": {
     "cell_type": "markdown",
     "checksum": "e958e7481700b64880f08b4f91d5916e",
     "grade": false,
     "grade_id": "cell-260b38f4ff73f25d",
     "locked": true,
     "points": 1,
     "schema_version": 3,
     "solution": false,
     "task": true
    }
   },
   "source": [
    "### Question 10 (1 point)\n",
    "Advanced: Ask another biological question and include a 3rd figure with statistics as one joined image. "
   ]
  },
  {
   "cell_type": "markdown",
   "metadata": {
    "deletable": false,
    "editable": false,
    "nbgrader": {
     "cell_type": "markdown",
     "checksum": "61bb3d70d05fdcb0143ddfd612678f3e",
     "grade": false,
     "grade_id": "cell-d81ee466e43323f1",
     "locked": true,
     "points": 1,
     "schema_version": 3,
     "solution": false,
     "task": true
    }
   },
   "source": [
    "### Question 11 (1 point)\n",
    "1. Reflections: On an integer scale of `1-5`, `1` being very easy and `5` being the most difficult, where would you rank the A1.bb assignment and why? Include some notes about what you gained from this past week that you didn't know before as well as notes of things you already knew.\n",
    "\n",
    "2. Improvements: Notice a [potentially intentional] mistake, or an area of this homework that could have been improved? Include your thoughts here. "
   ]
  }
 ],
 "metadata": {
  "kernelspec": {
   "display_name": "R",
   "language": "R",
   "name": "ir"
  },
  "language_info": {
   "codemirror_mode": "r",
   "file_extension": ".r",
   "mimetype": "text/x-r-source",
   "name": "R",
   "pygments_lexer": "r",
   "version": "3.5.1"
  }
 },
 "nbformat": 4,
 "nbformat_minor": 4
}
