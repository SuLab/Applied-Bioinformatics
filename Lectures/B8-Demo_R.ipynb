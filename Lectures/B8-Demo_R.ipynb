{
 "cells": [
  {
   "cell_type": "markdown",
   "metadata": {},
   "source": [
    "### B8.ba: Making *another* count matrix (practice practice practice!), but something will be off about it.. <br>\n",
    "Try out different tools you haven't yet, if you feel creative (or to challenge yoursef)"
   ]
  },
  {
   "cell_type": "markdown",
   "metadata": {},
   "source": [
    "## Now\n",
    "Filtering and normalizing your data for DESeq2 <br>\n",
    "https://github.com/SuLab/Applied-Bioinformatics/blob/Fall-2018/Unit2-RNAseq/3.6_DESeq2_differential_expression_analysis.ipynb \n",
    "\n",
    "\n",
    "https://www.ncbi.nlm.nih.gov/geo/query/acc.cgi?acc=GSE97919 <br>\n",
    "Look familiar?\n",
    "\n",
    "1. Get the files into your data folder\n",
    "2. Convert these to a 'matrix'for DESeq2. Compare how these look in contrast to the output count matrix you created. What's different and why?\n",
    "3. Convert from character to numeric\n",
    "4. Normalize matrix, what does this mean?? (DESeq fxn) "
   ]
  },
  {
   "cell_type": "code",
   "execution_count": null,
   "metadata": {},
   "outputs": [],
   "source": [
    "# Good habits: Always check directory\n",
    "getwd()"
   ]
  },
  {
   "cell_type": "code",
   "execution_count": null,
   "metadata": {},
   "outputs": [],
   "source": [
    "# Assign your files to a... how can we figure out what 'counts_files' is?\n",
    "dir_counts <- \"/home_local/instructor-abcb2020/abcb2020/source/HW8/data/Demos/htseq_out\" # note method used\n",
    "counts_files <- list.files(dir_counts)\n",
    "counts_files"
   ]
  },
  {
   "cell_type": "code",
   "execution_count": null,
   "metadata": {},
   "outputs": [],
   "source": [
    "# Install/load DESeq2 package (now we're coming full-circle up from where we started week 5)\n",
    "\n",
    "library(\"DESeq2\")\n",
    "packageVersion(\"DESeq2\")"
   ]
  },
  {
   "cell_type": "code",
   "execution_count": null,
   "metadata": {},
   "outputs": [],
   "source": [
    "# run...?\n",
    "dds1 <- DESeqDataSetFromHTSeqCount(sampleTable = ?, \n",
    "                                   directory = dir_counts, \n",
    "                                   design = ~ group)"
   ]
  },
  {
   "cell_type": "code",
   "execution_count": null,
   "metadata": {},
   "outputs": [],
   "source": [
    "# Create a 'metadata' sheet (you always need this!)\n",
    "samplesInfo <- as.data.frame(matrix(ncol=2, nrow=length(counts_files)))  \n",
    "samplesInfo$samplename <- counts_files  \n",
    "samplesInfo$filename <- counts_files  \n",
    "samplesInfo$group <- c(\"mock\", \"ZIKV\", \"mock\", \"ZIKV\", \"mock\", \"ZIKV\") \n",
    "\n",
    "samplesInfo # What do we need to change?"
   ]
  },
  {
   "cell_type": "code",
   "execution_count": null,
   "metadata": {},
   "outputs": [],
   "source": [
    "#Remove the blank columns (RE setting up your notebook cells to then script)\n",
    "\n",
    "samplesInfo <- samplesInfo[,-c(1:2)]\n",
    "samplesInfo"
   ]
  },
  {
   "cell_type": "code",
   "execution_count": null,
   "metadata": {},
   "outputs": [],
   "source": [
    "# Prep for DESeq2 (what are each of these steps?)\n",
    "\n",
    "# What does this format remind you of from week 5?\n",
    "dds1 <- DESeqDataSetFromHTSeqCount(sampleTable = samplesInfo, \n",
    "                                           directory = dir_counts, \n",
    "                                           design = ~ group)"
   ]
  },
  {
   "cell_type": "code",
   "execution_count": null,
   "metadata": {},
   "outputs": [],
   "source": [
    "# How to fix? Convert to numeric                                           design = ~ group)"
   ]
  },
  {
   "cell_type": "code",
   "execution_count": null,
   "metadata": {},
   "outputs": [],
   "source": [
    "# Explore the data\n",
    "colData(dds1)"
   ]
  },
  {
   "cell_type": "markdown",
   "metadata": {},
   "source": [
    "Notes on normalization and filtering matrix here <br>\n",
    "ie https://www.bioconductor.org/packages/devel/bioc/vignettes/DESeq2/inst/doc/DESeq2.html#data-transformations-and-visualization <br>\n",
    "\n",
    "Feel welcome to add others"
   ]
  },
  {
   "cell_type": "markdown",
   "metadata": {},
   "source": [
    "### B8.bb DESeq2"
   ]
  },
  {
   "cell_type": "markdown",
   "metadata": {},
   "source": [
    "DESeq2 fxn\n",
    "https://lashlock.github.io/compbio/R_presentation.html"
   ]
  },
  {
   "cell_type": "markdown",
   "metadata": {},
   "source": [
    "What can you do to check variations of normalizing your data?"
   ]
  },
  {
   "cell_type": "markdown",
   "metadata": {},
   "source": [
    "What is a scientific question we could ask on this data that can be related to a volcano plot or PCA plot?"
   ]
  }
 ],
 "metadata": {
  "kernelspec": {
   "display_name": "R",
   "language": "R",
   "name": "ir"
  },
  "language_info": {
   "codemirror_mode": "r",
   "file_extension": ".r",
   "mimetype": "text/x-r-source",
   "name": "R",
   "pygments_lexer": "r",
   "version": "3.5.1"
  }
 },
 "nbformat": 4,
 "nbformat_minor": 4
}
