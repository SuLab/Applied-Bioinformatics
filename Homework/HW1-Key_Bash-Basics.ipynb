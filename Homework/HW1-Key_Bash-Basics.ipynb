{
 "cells": [
  {
   "cell_type": "markdown",
   "metadata": {
    "nbgrader": {
     "grade": false,
     "grade_id": "context_1",
     "locked": true,
     "schema_version": 3,
     "solution": false,
     "task": false
    }
   },
   "source": [
    "# Homework 1: Jupyter and Bash Basics\n",
    "Curated by Sabah Ul-Hasan, Karthik Gangavarapu, Shang-Fu Chen, Huitian Dao, and Andrew Su\n",
    "\n",
    "Complete homework is due every Tuesday at 8 AM PST.<br>\n",
    "Save your homework as you go, so the efforts don't get lost. <br>\n",
    "Note there are up 12 points, but you can only receive 10 points total for homework.\n",
    "\n",
    "In this assignment, you will <br>\n",
    "A1.aa Practice basic bash operations in terminal and functionality of Jupyter notebook (Python kernel)<br>\n",
    "A1.ab Execute basic operations of bash commands in Jupyter notebook <br>\n",
    "A1.ba Utilize bash for more sophisicated tasks, such as pipes <br>\n",
    "A1.bb Solidfy your understanding of bash by practice\n",
    "\n",
    "Note that there is a section at the end (A1.bb) to point out any enhancements you personally would make to this assignment if you were to lead the course. "
   ]
  },
  {
   "cell_type": "markdown",
   "metadata": {
    "nbgrader": {
     "grade": false,
     "grade_id": "context_2",
     "locked": true,
     "schema_version": 3,
     "solution": false,
     "task": false
    }
   },
   "source": [
    "## A1.aa: Github and Jupyter notebook [20-30 min] Individual\n",
    "\n",
    "### aa.i Confirmation of Github account and download of data in Bioinformatics course repo  "
   ]
  },
  {
   "cell_type": "markdown",
   "metadata": {
    "nbgrader": {
     "grade": false,
     "grade_id": "ls_pwd_cd_unzip",
     "locked": true,
     "points": 0,
     "schema_version": 3,
     "solution": false,
     "task": true
    }
   },
   "source": [
    "#### Question 1 (1 point)\n",
    "- Use command line to find and show where the `data.zip` file is located within `Question1` (using absolute path.)\n",
    "- Move it back to `HW1` at the same level with this notebook and then decompress it.\n",
    "- Copy out `fastq` folder to `HW1` folder.\n",
    "\n",
    "Did you find this folder?  \n",
    "- If yes, show the combination of commands you reach the folder below.\n",
    "- If no, type out any obstacles you encounter here.\n",
    "\n",
    "=== BEGIN MARK SCHEME ===  \n",
    "__Answer:__  \n",
    "- Students should use a combination of __`ls`__, __`pwd`__, and __`cd`__ to reach `Question1/here/is/the/answer/data.zip`. \n",
    "- Understand and use __`cd ../`__ to return to `HW1` folder.\n",
    "- Once there, __`unzip [filename]`__\n",
    "- Use __`cp -r`__ to copy the `fastq` folder out.\n",
    "\n",
    "=== END MARK SCHEME ==="
   ]
  },
  {
   "cell_type": "markdown",
   "metadata": {
    "nbgrader": {
     "grade": true,
     "grade_id": "ls_pwd_cd_unzip_answer",
     "locked": false,
     "points": 1,
     "schema_version": 3,
     "solution": true,
     "task": false
    }
   },
   "source": []
  },
  {
   "cell_type": "markdown",
   "metadata": {
    "nbgrader": {
     "grade": false,
     "grade_id": "context_3",
     "locked": true,
     "schema_version": 3,
     "solution": false,
     "task": false
    }
   },
   "source": [
    "\n",
    "### aa.ii Confirmation of basic Jupyter notebook operations <br>\n",
    "Use ```jupyter notebook``` to open _HW1_ in your browser. The notebook should be opened in the Notebook Editor as below (for more user interface information, see [the documentation](https://jupyter-notebook.readthedocs.io/en/stable/ui_components.html)):\n",
    "<img src=\"https://jupyter-notebook.readthedocs.io/en/stable/_images/jupyter-notebook-default.png\" style=\"width: 750px;\">\n",
    "\n",
    "Do you see the same screen as shared by the instructors? (Yes/No)"
   ]
  },
  {
   "cell_type": "markdown",
   "metadata": {
    "nbgrader": {
     "grade": false,
     "grade_id": "run_2plus3",
     "locked": true,
     "schema_version": 3,
     "solution": false,
     "task": false
    }
   },
   "source": [
    "#### Question 2 (1 point)\n",
    "Run the cell with an output after typing `2+3`.\n",
    "\n",
    "a. Notice the different settings (ie Markdown). What do they mean? <br>\n",
    "b. Why did we need to install the R kernel, whereas Python 3 was automatically included? <br>\n",
    "c. What additional observations do you have of Jupyter notebook, and how it functions? Play around with it and take notes of your observations. Also, type out any obstacles you encounter here."
   ]
  },
  {
   "cell_type": "code",
   "execution_count": 2,
   "metadata": {
    "nbgrader": {
     "grade": true,
     "grade_id": "run_2plus3_answer",
     "locked": false,
     "points": 1,
     "schema_version": 3,
     "solution": true,
     "task": false
    }
   },
   "outputs": [
    {
     "data": {
      "text/plain": [
       "5"
      ]
     },
     "execution_count": 2,
     "metadata": {},
     "output_type": "execute_result"
    }
   ],
   "source": [
    "### BEGIN MY SOLUTION\n",
    "2+3\n",
    "### END MY SOLUTION"
   ]
  },
  {
   "cell_type": "markdown",
   "metadata": {
    "nbgrader": {
     "grade": false,
     "grade_id": "cell-7c040f6c57dd2a26",
     "locked": true,
     "schema_version": 3,
     "solution": false,
     "task": false
    }
   },
   "source": [
    "## A1.ab: Execute basic bash commands in Python (using Jupyter) [20-30 min] TPS\n",
    "### ab.i Confirmation of basic bash operations <br>\n",
    "Usually, you would want to use command line in your terminal to run an R script for a given job/task. Here we are going to leverage the `%%bash` 'magic command' in the jupyter python kernel to execute bash commands in the notebok directly. More information on magic commands can be found in the [documentation of the python kernel](https://ipython.readthedocs.io/en/stable/interactive/magics.html). If you want to call bash commands using the R kernel, you will utilize the [`system`](https://www.rdocumentation.org/packages/base/versions/3.6.2/topics/system) function in R.\n",
    "\n",
    "For example to execute the `pwd` command in the python kernel, you will use, \n",
    "\n",
    "```\n",
    "%%bash\n",
    "pwd\n",
    "```\n",
    "\n",
    "To execute the same `pwd` command in the R kernel, you will use, \n",
    "\n",
    "```\n",
    "system('pwd', intern=TRUE)\n",
    "```\n",
    "\n",
    "In this notebook, we will **only be using the python kernel**. We are doing this because the syntax for bash is easier and more concise under python than R. We will switch to the R kernel, which you have already installed in the configuration instructions, starting Week 3."
   ]
  },
  {
   "cell_type": "markdown",
   "metadata": {
    "nbgrader": {
     "grade": false,
     "grade_id": "cell-c55032ae385a03ef",
     "locked": true,
     "schema_version": 3,
     "solution": false,
     "task": false
    }
   },
   "source": [
    "### ab.ii Continuation of basic bash operations <br>\n",
    "Use the basic command lines covered in lecture to walk through the following exercises"
   ]
  },
  {
   "cell_type": "markdown",
   "metadata": {
    "nbgrader": {
     "grade": false,
     "grade_id": "cell-38caa9aecb01a4e0",
     "locked": true,
     "points": 1,
     "schema_version": 3,
     "solution": false,
     "task": true
    }
   },
   "source": [
    "#### Question 3 (1 point)\n",
    "Find and list the `artists.txt` file.  \n",
    "=== BEGIN MARK SCHEME ===  \n",
    "```ruby\n",
    "%%bash\n",
    "ls data/art\n",
    "```\n",
    "```\n",
    "artists.txt\n",
    "```\n",
    "__Answer:__ artists.txt  \n",
    "=== END MARK SCHEME ===  "
   ]
  },
  {
   "cell_type": "code",
   "execution_count": 37,
   "metadata": {
    "nbgrader": {
     "grade": false,
     "grade_id": "cell-e335aad81b9fbd8f",
     "locked": false,
     "schema_version": 3,
     "solution": true,
     "task": false
    }
   },
   "outputs": [
    {
     "name": "stdout",
     "output_type": "stream",
     "text": [
      "artists.txt\n"
     ]
    }
   ],
   "source": [
    "%%bash\n",
    "### BEGIN MY SOLUTION\n",
    "ls data/art\n",
    "### END MY SOLUTION"
   ]
  },
  {
   "cell_type": "markdown",
   "metadata": {
    "nbgrader": {
     "grade": false,
     "grade_id": "cell-7ec84fb290a57a6e",
     "locked": true,
     "points": 1,
     "schema_version": 3,
     "solution": false,
     "task": true
    }
   },
   "source": [
    "#### Question 4 (1 point)\n",
    "Count the number of artists in the file that are __not__ French. Print out this list.  \n",
    "_Note: Insert cells below for your code and answer._  \n",
    "=== BEGIN MARK SCHEME ===  \n",
    "```ruby\n",
    "%%bash\n",
    "cd data/art \n",
    "grep -c -v French artists.txt\n",
    "```\n",
    "```\n",
    "138\n",
    "```\n",
    "__Answer:__ 138  \n",
    "=== END MARK SCHEME ===  \n",
    "\n",
    "Script your own task that includes 1-2 basic commands we haven't yet tried.  \n",
    "_Note: Insert cells below for your code and answer._"
   ]
  },
  {
   "cell_type": "markdown",
   "metadata": {
    "nbgrader": {
     "grade": false,
     "grade_id": "cell-b298e5fd54c5f6c4",
     "locked": true,
     "schema_version": 3,
     "solution": false,
     "task": false
    }
   },
   "source": [
    "### ab.iii Developing these skills on your own time \n",
    "\n",
    "Now that we've worked through these in pairs, try the following exercises on your own. Have them complete pior to next class. <br>"
   ]
  },
  {
   "cell_type": "markdown",
   "metadata": {
    "nbgrader": {
     "grade": false,
     "grade_id": "cell-6b0a0d4ba495152a",
     "locked": true,
     "points": 1,
     "schema_version": 3,
     "solution": false,
     "task": true
    }
   },
   "source": [
    "##### Question 5 (1 point)\n",
    "Print the first 10 lines of `artists.txt`  \n",
    "_Note: Insert cells below for your code and answer._  \n",
    "=== BEGIN MARK SCHEME ===  \n",
    "```ruby\n",
    "%%bash\n",
    "head data/art/artists.txt\n",
    "```\n",
    "```\n",
    "KILIAN, Wolfgang\t(1581-1662)\tBaroque\tGerman graphic artist (Augsburg)\n",
    "KINSOEN, François-Joseph\t(1771-1839)\tRomanticism\tFlemish painter\n",
    "KISS, August Karl Edouard\t(1802-1865)\tRomanticism\tGerman sculptor\n",
    "KISS, Bálint\t(1802-1868)\tRomanticism\tHungarian painter (Pest)\n",
    "KLEINER, Salomon\t(1703-1761)\tBaroque\tGerman graphic artist\n",
    "KLENZE, Leo von\t(1784-1864)\tRomanticism\tGerman architect\n",
    "KLESECKER, Justus (see GLESKER, Justus)\t(c. 1615-1678)\tBaroque\tGerman sculptor (Franconia)\n",
    "KLINGER, Max\t(1857-1920)\tRealism\tGerman painter\n",
    "KLOCKER, Hans\t(active 1478-1500l)\tNorthern Renaissance\tAustrian sculptor (South Tyrol)\n",
    "KLODT, Mikhail Konstantinovich\t(c. 1832-1902)\tRealism\tRussian painter (St. Petersburg)\n",
    "```\n",
    "=== END MARK SCHEME ===  \n",
    "\n",
    "Make a copy of `artists.txt` and rename it as `artists_new.txt`. Move the new copy to a new folder titled `new_folder` in the `data` folder (at the same level of the `art` folder.)  \n",
    "_Note: Insert cells below for your code and answer._  \n",
    "=== BEGIN MARK SCHEME ===  \n",
    "```ruby\n",
    "%%bash\n",
    "cd data/\n",
    "mkdir new_folder\n",
    "cp art/artists.txt new_folder/artists_new.txt\n",
    "``` \n",
    "=== END MARK SCHEME ===  "
   ]
  },
  {
   "cell_type": "markdown",
   "metadata": {
    "nbgrader": {
     "grade": false,
     "grade_id": "cell-ead93ee62631f746",
     "locked": true,
     "points": 1,
     "schema_version": 3,
     "solution": false,
     "task": true
    }
   },
   "source": [
    "#### Question 6 (1 point)\n",
    "Now, ask a question about the data, then answer it with your script! Create your own script returning some information about about the `artists.txt` file that we didn't know about before or haven't yet tried - Utilize the __`sort`__ command as part of your script.  \n",
    "_Note: Insert cells below for your code and answer._  \n",
    "\n",
    "Reflections: On an integer scale of `1-5`, `1` being very easy and `5` being the most difficult, where would you rank today's exercises? Be honest! It's okay if you put a `5`, and will help us better understand how to make sure your needs are being met. "
   ]
  },
  {
   "cell_type": "markdown",
   "metadata": {
    "nbgrader": {
     "grade": false,
     "grade_id": "cell-c48add631e5a7194",
     "locked": true,
     "schema_version": 3,
     "solution": false,
     "task": false
    }
   },
   "source": [
    "## A1.ba: Wildcards, redirections, and pipes [20-30 min] Group of 3  \n",
    "### ba.i Glob\n",
    "What is glob, and why use it compared to basic command line functions?"
   ]
  },
  {
   "cell_type": "markdown",
   "metadata": {
    "nbgrader": {
     "grade": false,
     "grade_id": "cell-8e3c252192e9c58f",
     "locked": true,
     "points": 1,
     "schema_version": 3,
     "solution": false,
     "task": true
    }
   },
   "source": [
    "#### Question 7 (1 point)\n",
    "Utliize glob to create a command that lists all the .txt files in the `tmp` directory, located in `data`. What could be another way to glob? Include this answer as a few sentences.  \n",
    "_Note: Insert cells below for your code and answer._  \n",
    "=== BEGIN MARK SCHEME ===  \n",
    "```ruby\n",
    "%%bash\n",
    "ls data/tmp/*.txt\n",
    "```\n",
    "=== END MARK SCHEME ===  "
   ]
  },
  {
   "cell_type": "markdown",
   "metadata": {
    "nbgrader": {
     "grade": false,
     "grade_id": "cell-d78e7ace05ce7481",
     "locked": true,
     "schema_version": 3,
     "solution": false,
     "task": false
    }
   },
   "source": [
    "### ba.i Redirection and pipes  \n",
    "In your, work on these individually and then compare your scripts.\n",
    "What does it mean to redirect, and why would you utilize a pipe over a basic command line?"
   ]
  },
  {
   "cell_type": "markdown",
   "metadata": {
    "nbgrader": {
     "grade": false,
     "grade_id": "cell-2896a8740be4aeb4",
     "locked": true,
     "points": 1,
     "schema_version": 3,
     "solution": false,
     "task": true
    }
   },
   "source": [
    "#### Question 8 (1 point)\n",
    "Building off of glob, use a pipe to count the number of .txt files in `data/tmp`  \n",
    "_Note: Insert cells below for your code and answer._  \n",
    "=== BEGIN MARK SCHEME ===  \n",
    "```ruby\n",
    "%%bash\n",
    "ls data/tmp/*.txt | wc -l\n",
    "```\n",
    "```\n",
    "191\n",
    "```\n",
    "=== END MARK SCHEME ===  \n",
    "\n",
    "Now, redirect the counted number as a saved `file_number.txt` file to the `new_folder` directory. What happens to the file if you repeat the same task, but exclude the pipe (name this `file_list.txt` so you can compare)?  \n",
    "_Note: Insert cells below for your code and answer._  \n",
    "=== BEGIN MARK SCHEME ===  \n",
    "```ruby\n",
    "%%bash\n",
    "ls data/tmp/*.txt | wc -l > data/new_folder/file_number.txt\n",
    "ls data/tmp/*.txt > data/new_folder/file_list.txt\n",
    "```\n",
    "=== END MARK SCHEME ===  \n",
    "\n",
    "How do your scripts compare or differ, either in input (command) or output?  \n",
    "_Note: Insert cells below for your code and answer._"
   ]
  },
  {
   "cell_type": "markdown",
   "metadata": {
    "nbgrader": {
     "grade": false,
     "grade_id": "cell-6c262fbd792007e8",
     "locked": true,
     "schema_version": 3,
     "solution": false,
     "task": false
    }
   },
   "source": [
    "### A1.bb: Affirming what you learned in Week 1 [20-30 min, assignment] Individual"
   ]
  },
  {
   "cell_type": "markdown",
   "metadata": {
    "nbgrader": {
     "grade": false,
     "grade_id": "cell-0707e5dd07851e1b",
     "locked": true,
     "points": 1,
     "schema_version": 3,
     "solution": false,
     "task": true
    }
   },
   "source": [
    "#### Question 9 (1 point)\n",
    "What is the distinction between an absolute vs relative file path? Script an example of these two comparison along with a brief written answer.  \n",
    "_Note: Insert cells below for your code and answer._  \n",
    "=== BEGIN MARK SCHEME ===  \n",
    "```ruby\n",
    "%%bash\n",
    "cd data/tmp/\n",
    "pwd\n",
    "cd .\n",
    "pwd\n",
    "``` \n",
    "```\n",
    "/Users/sulhasan/Downloads/HW-Keys/data/tmp\n",
    "/Users/sulhasan/Downloads/HW-Keys/data/tmp\n",
    "```\n",
    "=== END MARK SCHEME ===  \n",
    "\n",
    "What are 3 ways you can extend the __`ls`__ command to give you more information, and what do they give?  \n",
    "_Note: Insert cells below for your code and answer._  \n",
    "=== BEGIN MARK SCHEME ===  \n",
    "```ruby\n",
    "%%bash\n",
    "ls data/tmp/\n",
    "ls -F data/tmp/\n",
    "ls -a data/tmp/\n",
    "man ls\n",
    "``` \n",
    "=== END MARK SCHEME ===  "
   ]
  },
  {
   "cell_type": "markdown",
   "metadata": {
    "nbgrader": {
     "grade": false,
     "grade_id": "cell-0707e5dd07851e1c",
     "locked": true,
     "points": 1,
     "schema_version": 3,
     "solution": false,
     "task": true
    }
   },
   "source": [
    "#### Question 10 (1 point)\n",
    "Create a file named `test.txt`, move it into the `new_folder`, then delete the file.  \n",
    "_Note: Insert cells below for your code and answer._  \n",
    "=== BEGIN MARK SCHEME ===  \n",
    "```ruby\n",
    "%%bash\n",
    "touch data/new_folder/test.txt\n",
    "rm data/new_folder/test.txt\n",
    "``` \n",
    "=== END MARK SCHEME ===  \n",
    "\n",
    "Create a sorted file artists (alphabetical order) from `artists.txt` labeled as `artists_sorted.txt` and place it in the `new_folder`. Then identify the number of unique artists in that file.   \n",
    "_Note: Insert cells below for your code and answer._  \n",
    "=== BEGIN MARK SCHEME ===  \n",
    "```ruby\n",
    "%%bash\n",
    "sort data/art/artists.txt > data/new_folder/artists_sorted.txt\n",
    "uniq -c data/new_folder/artists_sorted.txt\n",
    "``` \n",
    "=== END MARK SCHEME ===  "
   ]
  },
  {
   "cell_type": "markdown",
   "metadata": {
    "nbgrader": {
     "grade": false,
     "grade_id": "cell-6a0f3f735605085",
     "locked": true,
     "points": 1,
     "schema_version": 3,
     "solution": false,
     "task": true
    }
   },
   "source": [
    "#### Question 11 (1 point)\n",
    "Use __`nano`__ in your terminal (not jupyter notebook) to create a bash script titled `print_names.sh` that echos any name entered in a list of 4 names (3 of the names are fixed, the 4th is not). Move the script to `new_folder`, then run it. Take a screenshot of the input to run the script and output. Briefly explain why you have to do this on terminal, and can't run this on your Jupyter notebook?   \n",
    "_Note: Insert cells below for your code and answer._  \n",
    "=== BEGIN MARK SCHEME ===  \n",
    "```ruby\n",
    "%%bash\n",
    "cat print_names.sh\n",
    "```\n",
    "```\n",
    "# !/usr/bin/env bash\n",
    "# Filename: print_names.sh\n",
    "\n",
    "echo \"Please type in your name:\"\n",
    "read new_name\n",
    "\n",
    "echo \"Alice\"\n",
    "echo \"Bob\"\n",
    "echo \"Cathy\"\n",
    "echo $new_name\n",
    "```\n",
    "=== END MARK SCHEME ==="
   ]
  },
  {
   "cell_type": "markdown",
   "metadata": {
    "nbgrader": {
     "grade": false,
     "grade_id": "cell-48971fe0ad961c93",
     "locked": true,
     "points": 1,
     "schema_version": 3,
     "solution": false,
     "task": true
    }
   },
   "source": [
    "#### Question 12 (1 point)\n",
    "Use __`nano`__ to create your own script that uses 2 commands we've used and 1 command we haven't yet used (3 total, but you can include more if you'd like) that answers another question you have about the contents of the `artists.txt` file. Label this script as `artist_text.sh` and place it in `new_folder`. Describe what it does, and how.   \n",
    "_Note: Insert cells below for your code and answer._\n",
    "\n",
    "Reflections: On an integer scale of `1-5`, `1` being very easy and `5` being the most difficult, where would you rank the A1.bb assignment and why? Include some notes about what you gained from this past week that you didn't know before as well as notes of things you already knew.\n",
    "\n",
    "Improvements: Notice a [potentially intentional] mistake, or an area of this homework that could have been improved? Include your thoughts here. "
   ]
  }
 ],
 "metadata": {
  "celltoolbar": "Create Assignment",
  "kernelspec": {
   "display_name": "Python 3",
   "language": "python",
   "name": "python3"
  },
  "language_info": {
   "codemirror_mode": {
    "name": "ipython",
    "version": 3
   },
   "file_extension": ".py",
   "mimetype": "text/x-python",
   "name": "python",
   "nbconvert_exporter": "python",
   "pygments_lexer": "ipython3",
   "version": "3.6.3"
  }
 },
 "nbformat": 4,
 "nbformat_minor": 4
}
