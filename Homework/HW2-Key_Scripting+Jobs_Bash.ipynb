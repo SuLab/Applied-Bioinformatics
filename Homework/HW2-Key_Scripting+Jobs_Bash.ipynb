{
 "cells": [
  {
   "cell_type": "markdown",
   "metadata": {
    "nbgrader": {
     "grade": false,
     "grade_id": "cell-8531b0dab318b0d2",
     "locked": true,
     "schema_version": 3,
     "solution": false,
     "task": false
    }
   },
   "source": [
    "# Homework 2: Scripting and Jobs (Bash, cnt'd)\n",
    "Curated by Sabah Ul-Hasan, Huitian Dao, Shang-Fu Chen, Karthik Gangavarapu, and Andrew Su\n",
    "\n",
    "Complete homework is due every Tuesday at 8 AM PST.<br>\n",
    "Save your homework as you go, so the efforts don't get lost. <br>\n",
    "Note there are up 12 points, but you can only receive 10 points total for homework.\n",
    "\n",
    "In this assignment, you will <br>\n",
    "A2.aa Refresh your understanding of bash<br>\n",
    "A2.ab Explore pipes in-depth (+awk) <br>\n",
    "A2.ba Familiarize yourself with loops <br>\n",
    "A2.bb Compile what you've learned as a script <br>\n",
    "\n",
    "Note that there is a section at the end (A2.bb) to point out any enhancements you personally would make to this assignment if you were to lead the course. "
   ]
  },
  {
   "cell_type": "markdown",
   "metadata": {
    "nbgrader": {
     "grade": false,
     "grade_id": "cell-e3c9da73e2811a39",
     "locked": true,
     "schema_version": 3,
     "solution": false,
     "task": false
    }
   },
   "source": [
    "## A2.aa: Refresh understanding of bash [20-30 min] Group of 4 "
   ]
  },
  {
   "cell_type": "markdown",
   "metadata": {
    "nbgrader": {
     "grade": false,
     "grade_id": "cell-c2f549622733ffcc",
     "locked": true,
     "points": 1,
     "schema_version": 3,
     "solution": false,
     "task": true
    }
   },
   "source": [
    "#### Question 1 (1 point) [5 min]\n",
    "In your group, identify four items you each considered to be the most difficult part of Homework 1. Then, break into pairs based on who in the group found it easier to navigate vs harder to navigate. In other words, pair yourself with someone who better understood what you found difficult and vice versa. Denote what these sections are below as a,b,c,or d."
   ]
  },
  {
   "cell_type": "markdown",
   "metadata": {
    "nbgrader": {
     "grade": false,
     "grade_id": "cell-33e455f553bdbc47",
     "locked": true,
     "points": 1,
     "schema_version": 3,
     "solution": false,
     "task": true
    }
   },
   "source": [
    "#### Question 2 (1 point) [10 min, 15 min]\n",
    "Spend time discussing your troubleshooting process of working through what the other person found as difficult with one another. Write down what you learned. What was the before vs after result?\n",
    "Then, share as a whole group. Write down what you gained from the discussion in how you will be approaching bash scripting differently than you would do before."
   ]
  },
  {
   "cell_type": "markdown",
   "metadata": {
    "nbgrader": {
     "grade": false,
     "grade_id": "cell-0948135824f7008f",
     "locked": true,
     "schema_version": 3,
     "solution": false,
     "task": false
    }
   },
   "source": [
    "## A2.aa: Explore pipes in-depth (+awk) [20-30 min] TPS \n",
    "- On your own time, try the following exercises [10-15 min]"
   ]
  },
  {
   "cell_type": "markdown",
   "metadata": {
    "nbgrader": {
     "grade": false,
     "grade_id": "cell-1ff35e1dfe3e898b",
     "locked": true,
     "points": 1,
     "schema_version": 3,
     "solution": false,
     "task": true
    }
   },
   "source": [
    "#### Question 3 (1 point)\n",
    "Describe your current understanding of pipes. What are the various approaches, where does __`awk`__ come into play?\n",
    "\n",
    "=== BEGIN MARK SCHEME ===  \n",
    "- Pipe is used to connect STDOUT to STDIN  \n",
    "- __`awk`__ can be used to process text files, especially delimited files based on seperated fields.  \n",
    "\n",
    "=== END MARK SCHEME ===\n",
    "\n",
    "Find the error and fix to run the script. Describe the error in a sentence. What is `{print $3}` doing? Describe what awk is doing this, and its limitations in recognizing delimiters (Hint: tab). \n",
    "\n",
    "```ruby\n",
    "%%bash\n",
    "awk '{print $3}' data/new_folder/artists_new.txt\n",
    "```\n",
    "\n",
    "=== BEGIN MARK SCHEME ===  \n",
    "```ruby\n",
    "%%bash\n",
    "# Need to set the field seperator as tab\n",
    "awk -F \"\\t\" '{print $3}' data/new_folder/artists_new.txt\n",
    "```\n",
    "=== END MARK SCHEME ==="
   ]
  },
  {
   "cell_type": "markdown",
   "metadata": {
    "nbgrader": {
     "grade": false,
     "grade_id": "cell-a1d79798122352a1",
     "locked": true,
     "points": 1,
     "schema_version": 3,
     "solution": false,
     "task": true
    }
   },
   "source": [
    "#### Question 4 (1 point) [10-15 min]\n",
    "Use __`awk`__, __`sort`__, and/or __`uniq`__ to find the most common last names among all artists in `artists.txt`  \n",
    "Now, discuss your findings with your partner. What was similar, and what was different?\n",
    "\n",
    "=== BEGIN MARK SCHEME ===  \n",
    "```ruby\n",
    "%%bash\n",
    "# 3\n",
    "awk -F \",| \" '{print $1}' data/new_folder/artists_new.txt | uniq -c | sort -r | head\n",
    "```\n",
    "```\n",
    "      5 KOBELL\n",
    "      5 KNIP\n",
    "      4 KONINCK\n",
    "      4 ALBERTI\n",
    "      4 ADAM\n",
    "      3 TENIERS\n",
    "      3 TARAVAL\n",
    "      3 AGOSTINO\n",
    "      3 AGNOLO\n",
    "      2 TESSIN\n",
    "```\n",
    "=== END MARK SCHEME ==="
   ]
  },
  {
   "cell_type": "markdown",
   "metadata": {
    "nbgrader": {
     "grade": false,
     "grade_id": "cell-4e1133a9dd69b7b5",
     "locked": true,
     "schema_version": 3,
     "solution": false,
     "task": false
    }
   },
   "source": [
    "On your own: "
   ]
  },
  {
   "cell_type": "markdown",
   "metadata": {
    "nbgrader": {
     "grade": false,
     "grade_id": "cell-300b78e3db68717f",
     "locked": true,
     "points": 1,
     "schema_version": 3,
     "solution": false,
     "task": true
    }
   },
   "source": [
    "#### Question 5 (1 point)\n",
    "Now that we've worked through these in pairs, create a bash script that integrates two items we haven't yet tried in the exercises, such as __`NF`__, to answer a question about the `artists.txt` file. Describe briefly what this does. Have this complete pior to next class.\n",
    "\n",
    "=== BEGIN MARK SCHEME ===  \n",
    "__Example:__  Using different field seperators, find out how many rows have certain number of columns\n",
    "\n",
    "\n",
    "```ruby\n",
    "%%bash\n",
    "awk -F '\\t' '{print NF}' data/new_folder/artists_new.txt | sort | uniq -c\n",
    "```\n",
    "```\n",
    "150 4\n",
    "```\n",
    "\n",
    "```ruby\n",
    "%%bash\n",
    "awk -F ',' '{print NF}' data/new_folder/artists_new.txt | sort | uniq -c\n",
    "```\n",
    "```\n",
    "  10 1\n",
    " 128 2\n",
    "  12 3\n",
    "```\n",
    "=== END MARK SCHEME ===\n",
    "\n",
    "Reflections: On an integer scale of 1-5, 1 being very easy and 5 being the most difficult, where would you rank today's exercises? Provide brief notes on what was easy vs difficult, and why.  \n",
    "\n",
    "=== BEGIN MARK SCHEME ===  \n",
    "\n",
    "=== END MARK SCHEME ==="
   ]
  },
  {
   "cell_type": "markdown",
   "metadata": {
    "nbgrader": {
     "grade": false,
     "grade_id": "cell-e30a29557264afab",
     "locked": true,
     "schema_version": 3,
     "solution": false,
     "task": false
    }
   },
   "source": [
    "## A2.ba: Loops [20-30 min] Group of 3\n",
    "### ba.i Loops [10 min]\n",
    "On your own"
   ]
  },
  {
   "cell_type": "markdown",
   "metadata": {
    "nbgrader": {
     "grade": false,
     "grade_id": "cell-6a789383b1f6dddd",
     "locked": true,
     "points": 1,
     "schema_version": 3,
     "solution": false,
     "task": true
    }
   },
   "source": [
    "#### Question 6 (1 point)\n",
    "Describe how a loop operates. Why and when do you want to use a loop, vs a single command string?\n",
    "\n",
    "=== BEGIN MARK SCHEME ===  \n",
    "\n",
    "__Loop:__\n",
    "1. A sequence of instructions to be repeated until a certain condition is reached\n",
    "1. Why: to conveniently repeat instructions\n",
    "1. When: when an instruction need to be executed repeatedly and the condition for ending executioncan be described  \n",
    "\n",
    "=== END MARK SCHEME ===\n",
    "\n",
    "Write a bash for loop that outpouts letters a-e\n",
    "\n",
    "=== BEGIN MARK SCHEME ===  \n",
    "```ruby\n",
    "%%bash\n",
    "# 2\n",
    "for i in {a..e}\n",
    "do\n",
    "  echo $i\n",
    "done\n",
    "```\n",
    "```\n",
    "a\n",
    "b\n",
    "c\n",
    "d\n",
    "e\n",
    "```\n",
    "=== END MARK SCHEME ==="
   ]
  },
  {
   "cell_type": "markdown",
   "metadata": {
    "nbgrader": {
     "grade": false,
     "grade_id": "cell-8707f4ad4abb75b7",
     "locked": true,
     "points": 1,
     "schema_version": 3,
     "solution": false,
     "task": true
    }
   },
   "source": [
    "#### Question 7 (1 point)\n",
    "What are the different types of loops, and when might you want to try one over another? Script an example.\n",
    "\n",
    "=== BEGIN MARK SCHEME ===  \n",
    "1. __For loop__\n",
    "\n",
    "```ruby\n",
    "%%bash\n",
    "# For / While / Util\n",
    "\n",
    "for i in {1..3}\n",
    "do\n",
    "  echo ${i}\n",
    "done\n",
    "```\n",
    "```\n",
    "1\n",
    "2\n",
    "3\n",
    "```\n",
    "\n",
    "2. __While loop__\n",
    "\n",
    "```ruby\n",
    "%%bash\n",
    "i=0\n",
    "\n",
    "while [ ${i} -lt 3 ]\n",
    "do\n",
    "  echo ${i}\n",
    "  i=$((i+1))\n",
    "done\n",
    "```\n",
    "```\n",
    "0\n",
    "1\n",
    "2\n",
    "```\n",
    "\n",
    "3. __Until loop__  \n",
    "\n",
    "```ruby\n",
    "%%bash\n",
    "i=0\n",
    "\n",
    "until [ ${i} -gt 3 ]\n",
    "do\n",
    "  echo ${i}\n",
    "  i=$((i+1))\n",
    "done\n",
    "```\n",
    "```\n",
    "0\n",
    "1\n",
    "2\n",
    "3\n",
    "```\n",
    "\n",
    "=== END MARK SCHEME ==="
   ]
  },
  {
   "cell_type": "markdown",
   "metadata": {
    "nbgrader": {
     "grade": false,
     "grade_id": "cell-fe05faaf91b75713",
     "locked": true,
     "schema_version": 3,
     "solution": false,
     "task": false
    }
   },
   "source": [
    "### A2.bb: Create a script to run a job [20-30 min] Individual\n",
    "Get excited, we're about to apply what we've learned from a technical perspective to the science-y stuff! Familiar with 'fasta files' from NCBI? Here we go!\n",
    "https://blast.ncbi.nlm.nih.gov/Blast.cgi?CMD=Web&PAGE_TYPE=BlastDocs&DOC_TYPE=BlastHelp\n",
    "\n",
    "#### bb.i Applying what we've learned on bash to biology <br>"
   ]
  },
  {
   "cell_type": "markdown",
   "metadata": {
    "nbgrader": {
     "grade": false,
     "grade_id": "cell-ddee5afbc0429aee",
     "locked": true,
     "points": 1,
     "schema_version": 3,
     "solution": false,
     "task": true
    }
   },
   "source": [
    "#### Question 8 (1 point)\n",
    "In your \"Applied-Bioinformatics_Course\" Github repository, create a folder titled \"HW2_[Lastname]\"  \n",
    "_Note: Always check that you're in the correct working directory_\n",
    "\n",
    "Create a bash loop that renames all the files in the folder data/fastq folder from `*.fq` to `*.fastq`  \n",
    "_Note: Have all these files copied and moved into the `new_folder` directory so as not to overwrite the original `*.fq`_\n",
    "\n",
    "=== BEGIN MARK SCHEME ===  \n",
    "```ruby\n",
    "%%bash\n",
    "# 2\n",
    "\n",
    "cp -R data/fastq data/new_folder\n",
    "pwd\n",
    "cd data/new_folder/fastq\n",
    "\n",
    "for i in *.fq\n",
    "do\n",
    "  mv $i ${i/.fq/.fastq} \n",
    "done\n",
    "```\n",
    "```\n",
    "/Users/sulhasan/Downloads/HW-Keys\n",
    "```\n",
    "=== END MARK SCHEME ==="
   ]
  },
  {
   "cell_type": "markdown",
   "metadata": {
    "nbgrader": {
     "grade": false,
     "grade_id": "cell-24812d415f3fdeac",
     "locked": true,
     "points": 1,
     "schema_version": 3,
     "solution": false,
     "task": true
    }
   },
   "source": [
    "#### Question 9 (1 point)\n",
    "Print all nucleotide sequences from ./data/fastq/simulated1.R1.fastq by replacing all 'T's in the nucleotide sequences with 'U's\n",
    "\n",
    "=== BEGIN MARK SCHEME ===  \n",
    "```ruby\n",
    "%%bash\n",
    "cat data/new_folder/fastq/simulated1.R1.fastq | awk \"NR%4==2\" | tr T U\n",
    "```\n",
    "```\n",
    "UGGGAAAACCAGGAGAGUUCUUCCUGAAAUAGUCCGUGAAGCCAUAAAAAGAAGACUCCGUACUGUGAUC\n",
    "ACUUACCAUUUGUCAUGGCCCUGGGACUAACCGCUGUGAGGCUGGUCGACCCGAUCAACGUGGUGGGACU\n",
    "GCCAGACAACCCCGUUUAUUAGAGAGGACGCUGACCCUUGUGUGGGGGCCUCAUAGCUUCCAUGGUAAGC\n",
    "CUCUAAGCUGAUGCUGGAACUUGAUCCACCAUUUGGGGACUCUUACAUUGUCAUAGGAGUCGGGGAGAAG\n",
    "GGCAUCACCGAGGUGUGCAGAGAAGAGGCCCGCCGCGCCCUCAAGGACGGUGUGGCAACGGGAGGCCAUG\n",
    "GAGAUUGCCCGUGCCUGUGAACGAGCUGCCCCACGGGUGGAAGGCUUUGGGGAAAUCGUAUUUCGUCAGA\n",
    "AUACCAUCAUCCCAGGCUUGCUUGACUGCUGCUGGCAAUCUACGGGGGGAGUCAGGAUGGUACUUGUACC\n",
    "UUCUUCUUCACACUGCCUUUUCCCUUCAGAGAGAGGAGCAAAAACCCCCCGCAAGUAGCAAGGCCUGCUC\n",
    "GAAAGAUCUGGCUGCCAAGCUGAGAAUAAUCAAUGCUAGGAAGGAGAAGAAGAGACGAGGCGCAGAUACU\n",
    "GUUUUCAAGGAAAAAGUGGACACUAGGGUGCCAGACCCCCAAGAAGGCACUCGUCAGGUUAUGAGCAUGG\n",
    "ACAUGCAAACUCUGACCCCAGUUGGGAGGUUGAUAACCGCUAACCCCGUACUCACUGAAAGCACUGAGAA\n",
    "GGCUUGAAAAAAGACCAGGAGCCUUUUGUAUAAAAGUGUUGUGCCCAUACACCAGCACUAUGCUGGAAAC\n",
    "UCUUUUCUCUUUUUCCCAUCAUGUUGUACACACAGCUCUGGCACUCUCCUCUCAGGUGGUGCACUCUUUG\n",
    "CACUGAUUUGAAAGGUGCUCCAAAAAUUUGAUGGAUGCGCUUGCCCAAUGAGUUGAGAGCGCCUCCAACU\n",
    "CUUUUCCGCUCCCCCUUUGGUCUUGUCUCGAAAUAAUGUCCAUAACUGUUUUCCCUUUUUCAGCUGGUCU\n",
    "UAGAGUUCUCAGUUCUUUCAGUGAUUACGGGGUUAGCUGUUAUCAACCUCCCAACUGGGGUCAGAGUUUG\n",
    "ACUCUUAAUACGGACUAUGAUCCACCCAUAGCUUUGCACCAACACGGGUUCUUCAUGACCAGGGCCUCCU\n",
    "CCAGCCAGAAUUGCAUGUGUCCACAUUGUUGUGUUCCUAUUGCUGGUGGUGCUCAUACCUGAGCCAGAAA\n",
    "GAAUGACUCUCUCGCCAUCAAGAAUGACCGGCUUUAGGCAUCUCCUGGAAUCUAUGACACGGUCAGCUUU\n",
    "UUGAACGAGGAUCACUGGAUGUGGAGAUAGAACACAGGAGGUGGUGUUUAAGGGCUGGGAUUACAAAGAC\n",
    "```\n",
    "=== END MARK SCHEME ==="
   ]
  },
  {
   "cell_type": "markdown",
   "metadata": {
    "nbgrader": {
     "grade": false,
     "grade_id": "cell-d806d7b7c1a25af3",
     "locked": true,
     "points": 1,
     "schema_version": 3,
     "solution": false,
     "task": true
    }
   },
   "source": [
    "#### Question 10 (1 point)\n",
    "Create a bash loop that renames all the files in the folder data/fastq folder from `*.fq` to `*.fastq`  \n",
    "_Note: Have all these files copied and moved into the `new_folder` directory so as not to overwrite the original `*.fq`_\n",
    "\n",
    "=== BEGIN MARK SCHEME ===  \n",
    "```ruby\n",
    "%%bash\n",
    "\n",
    "cp -R data/fastq data/new_folder\n",
    "pwd\n",
    "cd data/new_folder/fastq\n",
    "\n",
    "for i in *.fq\n",
    "do\n",
    "  mv $i ${i/.fq/.fastq} \n",
    "done\n",
    "```\n",
    "```\n",
    "/Users/sulhasan/Downloads/HW-Keys\n",
    "```\n",
    "=== END MARK SCHEME ==="
   ]
  },
  {
   "cell_type": "markdown",
   "metadata": {
    "nbgrader": {
     "grade": false,
     "grade_id": "cell-383a0643090d29f1",
     "locked": true,
     "schema_version": 3,
     "solution": false,
     "task": false
    }
   },
   "source": [
    "#### Question 11 (1 point) <br>\n",
    "Reflections: On an integer scale of 1-5, 1 being very easy and 5 being the most difficult, where would you rank the A2.bb assignment and why? Include some notes about what you gained from this past week that you didn't know before as well as notes of things you already knew. \n",
    "\n",
    "Improvements: Notice a [potentially intentional] mistake, or an area of this homework that could have been improved? Include your thoughts here. "
   ]
  }
 ],
 "metadata": {
  "celltoolbar": "Create Assignment",
  "kernelspec": {
   "display_name": "Python 3",
   "language": "python",
   "name": "python3"
  },
  "language_info": {
   "codemirror_mode": {
    "name": "ipython",
    "version": 3
   },
   "file_extension": ".py",
   "mimetype": "text/x-python",
   "name": "python",
   "nbconvert_exporter": "python",
   "pygments_lexer": "ipython3",
   "version": "3.6.3"
  }
 },
 "nbformat": 4,
 "nbformat_minor": 4
}
